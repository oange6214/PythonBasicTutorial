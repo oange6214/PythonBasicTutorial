{
 "cells": [
  {
   "attachments": {},
   "cell_type": "markdown",
   "metadata": {},
   "source": [
    "# 字典 dictionary\n",
    "\n",
    "字典 ( dictionary )跟串列類似，都能作為儲存資料的容器，可以放入字串、整數、布林、串列或字典，顧名思義就像「查詢用的字典」一樣，透過要查詢的「鍵 key」( 關鍵字 )，就能夠查詢到對應的「值 value」( 解釋說明 )，也是使用頻率相當高的資料型態。"
   ]
  },
  {
   "attachments": {},
   "cell_type": "markdown",
   "metadata": {},
   "source": [
    "## 建立字典 \n",
    "\n",
    "建立字典有兩種方法，建立時**必須要包含「鍵 key」和「值 value」兩個項目**，鍵在左側，值在右側。\n",
    "\n",
    "`字典和串列的差別在於串列有「順序性」，串列中的項目都有各自的索引值 offset，但字典中的項目沒有順序性，是按照鍵 key 的位置來做紀錄。`"
   ]
  },
  {
   "attachments": {},
   "cell_type": "markdown",
   "metadata": {},
   "source": [
    "大括號 {}\n",
    "\n",
    "使用大括號建立字典是最常見的建立字典方式，使用方式為「{'鍵':值}」，鍵必須是「字串」，前後必須加上「引號」，值則可以是任意的 Python 物件 ( 字串、數字、串列、字典...等 )，不同鍵值中間使用逗號「,」分隔。\n",
    "\n",
    "下方的程式碼，第一個鍵為 name 值為字串 oxxo，第二個鍵為 age 值為數字 18，第三個鍵為 eat 值為串列，最後印出 a 的 type 型別是 dict 字典。"
   ]
  },
  {
   "cell_type": "code",
   "execution_count": null,
   "metadata": {},
   "outputs": [],
   "source": [
    "a = {'name':'oxxo','age':18,'eat':['apple','banana']}\n",
    "print(type(a));    # <class 'dict'>"
   ]
  },
  {
   "attachments": {},
   "cell_type": "markdown",
   "metadata": {},
   "source": [
    "單純只要使用大括號，可以建立一個空的字典。"
   ]
  },
  {
   "cell_type": "code",
   "execution_count": null,
   "metadata": {},
   "outputs": [],
   "source": [
    "a = {}\n",
    "print(type(a));   # <class 'dict'>"
   ]
  }
 ],
 "metadata": {
  "kernelspec": {
   "display_name": "Python 3",
   "language": "python",
   "name": "python3"
  },
  "language_info": {
   "codemirror_mode": {
    "name": "ipython",
    "version": 3
   },
   "file_extension": ".py",
   "mimetype": "text/x-python",
   "name": "python",
   "nbconvert_exporter": "python",
   "pygments_lexer": "ipython3",
   "version": "3.11.2"
  },
  "orig_nbformat": 4
 },
 "nbformat": 4,
 "nbformat_minor": 2
}
