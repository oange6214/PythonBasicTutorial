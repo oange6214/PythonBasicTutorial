{
 "cells": [
  {
   "attachments": {},
   "cell_type": "markdown",
   "metadata": {},
   "source": [
    "# 數字 number\n",
    "「數字」就是我們常見的阿拉伯數字，但在 Python 裡，數字又分成「整數」、「浮點數」( 小數 ) 和「底數」，數字可以進行各種數學式的運算，也可以進行各種邏輯比較、時間表達等以數字為主的運算。\n"
   ]
  },
  {
   "attachments": {},
   "cell_type": "markdown",
   "metadata": {},
   "source": [
    "## 整數 \n",
    "整數 integer，表示沒有分數或小數點的十進位數字，使用 type 查看整數的「型別」，可以得到「int」的型別。"
   ]
  },
  {
   "cell_type": "code",
   "execution_count": 1,
   "metadata": {},
   "outputs": [
    {
     "data": {
      "text/plain": [
       "int"
      ]
     },
     "execution_count": 1,
     "metadata": {},
     "output_type": "execute_result"
    }
   ],
   "source": [
    "type(5)  # int"
   ]
  },
  {
   "attachments": {},
   "cell_type": "markdown",
   "metadata": {},
   "source": [
    "整數可以透過下方數學式進行一般的算數計算，並依循「先乘除後加減」的規則。\n",
    "\n",
    "| 算子 |           說明            | 範例  | 結果 |\n",
    "|:----:|:-----------------------:|:-----:|:----:|\n",
    "|  +   |           加法            |  1+2  |  3   |\n",
    "|  -   |           減法            | 20-12 |  8   |\n",
    "|  *   |           乘法            |  2*3  |  6   |\n",
    "|  /   |           除法            |  9/2  | 4.5  |\n",
    "|  //  | 除法取整數 ( 無條件捨去 ) | 9//2  |  4   |\n",
    "|  %   |           餘數            |  9%2  |  1   |\n",
    "|  **  |           次方            | 2**3  |  8   |"
   ]
  },
  {
   "cell_type": "code",
   "execution_count": 2,
   "metadata": {},
   "outputs": [
    {
     "data": {
      "text/plain": [
       "10"
      ]
     },
     "execution_count": 2,
     "metadata": {},
     "output_type": "execute_result"
    }
   ],
   "source": [
    "3 + 2          # 5\n",
    "3 + 2 * 2      # 7\n",
    "( 3 + 2 ) * 2  # 10"
   ]
  },
  {
   "attachments": {},
   "cell_type": "markdown",
   "metadata": {},
   "source": [
    "如果整數的運算會產生小數點，結果就會轉換成浮點數。"
   ]
  },
  {
   "cell_type": "code",
   "execution_count": 3,
   "metadata": {},
   "outputs": [
    {
     "data": {
      "text/plain": [
       "float"
      ]
     },
     "execution_count": 3,
     "metadata": {},
     "output_type": "execute_result"
    }
   ],
   "source": [
    "type(3/2)  # float"
   ]
  },
  {
   "attachments": {},
   "cell_type": "markdown",
   "metadata": {},
   "source": [
    "進行整數的運算時，需要注意數字的「開頭」不能為 0 ( 除非是「底數」 )，如果整數開頭為 0，執行時會出現錯誤。"
   ]
  },
  {
   "cell_type": "code",
   "execution_count": 4,
   "metadata": {},
   "outputs": [
    {
     "ename": "SyntaxError",
     "evalue": "leading zeros in decimal integer literals are not permitted; use an 0o prefix for octal integers (4018200287.py, line 1)",
     "output_type": "error",
     "traceback": [
      "\u001b[1;36m  Cell \u001b[1;32mIn[4], line 1\u001b[1;36m\u001b[0m\n\u001b[1;33m    03+2\u001b[0m\n\u001b[1;37m    ^\u001b[0m\n\u001b[1;31mSyntaxError\u001b[0m\u001b[1;31m:\u001b[0m leading zeros in decimal integer literals are not permitted; use an 0o prefix for octal integers\n"
     ]
    }
   ],
   "source": [
    "03+2"
   ]
  },
  {
   "attachments": {},
   "cell_type": "markdown",
   "metadata": {},
   "source": [
    "如果要讓一個數值等於「整數」，可以使用「int 函式」來進行型態的轉換，int 函式也會將小數點的部分無條件捨棄、將數字字串轉換成數字，或將布林值轉換成 1 或 0。"
   ]
  },
  {
   "cell_type": "code",
   "execution_count": null,
   "metadata": {},
   "outputs": [
    {
     "data": {
      "text/plain": [
       "0"
      ]
     },
     "execution_count": 5,
     "metadata": {},
     "output_type": "execute_result"
    }
   ],
   "source": [
    "int(5.1)   # 5\n",
    "int(9/2)   # 4\n",
    "int('5')   # 5\n",
    "int('+2')  # 2\n",
    "int(True)  # 1\n",
    "int(False) # 0"
   ]
  },
  {
   "attachments": {},
   "cell_type": "markdown",
   "metadata": {},
   "source": [
    "int 函式也可以進行二進制、八進制、十六進制的轉換。\n",
    "\n",
    "* 十進制：0～9，當 10 的時候會進一位。\n",
    "* 二進制：只有 1 和 0，當 2 的時候會進一位，變成 10，3 則是 11。\n",
    "* 八進制：0～7，當 8 的時候會進一位，變成 10，9 則是 11。\n",
    "* 十六進制：0～15 ( 10～15 由 A～F 表示 )，當 16 的時候會進一位，變成 10，11 則是 17。"
   ]
  },
  {
   "cell_type": "code",
   "execution_count": null,
   "metadata": {},
   "outputs": [
    {
     "data": {
      "text/plain": [
       "257"
      ]
     },
     "execution_count": 6,
     "metadata": {},
     "output_type": "execute_result"
    }
   ],
   "source": [
    "int('101', 2)  # 5   二進制\n",
    "int('101', 8)  # 65  八進制\n",
    "int('101', 16) # 257 十六進制"
   ]
  },
  {
   "attachments": {},
   "cell_type": "markdown",
   "metadata": {},
   "source": [
    "## 浮點數\n",
    "浮點數 float，表示包含小數點的十進位數字，使用 type 查看整數的「型別」，可以得到「float」的型別，從下方的程式可以看到，只要數值包含了小數點，就算是 1.0 或 0.0，都會是「浮點數 float」的型別 ( 注意，由於計算機有位元數限制，有小數點的數字最多只有 15 位有效數字 )。"
   ]
  },
  {
   "cell_type": "code",
   "execution_count": null,
   "metadata": {},
   "outputs": [
    {
     "data": {
      "text/plain": [
       "float"
      ]
     },
     "execution_count": 10,
     "metadata": {},
     "output_type": "execute_result"
    }
   ],
   "source": [
    "type(5.1) # float\n",
    "type(1.0) # float\n",
    "type(0.0) # float"
   ]
  },
  {
   "attachments": {},
   "cell_type": "markdown",
   "metadata": {},
   "source": [
    "如果使用浮點數和整數進行運算 ( 或和布林值運算 )，得到的結果會是浮點數。"
   ]
  },
  {
   "cell_type": "code",
   "execution_count": null,
   "metadata": {},
   "outputs": [
    {
     "data": {
      "text/plain": [
       "1.0"
      ]
     },
     "execution_count": 11,
     "metadata": {},
     "output_type": "execute_result"
    }
   ],
   "source": [
    "1.0 + 5      # 6.0\n",
    "1.0 + True   # 2.0\n",
    "1.0 + False  # 1.0"
   ]
  },
  {
   "attachments": {},
   "cell_type": "markdown",
   "metadata": {},
   "source": [
    "浮點數可以透過「float 函式」將整數、數字文字或布林值，轉換成浮點數的數字。"
   ]
  },
  {
   "cell_type": "code",
   "execution_count": null,
   "metadata": {},
   "outputs": [
    {
     "data": {
      "text/plain": [
       "0.0"
      ]
     },
     "execution_count": 12,
     "metadata": {},
     "output_type": "execute_result"
    }
   ],
   "source": [
    "\n",
    "float(5)     # 5.0\n",
    "float('5')   # 5.0\n",
    "float('5.1') # 5.1\n",
    "float(True)  # 1.0\n",
    "float(False) # 0.0"
   ]
  },
  {
   "attachments": {},
   "cell_type": "markdown",
   "metadata": {},
   "source": [
    "## 底數\n",
    "底數是在數字的前方，加入 0b、0o 或 0x 的底數，來表示二進制、八進制或十六進制的數字，在「位元級」的模式下，往往是使用二進制、八進制或十六進制進行操作。\n",
    "\n",
    "|   底數   |   代表   |\n",
    "|:-------:|:------:|\n",
    "| 0b 或 0B |  二進制  |\n",
    "| 0o 或 0O |  八進制  |\n",
    "| 0x 或 0X | 十六進制 |"
   ]
  },
  {
   "cell_type": "code",
   "execution_count": null,
   "metadata": {},
   "outputs": [
    {
     "name": "stdout",
     "output_type": "stream",
     "text": [
      "15\n",
      "585\n",
      "4369\n"
     ]
    }
   ],
   "source": [
    "print(0b1111) # 15 ( 二進制 )\n",
    "print(0o1111) # 585 ( 八進制 )\n",
    "print(0x1111) # 4369 ( 十六進制 )"
   ]
  },
  {
   "attachments": {},
   "cell_type": "markdown",
   "metadata": {},
   "source": [
    "## 布林 \n",
    "「布林 Bool」只有 True 和 False 兩個值，通常 True 可以表示為 1，Fasle 可以表示為 0，透過特殊函示 bool() 可以將任何資料型態轉換成布林，布林主要運用在邏輯判斷中，可以根據得到的布林值，作出對應的動作，在之後的許多範例中，都可以看見布林的應用。"
   ]
  },
  {
   "cell_type": "code",
   "execution_count": null,
   "metadata": {},
   "outputs": [
    {
     "data": {
      "text/plain": [
       "True"
      ]
     },
     "execution_count": 16,
     "metadata": {},
     "output_type": "execute_result"
    }
   ],
   "source": [
    "# 下列「非 0 數字」會轉換為 True：\n",
    "bool(True)  # True\n",
    "bool(1)     # True\n",
    "bool('ok')  # True\n",
    "bool(-1)    # True"
   ]
  },
  {
   "cell_type": "code",
   "execution_count": null,
   "metadata": {},
   "outputs": [],
   "source": [
    "# 下列「0 值數字」會轉換為 False：\n",
    "bool(False)  # False\n",
    "bool(0)      # False\n",
    "bool(0.0)    # False"
   ]
  }
 ],
 "metadata": {
  "kernelspec": {
   "display_name": "Python 3",
   "language": "python",
   "name": "python3"
  },
  "language_info": {
   "codemirror_mode": {
    "name": "ipython",
    "version": 3
   },
   "file_extension": ".py",
   "mimetype": "text/x-python",
   "name": "python",
   "nbconvert_exporter": "python",
   "pygments_lexer": "ipython3",
   "version": "3.11.2"
  },
  "orig_nbformat": 4
 },
 "nbformat": 4,
 "nbformat_minor": 2
}
