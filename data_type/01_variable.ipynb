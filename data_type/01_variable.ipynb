{
 "cells": [
  {
   "attachments": {},
   "cell_type": "markdown",
   "metadata": {},
   "source": [
    "# 認識 Python 的變數\n",
    "Python 裡的變數，表示的是「某個物件」的「名稱」，當給予某個變數內容時，其實是將內容放入一個物件中儲存，然後「給這個物件一個變數名稱」。\n",
    "\n",
    "用 =（賦值） 號，左邊寫上變數名，右邊寫上值，就可建立一個新的變數。"
   ]
  },
  {
   "cell_type": "code",
   "execution_count": 3,
   "metadata": {},
   "outputs": [
    {
     "name": "stdout",
     "output_type": "stream",
     "text": [
      "foo\n",
      "18\n",
      "50\n"
     ]
    }
   ],
   "source": [
    "name = 'foo'\n",
    "age = 18\n",
    "height = 50\n",
    "\n",
    "print(name)\n",
    "print(age)\n",
    "print(height)"
   ]
  },
  {
   "attachments": {},
   "cell_type": "markdown",
   "metadata": {},
   "source": [
    "python 的變數會區分不同的類型，不同的類型有著各自對應的方法和可執行的操作，平時使用時應嚴格區分。可以使用 type 方法查看變數對應的類型。"
   ]
  },
  {
   "cell_type": "code",
   "execution_count": 4,
   "metadata": {},
   "outputs": [
    {
     "name": "stdout",
     "output_type": "stream",
     "text": [
      "<class 'str'>\n",
      "<class 'int'>\n",
      "<class 'int'>\n"
     ]
    }
   ],
   "source": [
    "print(type(name))\n",
    "print(type(age))\n",
    "print(type(height))"
   ]
  },
  {
   "attachments": {},
   "cell_type": "markdown",
   "metadata": {},
   "source": [
    "很明顯的，用單引號包裹起來的字符串屬於 string（字符串） 類型。對於數字來說，沒有小數點的屬於 int（整數）類型， 有小數點的則是 float（浮點） 類型。\n",
    "\n",
    "需要注意的是，一個數字如果用單引號包起來，它也屬於字符串類型。"
   ]
  },
  {
   "cell_type": "code",
   "execution_count": 5,
   "metadata": {},
   "outputs": [
    {
     "name": "stdout",
     "output_type": "stream",
     "text": [
      "<class 'str'>\n"
     ]
    }
   ],
   "source": [
    "print(type('123'))"
   ]
  },
  {
   "attachments": {},
   "cell_type": "markdown",
   "metadata": {},
   "source": [
    "## 設定多個變數\n",
    "因為 Python 變數的特性，同樣一個物件可以賦予多個變數名稱，下面的程式碼，執行後，變數 a、b、c 都會是 1。"
   ]
  },
  {
   "cell_type": "code",
   "execution_count": 2,
   "metadata": {},
   "outputs": [
    {
     "name": "stdout",
     "output_type": "stream",
     "text": [
      "1\n",
      "1\n",
      "1\n"
     ]
    }
   ],
   "source": [
    "a = 1\n",
    "b = c = a\n",
    "print(a) # 得到結果 1\n",
    "print(b) # 得到結果 1\n",
    "print(c) # 得到結果 1"
   ]
  },
  {
   "attachments": {},
   "cell_type": "markdown",
   "metadata": {},
   "source": [
    "程式執行順序為：\n",
    "1. 將數字 1 放入一個物件容器。\n",
    "2. 指定這個物件的名稱為 a ( 變數 a = 1 )。\n",
    "3. 讓這個物件名稱也有 b 和 c。\n",
    "4. 印出變數 a、b、c 的內容。"
   ]
  },
  {
   "attachments": {},
   "cell_type": "markdown",
   "metadata": {},
   "source": [
    "如果要一次設定多個變數的名稱和內容，可以使用逗號分隔名稱和內容 ( 注意變數的數量要和賦值的數量相同 )，下面的程式，只用了一行就設定了 a、b、c 三變數。"
   ]
  },
  {
   "cell_type": "code",
   "execution_count": 3,
   "metadata": {},
   "outputs": [
    {
     "name": "stdout",
     "output_type": "stream",
     "text": [
      "1\n",
      "2\n",
      "3\n"
     ]
    }
   ],
   "source": [
    "a, b, c = 1, 2, 3\n",
    "print(a)   # 1\n",
    "print(b)   # 2\n",
    "print(c)   # 3"
   ]
  },
  {
   "attachments": {},
   "cell_type": "markdown",
   "metadata": {},
   "source": [
    "## 設定多個變數的陷阱\n",
    "如果變數的內容是串列、字典或集合，在處理「多個變數同時賦值」時容易會遇到陷阱，因為變數只是「標籤」，當多個變數同時指向一個串列、字典或集合時，只要變數內容被修改 ( 並非使用等號賦值 )，不論這個變數是全域還是區域變數，另外一個變數內容也會跟著更動。"
   ]
  },
  {
   "attachments": {},
   "cell_type": "markdown",
   "metadata": {},
   "source": [
    "下方例子的變數 a 使用 append 的方式「修改」串列內容，就會造成 a 和 b 的內容同時被修改，但如果 c 是使用等號再次「宣告賦值」，c 和 d 就會指向不同的內容。"
   ]
  },
  {
   "cell_type": "code",
   "execution_count": 4,
   "metadata": {},
   "outputs": [
    {
     "name": "stdout",
     "output_type": "stream",
     "text": [
      "[1]\n",
      "[1]\n",
      "[1]\n",
      "[]\n"
     ]
    }
   ],
   "source": [
    "a = []\n",
    "b = a\n",
    "a.append(1)\n",
    "print(a)    # [1]\n",
    "print(b)    # [1]   # 被影響\n",
    "\n",
    "c = []\n",
    "d = c\n",
    "c = [1]\n",
    "print(c)    # [1]\n",
    "print(d)    # []    # 不受影響"
   ]
  },
  {
   "attachments": {},
   "cell_type": "markdown",
   "metadata": {},
   "source": [
    "同樣的原理也可以應用在會被「全域變數和區域變數」影響的函式，下方的例子執行後，foo1 函式的 a 不受作用域的影響，使用 append 發生「改變」後，不論 a 在何處都會被影響，連帶 b 也被影響，但 c 因為是使用等號「宣告賦值」，就會轉變成「區域變數」，因此在 foo1 函式作用域之外的 c 就不會被影響，d 也不會被影響。"
   ]
  },
  {
   "cell_type": "code",
   "execution_count": 5,
   "metadata": {},
   "outputs": [
    {
     "name": "stdout",
     "output_type": "stream",
     "text": [
      "[1]\n",
      "[1]\n",
      "[1]\n",
      "[]\n",
      "[1]\n",
      "[1]\n",
      "[]\n",
      "[]\n"
     ]
    }
   ],
   "source": [
    "a = []\n",
    "b = a\n",
    "c = []\n",
    "d = c\n",
    "\n",
    "def foo1():\n",
    "    a.append(1)\n",
    "    c = [1]\n",
    "    print(a)  # [1]\n",
    "    print(b)  # [1]   # 被影響\n",
    "    print(c)  # [1]\n",
    "    print(d)  # []    # 不受影響\n",
    "\n",
    "def foo2():\n",
    "    print(a)  # [1]   # 被影響\n",
    "    print(b)  # [1]   # 被影響\n",
    "    print(c)  # []    # 不受影響\n",
    "    print(d)  # []    # 不受影響\n",
    "\n",
    "foo1()\n",
    "foo2()"
   ]
  },
  {
   "attachments": {},
   "cell_type": "markdown",
   "metadata": {},
   "source": [
    "## 重新設定變數\n",
    "在同一層的程式裡，變數名稱都是不會重複的，如果重複使用了變數名稱，則會將名稱指派給另外一個物件，下面的程式碼，執行後會印出數字 2 和 1。"
   ]
  },
  {
   "cell_type": "code",
   "execution_count": 6,
   "metadata": {},
   "outputs": [
    {
     "name": "stdout",
     "output_type": "stream",
     "text": [
      "2\n",
      "1\n"
     ]
    }
   ],
   "source": [
    "a = 1\n",
    "b = a\n",
    "a = 2\n",
    "print(a) # 得到結果 2\n",
    "print(b) # 得到結果 1"
   ]
  },
  {
   "cell_type": "code",
   "execution_count": 12,
   "metadata": {},
   "outputs": [
    {
     "name": "stdout",
     "output_type": "stream",
     "text": [
      "2\n",
      "1\n"
     ]
    }
   ],
   "source": [
    "a = 1\n",
    "b = a\n",
    "a = 2\n",
    "print(a) # 得到結果 2\n",
    "print(b) # 得到結果 1"
   ]
  },
  {
   "attachments": {},
   "cell_type": "markdown",
   "metadata": {},
   "source": [
    "執行順序為：\n",
    "1. 將數字 1 放入一個物件容器\n",
    "2. 指定這個物件的名稱為 a\n",
    "3. 讓指定名稱為 a 的物件也有另外一個名稱 b\n",
    "4. 將數字 2 放入一個物件容器，指定這個物件的名稱為 a\n",
    "5. 印出變數 a 和名稱 b 的物件內容"
   ]
  },
  {
   "attachments": {},
   "cell_type": "markdown",
   "metadata": {},
   "source": [
    "## 交換變數名稱\n",
    "在其他程式語言裡，如果想要交換兩個變數的值，通常會用另外一個變數暫存要交換的數值，在 Python 裡可以一次進行多個變數的交換名稱，下方的例子會將 a、b、c 的數值換成 b、c、a。"
   ]
  },
  {
   "cell_type": "code",
   "execution_count": 7,
   "metadata": {},
   "outputs": [
    {
     "name": "stdout",
     "output_type": "stream",
     "text": [
      "1 2 3\n",
      "2 3 1\n"
     ]
    }
   ],
   "source": [
    "a = 1\n",
    "b = 2\n",
    "c = 3\n",
    "print(a, b, c)     # 1, 2, 3\n",
    "a, b, c = b, c, a  # 交換內容\n",
    "print(a, b, c)     # 2, 3, 1"
   ]
  },
  {
   "attachments": {},
   "cell_type": "markdown",
   "metadata": {},
   "source": [
    "同理，如果在變數賦值時，有變數的內容有做運算，同樣會按照交換變數名稱的方法，以當下的變數內容為主，下方的例子雖然按起來很類似，但因為 a 和 b 使用交換變數名稱的方式，因此 a+b 運算時 a 等於 1，而 c 和 d 是按照順序賦值，所以 c+d 時 c 的內容已經改變了。"
   ]
  },
  {
   "cell_type": "code",
   "execution_count": 8,
   "metadata": {},
   "outputs": [
    {
     "name": "stdout",
     "output_type": "stream",
     "text": [
      "2 3\n",
      "2 4\n"
     ]
    }
   ],
   "source": [
    "a = 1\n",
    "b = 2\n",
    "a, b = b, a+b\n",
    "print(a, b)    # 2, 3\n",
    "\n",
    "c = 1\n",
    "d = 2\n",
    "c = d\n",
    "d = c + d\n",
    "print(c, d)    # 2, 4"
   ]
  },
  {
   "attachments": {},
   "cell_type": "markdown",
   "metadata": {},
   "source": [
    "## 變數後方的逗號\n",
    "有時候在瀏覽一些程式時，會遇到宣告變數的後方多了一個「逗號」，在變數後方加上逗號，表示「tuple 的型別轉換」，當 tuple 中「只有一個元素」的時候，變數後方加上逗號，就能將元組型別轉換成文字或數字。"
   ]
  },
  {
   "cell_type": "code",
   "execution_count": 9,
   "metadata": {},
   "outputs": [
    {
     "name": "stdout",
     "output_type": "stream",
     "text": [
      "(1,)\n",
      "1\n",
      "('b',)\n",
      "b\n"
     ]
    }
   ],
   "source": [
    "a = (1, )\n",
    "b = ('b',)\n",
    "c1 = a\n",
    "c2, = a    # 宣告時加上逗號\n",
    "d1 = b\n",
    "d2, = b    # 宣告時加上逗號\n",
    "print(c1)  # (1,)    # 還是 tuple\n",
    "print(c2)  # 1       # 變成數字\n",
    "print(d1)  # ('b',)  # 還是 tuple\n",
    "print(d2)  # b       # 變成文字"
   ]
  },
  {
   "attachments": {},
   "cell_type": "markdown",
   "metadata": {},
   "source": [
    "## 好的變數名稱\n",
    "變數命名需要把握一個重點：「看到變數的名稱，就知道是儲存什麼資料」，因此變數名稱如果取得不好，程式就會難以理解，Python 官方網站提供了以下幾個變數名稱的建議：\n",
    "\n",
    "* 建議使用 Snake case，使用小寫英文字母，例如 score。如果需要組合多個英文單字，可以在單字之間加上底線，例如：english_score。\n",
    "* 如果變數的內容不要被修改（ 其他程式語言稱為「常數」，也就是內容不會改變的數 )，變數名稱建議全部用大寫英文字母，例如 MAX_NUMBER。\n",
    "* 如果變數名稱包含專有名詞，例如 HTTP、APP，就使用原來的大小寫格式，例如 HTTP_port、APP_port。"
   ]
  },
  {
   "cell_type": "code",
   "execution_count": 5,
   "metadata": {},
   "outputs": [
    {
     "name": "stdout",
     "output_type": "stream",
     "text": [
      "1 2 3\n",
      "2 3 1\n"
     ]
    }
   ],
   "source": [
    "a = 1\n",
    "b = 2\n",
    "c = 3\n",
    "\n",
    "print(a, b, c)\t\t# 1, 2, 3\n",
    "a, b, c = b, c, a\t# 交換內容\n",
    "print(a, b, c)\t\t# 2, 3, 1\n"
   ]
  },
  {
   "cell_type": "code",
   "execution_count": null,
   "metadata": {},
   "outputs": [],
   "source": []
  }
 ],
 "metadata": {
  "kernelspec": {
   "display_name": "Python 3",
   "language": "python",
   "name": "python3"
  },
  "language_info": {
   "codemirror_mode": {
    "name": "ipython",
    "version": 3
   },
   "file_extension": ".py",
   "mimetype": "text/x-python",
   "name": "python",
   "nbconvert_exporter": "python",
   "pygments_lexer": "ipython3",
   "version": "3.11.3"
  },
  "orig_nbformat": 4
 },
 "nbformat": 4,
 "nbformat_minor": 2
}
