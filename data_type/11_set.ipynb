{
 "cells": [
  {
   "attachments": {},
   "cell_type": "markdown",
   "metadata": {},
   "source": [
    "# 集合 set\n",
    "\n",
    "集合 ( set ) 就像是「只有鍵，沒有值」的字典，一個集合裡所有的鍵都不會重複，因為集合不會包含重複的資料的特性，常用來進行去除重複的字元、或判斷元素間是否有交集、聯集或差集之類的關聯性。"
   ]
  },
  {
   "attachments": {},
   "cell_type": "markdown",
   "metadata": {},
   "source": [
    "## 建立集合 \n",
    "\n",
    "集合由「數字、字串或布林」所組成，同一個集合裡的項目，可以是不同的型別，建立集合有兩種方式："
   ]
  },
  {
   "attachments": {},
   "cell_type": "markdown",
   "metadata": {},
   "source": [
    "* <font color=#FF6600>set()</font>\n",
    "\n",
    "使用 set() 可以建立空集合，或將串列、tuple、字串或字典轉換為集合，使用的方法為「set(要變成集合的元素)」。\n",
    "\n",
    "`如果建立時出現重複的項目，只會保留一個，如果是字典，只會保留鍵，如果是布林，True 等同 1，False 等同 0。`"
   ]
  },
  {
   "cell_type": "code",
   "execution_count": 1,
   "metadata": {},
   "outputs": [
    {
     "name": "stdout",
     "output_type": "stream",
     "text": [
      "set()\n",
      "{1, 2, 3, 4, 5}\n",
      "{'y', 'x', 'z'}\n",
      "{'e', 'h', 'l', 'o'}\n"
     ]
    }
   ],
   "source": [
    "a = set()\n",
    "b = set([1,2,3,4,5,1,2,3,4,5])\n",
    "c = set({'x':1,'y':2,'z':3})\n",
    "d = set('hello')\n",
    "print(a)   # set()\n",
    "print(b)   # {1, 2, 3, 4, 5}  只留下不重複的部分\n",
    "print(c)   # {'x', 'y', 'z'}  如果是字典，只保留鍵\n",
    "print(d)   # {'l', 'o', 'h', 'e'}  只留下不重複的部分"
   ]
  },
  {
   "attachments": {},
   "cell_type": "markdown",
   "metadata": {},
   "source": [
    "* <font color=#FF6600>set()</font>\n",
    "\n",
    "如果不是空集合，可以使用「{項目}」建立集合 ( 單純寫大括號，會變成「空字典」 )。"
   ]
  },
  {
   "cell_type": "code",
   "execution_count": 2,
   "metadata": {},
   "outputs": [
    {
     "name": "stdout",
     "output_type": "stream",
     "text": [
      "{0, 1, 2, 3, 'b', 'a'}\n"
     ]
    }
   ],
   "source": [
    "a = {0,1,2,3,'a','b',False}\n",
    "print(a)  # {0, 1, 2, 3, 'a', 'b'}  False 等同於 0，所以只保留 0"
   ]
  },
  {
   "attachments": {},
   "cell_type": "markdown",
   "metadata": {},
   "source": [
    "## add() 加入項目\n",
    "\n",
    "使用「集合.add(項目)」可以將某個項目加入集合中，下面的程式會將 x 和 y 兩個文字加入 a 集合。"
   ]
  },
  {
   "cell_type": "code",
   "execution_count": 3,
   "metadata": {},
   "outputs": [
    {
     "name": "stdout",
     "output_type": "stream",
     "text": [
      "{0, 1, 2, 3, 4, 5, 'x', 'y'}\n"
     ]
    }
   ],
   "source": [
    "a = {0,1,2,3,4,5}\n",
    "a.add('x')\n",
    "a.add('y')\n",
    "print(a)   # {0, 1, 2, 3, 4, 5, 'x', 'y'}"
   ]
  },
  {
   "attachments": {},
   "cell_type": "markdown",
   "metadata": {},
   "source": [
    "## 移除項目\n",
    "\n",
    "有兩種方法可以移除集合裡的某個項目："
   ]
  },
  {
   "attachments": {},
   "cell_type": "markdown",
   "metadata": {},
   "source": [
    "* <font color=#FF6600>remove()</font>\n",
    "\n",
    "使用「集合.remove(項目)」，可以將指定的項目移除，不過如果該項目不存在，就會執行錯誤。"
   ]
  },
  {
   "cell_type": "code",
   "execution_count": 4,
   "metadata": {},
   "outputs": [
    {
     "name": "stdout",
     "output_type": "stream",
     "text": [
      "{0, 1, 2, 3, 'y', 'z'}\n"
     ]
    }
   ],
   "source": [
    "a = {0,1,2,3,'x','y','z'}\n",
    "a.remove('x')\n",
    "print(a)   # {0, 1, 2, 3, 'y', 'z'}"
   ]
  },
  {
   "attachments": {},
   "cell_type": "markdown",
   "metadata": {},
   "source": [
    "* <font color=#FF6600>discard()</font>\n",
    "\n",
    "如果不希望在移除項目時發生執行錯誤的狀況，可以使用「集合.discard(項目)」，將指定項目移除"
   ]
  },
  {
   "cell_type": "code",
   "execution_count": 5,
   "metadata": {},
   "outputs": [
    {
     "name": "stdout",
     "output_type": "stream",
     "text": [
      "{0, 1, 2, 3, 'y', 'z'}\n"
     ]
    }
   ],
   "source": [
    "a = {0,1,2,3,'x','y','z'}\n",
    "a.discard('x')\n",
    "a.discard('a')   # 不會發生錯誤\n",
    "print(a)         # {0, 1, 2, 3, 'y', 'z'}"
   ]
  },
  {
   "attachments": {},
   "cell_type": "markdown",
   "metadata": {},
   "source": [
    "## 交集、聯集、差集、對稱差集\n",
    "\n",
    "集合有四種運算型態，分別是「交集、聯集、差集、對稱差集」，透過下圖可以了解四種運算型態。"
   ]
  },
  {
   "attachments": {},
   "cell_type": "markdown",
   "metadata": {},
   "source": [
    "使用集合運算有兩種方法，一種是使用特定的方法，另外一種則是使用「符號」( 集合運算子 )\n",
    "\n",
    "| 集合     | 方法                      | 運算子 |\n",
    "|--------|---------------------------|--------|\n",
    "| 交集     | a.intersection(b)         | a&b    |\n",
    "| 聯集     | a.union(b)                | a｜b    |\n",
    "| 差集     | a.difference(b)           | a-b    |\n",
    "| 對稱差集 | a.symmetric_difference(b) | a^b    |"
   ]
  },
  {
   "attachments": {},
   "cell_type": "markdown",
   "metadata": {},
   "source": [
    "下方的程式，會呈現進行 a 對 b 進行集合運算後的結果。"
   ]
  },
  {
   "cell_type": "code",
   "execution_count": 6,
   "metadata": {},
   "outputs": [
    {
     "name": "stdout",
     "output_type": "stream",
     "text": [
      "{3, 4, 5}\n",
      "{3, 4, 5}\n",
      "{1, 2, 3, 4, 5, 6, 7}\n",
      "{1, 2, 3, 4, 5, 6, 7}\n",
      "{1, 2}\n",
      "{1, 2}\n",
      "{1, 2, 6, 7}\n",
      "{1, 2, 6, 7}\n"
     ]
    }
   ],
   "source": [
    "a = {1, 2, 3, 4, 5}\n",
    "b = {3, 4, 5, 6, 7}\n",
    "\n",
    "# 交集\n",
    "print(a.intersection(b))   # {3, 4, 5}\n",
    "print(a & b)                 # {3, 4, 5}\n",
    "# 聯集\n",
    "print(a.union(b))          # {1, 2, 3, 4, 5, 6, 7}\n",
    "print(a | b)                 # {1, 2, 3, 4, 5, 6, 7}\n",
    "# 差集\n",
    "print(a.difference(b))     # {1, 2}\n",
    "print(a-b)                 # {1, 2}\n",
    "# 對稱差集\n",
    "print(a.symmetric_difference(b))  # {1, 2, 6, 7}\n",
    "print(a ^ b)                        # {1, 2, 6, 7}\n"
   ]
  },
  {
   "attachments": {},
   "cell_type": "markdown",
   "metadata": {},
   "source": [
    "## 子集合、超集合 \n",
    "\n",
    "假設有 A、B 兩個集合，超集合和子集合的關係可以參考下圖：\n",
    "\n",
    "| 集合     | 說明                                            |\n",
    "|--------|-----------------------------------------------|\n",
    "| 超集合   | A 完全包含 B，A 和 B 所包含的元素可能完全相同    |\n",
    "| 真超集合 | A 完全包含 B，且具有 B 沒有的的元素              |\n",
    "| 子集合   | B 完全被 A 包含，A 和 B 所包含的元素可能完全相同 |\n",
    "| 真子集合 | B 完全被 A 包含，且 A 具有 B 沒有的的元素        |"
   ]
  },
  {
   "attachments": {},
   "cell_type": "markdown",
   "metadata": {},
   "source": [
    "下面的程式列出四個集合，使用「大於、小於、等於」可以呈現彼此的關係，從印出的結果可以看到各個集合之間的關係。"
   ]
  },
  {
   "cell_type": "code",
   "execution_count": 7,
   "metadata": {},
   "outputs": [
    {
     "name": "stdout",
     "output_type": "stream",
     "text": [
      "True\n",
      "True\n",
      "True\n",
      "True\n",
      "True\n",
      "False\n"
     ]
    }
   ],
   "source": [
    "a = {1,2,3,4,5,6,7}\n",
    "b = {3,4,5,6,7}\n",
    "c = {1,2,3,4,5,6,7}\n",
    "d = {6,7,8,9}\n",
    "\n",
    "print(a <= a)   # True 自己是自己的子集合\n",
    "print(b <= a)   # True b 是 a 的子集合\n",
    "print(b < a)    # True b 也是 a 的真子集合 ( 因爲沒有等於，完全包含 )\n",
    "print(c <= a)   # True c 是 a 的子集合\n",
    "print(a <= c)   # True a 也是 c 的子集合\n",
    "print(d < a)    # False d 和 a 沒有子集合或超集合關係"
   ]
  },
  {
   "attachments": {},
   "cell_type": "markdown",
   "metadata": {},
   "source": [
    "此外，使用「b.issubset(a)」方法可以檢測 b 是否為 a 的子集合、「a.issuperset(b)」方法可以檢測 a 是否為 b 的超集合。"
   ]
  },
  {
   "cell_type": "code",
   "execution_count": 8,
   "metadata": {},
   "outputs": [
    {
     "name": "stdout",
     "output_type": "stream",
     "text": [
      "True\n",
      "True\n",
      "True\n",
      "False\n"
     ]
    }
   ],
   "source": [
    "a = {1,2,3,4,5,6,7}\n",
    "b = {3,4,5,6,7}\n",
    "c = {1,2,3,4,5,6,7}\n",
    "d = {6,7,8,9}\n",
    "\n",
    "print(b.issubset(a))     # True b 是 a 的子集合\n",
    "print(a.issuperset(b))   # True a 是 b 的超集合\n",
    "print(c.issubset(a))     # True c 是 a 的子集合\n",
    "print(d.issubset(a))     # Fasle d 不是 a 的子集合"
   ]
  },
  {
   "attachments": {},
   "cell_type": "markdown",
   "metadata": {},
   "source": [
    "## len() 取得長度\n",
    "\n",
    "使用「len(集合)」可以回傳某個集合的長度 ( 有幾個元素 )。"
   ]
  },
  {
   "cell_type": "code",
   "execution_count": 9,
   "metadata": {},
   "outputs": [
    {
     "name": "stdout",
     "output_type": "stream",
     "text": [
      "7\n"
     ]
    }
   ],
   "source": [
    "a = {1,2,3,4,5,6,7}\n",
    "print(len(a))   # 7"
   ]
  },
  {
   "attachments": {},
   "cell_type": "markdown",
   "metadata": {},
   "source": [
    "## in 檢查是否存在\n",
    "\n",
    "使用「元素 in 集合」可以檢查集合中是否存在某個元素，如果存在就是 True，不存在就是 False ( 使用「元素 not in 集合」可以判斷不存在 )。"
   ]
  },
  {
   "cell_type": "code",
   "execution_count": 10,
   "metadata": {},
   "outputs": [
    {
     "name": "stdout",
     "output_type": "stream",
     "text": [
      "True\n",
      "True\n",
      "False\n"
     ]
    }
   ],
   "source": [
    "a = {'a','b','c','d',1,2,3}\n",
    "print('b' in a)    # True\n",
    "print(2 in a)      # True\n",
    "print(99 in a)     # False"
   ]
  }
 ],
 "metadata": {
  "kernelspec": {
   "display_name": "Python 3",
   "language": "python",
   "name": "python3"
  },
  "language_info": {
   "codemirror_mode": {
    "name": "ipython",
    "version": 3
   },
   "file_extension": ".py",
   "mimetype": "text/x-python",
   "name": "python",
   "nbconvert_exporter": "python",
   "pygments_lexer": "ipython3",
   "version": "3.11.2"
  },
  "orig_nbformat": 4
 },
 "nbformat": 4,
 "nbformat_minor": 2
}
