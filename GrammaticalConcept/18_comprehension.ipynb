{
 "cells": [
  {
   "attachments": {},
   "cell_type": "markdown",
   "metadata": {},
   "source": [
    "# 生成式 ( 串列、字典、集合、元組 )\n",
    "\n",
    "生成式 ( Comprehension ) 是 Python 的語法之一，可以運用在可迭代的物件上，只要撰寫一行程式碼就能完成多行的任務，大幅增加程式碼的簡潔性與可讀性，這篇教學將會介紹串列生成式、字典生成式和集合生成式 ( 元組 tuple 並沒有生成式，而是用類似生成式的方式產生 tuple )。"
   ]
  },
  {
   "attachments": {},
   "cell_type": "markdown",
   "metadata": {},
   "source": [
    "## 串列生成式 \n",
    "\n",
    "串列生成式只要撰寫一行程式碼，就能快速產生一個串列，其語法為：\n",
    "\n",
    "`result = [expression for item in iterable]`\n",
    "\n",
    "- result：生成的新串列。\n",
    "- expression：生成的項目。\n",
    "- item：從迭代物件裡取出的項目。\n",
    "- iterable：可迭代的物件。"
   ]
  },
  {
   "attachments": {},
   "cell_type": "markdown",
   "metadata": {},
   "source": [
    "下方的程式碼裡，如果要產生一個 1～9 數字平方的串列，除了可以單純透過 for 迴圈搭配串列，也可以使用串列生成式來實現，串列生成式裡「[j*j for j in range(1,                          10)]」，會依序取出 1～9 的數字，然後提供給最前方的 j，最後生成 jxj 的結果。"
   ]
  },
  {
   "cell_type": "code",
   "execution_count": 12,
   "metadata": {},
   "outputs": [
    {
     "name": "stdout",
     "output_type": "stream",
     "text": [
      "[1, 4, 9, 16, 25, 36, 49, 64, 81]\n",
      "[1, 4, 9, 16, 25, 36, 49, 64, 81]\n"
     ]
    }
   ],
   "source": [
    "# 單純寫法\n",
    "a = []\n",
    "for i in range(1, 10):\n",
    "    a.append(i*i)\n",
    "print(a)      # [1,   4,  9,  16,  25,  36,  49,  64,  81]\n",
    "\n",
    "# 使用串列生成式\n",
    "b = [j*j for j in range(1, 10)]\n",
    "print(b)      # [1,  4,  9,  16,  25,  36,  49,  64,  81]"
   ]
  },
  {
   "cell_type": "markdown",
   "metadata": {},
   "source": [
    "再看一個例子：「有一個 a 串列，接著要建立一個 b 串列，b 串列每個內容項目是 a 串列的最大值減去其他項目的值」，這時使用串列生成式，整個程式碼就會變得非常簡潔。"
   ]
  },
  {
   "cell_type": "code",
   "execution_count": 13,
   "metadata": {},
   "outputs": [
    {
     "name": "stdout",
     "output_type": "stream",
     "text": [
      "[80, 70, 60, 50, 40, 30, 20, 10, 0]\n",
      "[80, 70, 60, 50, 40, 30, 20, 10, 0]\n"
     ]
    }
   ],
   "source": [
    "# 單純寫法\n",
    "a = [10, 20, 30, 40, 50, 60, 70, 80, 90]\n",
    "b = []\n",
    "for i in a:\n",
    "    b.append(max(a) - i)     # 用 a 的最大值減去每個項目\n",
    "print(b)                   # [80,  70,  60,  50,  40,  30,  20,  10,  0]\n",
    "\n",
    "# 使用串列生成式\n",
    "a = [10, 20, 30, 40, 50, 60, 70, 80, 90]\n",
    "b = [max(a) - i for i in a]\n",
    "print(b)                   # [80,  70,  60,  50,  40,  30,  20,  10,  0]"
   ]
  },
  {
   "attachments": {},
   "cell_type": "markdown",
   "metadata": {},
   "source": [
    "如果需要兩層 for 迴圈才能生成的串列，同樣也能使用串列生成式來產生。"
   ]
  },
  {
   "cell_type": "code",
   "execution_count": 14,
   "metadata": {},
   "outputs": [
    {
     "name": "stdout",
     "output_type": "stream",
     "text": [
      "['a1', 'a2', 'a3', 'b1', 'b2', 'b3', 'c1', 'c2', 'c3']\n",
      "['a1', 'a2', 'a3', 'b1', 'b2', 'b3', 'c1', 'c2', 'c3']\n"
     ]
    }
   ],
   "source": [
    "# 單純寫法\n",
    "# 將兩層 for 迴圈的 i 和 j 加在一起，變成新串列的項目\n",
    "a = []\n",
    "for i in 'abc':\n",
    "    for j in range(1, 4):\n",
    "        a.append(i + str(j))\n",
    "print(a)        # ['a1', 'a2', 'a3', 'b1', 'b2', 'b3', 'c1', 'c2', 'c3']\n",
    "\n",
    "# 使用串列生成式\n",
    "# 兩個 for 迴圈分別產生 i 和 j\n",
    "a = [i + str(j) for i in 'abc' for j in range(1, 4)]\n",
    "print(a)        # ['a1', 'a2', 'a3', 'b1', 'b2', 'b3', 'c1', 'c2', 'c3']"
   ]
  },
  {
   "attachments": {},
   "cell_type": "markdown",
   "metadata": {},
   "source": [
    "此外，串列生成式也可以加入 Python 的內建函式，針對產生的項目做處理，下面的程式，只要透過一行串列產生式，就能取出二維陣列裡的最小值。"
   ]
  },
  {
   "cell_type": "code",
   "execution_count": 15,
   "metadata": {},
   "outputs": [
    {
     "name": "stdout",
     "output_type": "stream",
     "text": [
      "1\n",
      "1\n"
     ]
    }
   ],
   "source": [
    "# 單純寫法\n",
    "a = [[100, 200, 300, 400, 500], [100, 200, 500, 2, 1]]\n",
    "b = []\n",
    "for i in a:\n",
    "    b.append(min(i))  # 將二維串列中每個串列裡的最小值取出，變成新的串列\n",
    "print(min(b))         # 1，印出新的串列裡的最小值\n",
    "\n",
    "# 使用串列生成式\n",
    "a = [[100, 200, 300, 400, 500], [100, 200, 500, 2, 1]]\n",
    "print(min([min(i) for i in a]))   # 1"
   ]
  },
  {
   "attachments": {},
   "cell_type": "markdown",
   "metadata": {},
   "source": [
    "## 串列生成式搭配 if \n",
    "\n",
    "串列生成式不僅能使用 for 迴圈快速產生串列，也可以搭配 if 判斷式，快速篩選並產生對應的內容，下方的程式碼，透過串列生成式，將 if 放在後方，就能直接產生一個偶數的串列。"
   ]
  },
  {
   "cell_type": "code",
   "execution_count": 16,
   "metadata": {},
   "outputs": [
    {
     "name": "stdout",
     "output_type": "stream",
     "text": [
      "[2, 4, 6, 8]\n",
      "[2, 4, 6, 8]\n"
     ]
    }
   ],
   "source": [
    "# 單純寫法\n",
    "a = []\n",
    "for i in range(1,10):\n",
    "    if i%2 == 0:\n",
    "        a.append(i)   # 取出偶數放入變數 a\n",
    "print(a)              # [2, 4, 6, 8]\n",
    "\n",
    "# 使用串列生成式\n",
    "a = [i for i in range(1, 10) if i%2 == 0]\n",
    "print(a)           # [2, 4, 6, 8]"
   ]
  },
  {
   "attachments": {},
   "cell_type": "markdown",
   "metadata": {},
   "source": [
    "如果將 if 放在 for 的前方，就必須加上 else，下方的例子，會將偶數的項目保留，奇數項目替換成 100。"
   ]
  },
  {
   "cell_type": "code",
   "execution_count": 17,
   "metadata": {},
   "outputs": [
    {
     "name": "stdout",
     "output_type": "stream",
     "text": [
      "[100, 2, 100, 4, 100, 6, 100, 8, 100]\n",
      "[100, 2, 100, 4, 100, 6, 100, 8, 100]\n"
     ]
    }
   ],
   "source": [
    "a = []\n",
    "for i in range(1,10):\n",
    "    if i%2 == 0:\n",
    "        a.append(i)   # 取出偶數放入變數 a\n",
    "    else:\n",
    "        a.append(100) # 如果是奇數，將 100 放入變數 a\n",
    "print(a)          # [100, 2, 100, 4, 100, 6, 100, 8, 100]\n",
    "\n",
    "a = [i if i%2==0 else 100 for i in range(1, 10)]\n",
    "print(a)          # [100, 2, 100, 4, 100, 6, 100, 8, 100]"
   ]
  },
  {
   "attachments": {},
   "cell_type": "markdown",
   "metadata": {},
   "source": [
    "## 字典生成式\n",
    "\n",
    "字典生成式只要撰寫一行程式碼，就能快速產生一個字典，其語法為：\n",
    "\n",
    "`result = {key: value for item in iterable}` \n",
    "\n",
    "- result：生成的新字典。\n",
    "- key：生成的鍵。\n",
    "- value：生成的值。\n",
    "- item：從迭代物件裡取出的項目。\n",
    "- iterable：可迭代的物件。"
   ]
  },
  {
   "attachments": {},
   "cell_type": "markdown",
   "metadata": {},
   "source": [
    "下方的例子，會建立一個項目數值平方的字典。"
   ]
  },
  {
   "cell_type": "code",
   "execution_count": 18,
   "metadata": {},
   "outputs": [
    {
     "name": "stdout",
     "output_type": "stream",
     "text": [
      "{1: 1, 2: 4, 3: 9, 4: 16, 5: 25, 6: 36, 7: 49, 8: 64, 9: 81}\n",
      "{1: 1, 2: 4, 3: 9, 4: 16, 5: 25, 6: 36, 7: 49, 8: 64, 9: 81}\n"
     ]
    }
   ],
   "source": [
    "# 單純寫法\n",
    "a = {}\n",
    "for i in range(1,10):\n",
    "    a[i] = i*i   # 將 i*i 對應指定的鍵\n",
    "print(a)         # {1: 1, 2: 4, 3: 9, 4: 16, 5: 25, 6: 36, 7: 49, 8: 64, 9: 81}\n",
    "\n",
    "# 使用字典生成式\n",
    "a = {i:i*i for i in range(1,10)}\n",
    "print(a)       # {1: 1, 2: 4, 3: 9, 4: 16, 5: 25, 6: 36, 7: 49, 8: 64, 9: 81}"
   ]
  },
  {
   "attachments": {},
   "cell_type": "markdown",
   "metadata": {},
   "source": [
    "## 集合生成式\n",
    "\n",
    "集合生成式只要撰寫一行程式碼，就能快速產生一個集合，其語法為：\n",
    "\n",
    "`result = {value for item in iterable}`\n",
    "\n",
    "- result：生成的新集合。\n",
    "- value：生成的值。\n",
    "- item：從迭代物件裡取出的項目。\n",
    "- iterable：可迭代的物件。"
   ]
  },
  {
   "attachments": {},
   "cell_type": "markdown",
   "metadata": {},
   "source": [
    "下方的例子，會建立一個項目數值平方的集合。"
   ]
  },
  {
   "cell_type": "code",
   "execution_count": 19,
   "metadata": {},
   "outputs": [
    {
     "name": "stdout",
     "output_type": "stream",
     "text": [
      "{64, 1, 4, 36, 9, 16, 49, 81, 25}\n",
      "{64, 1, 4, 36, 9, 16, 49, 81, 25}\n"
     ]
    }
   ],
   "source": [
    "a = set()\n",
    "for i in range(1,10):\n",
    "    a.add(i*i)   # 將 i*i 新增到集合裡\n",
    "print(a)         # {64, 1, 4, 36, 9, 16, 49, 81, 25}\n",
    "\n",
    "a = {i*i for i in range(1,10)}\n",
    "print(a)       # {64, 1, 4, 36, 9, 16, 49, 81, 25}"
   ]
  },
  {
   "attachments": {},
   "cell_type": "markdown",
   "metadata": {},
   "source": [
    "## 元組 ( 數組 ) 生成式 \n",
    "\n",
    "元組沒有生成式的語法，但是有類似的方式可以生成元組，其語法為：\n",
    "\n",
    "`variable = tuple(value for item in iterable)`\n",
    "\n",
    "- variable：型別為 tuple 的變數。\n",
    "- value：生成的值。\n",
    "- item：從迭代物件裡取出的項目。\n",
    "- iterable：可迭代的物件。"
   ]
  },
  {
   "cell_type": "code",
   "execution_count": 20,
   "metadata": {},
   "outputs": [
    {
     "name": "stdout",
     "output_type": "stream",
     "text": [
      "(0, 1, 2, 3, 4, 5, 6, 7, 8, 9)\n"
     ]
    }
   ],
   "source": [
    "a = tuple(i for i in range(10))\n",
    "print(a)   # (0, 1, 2, 3, 4, 5, 6, 7, 8, 9)"
   ]
  },
  {
   "attachments": {},
   "cell_type": "markdown",
   "metadata": {},
   "source": [
    "也可以使用運算式以及 if 判斷式產生 tuple。"
   ]
  },
  {
   "cell_type": "code",
   "execution_count": 21,
   "metadata": {},
   "outputs": [
    {
     "name": "stdout",
     "output_type": "stream",
     "text": [
      "(36, 49, 64, 81)\n"
     ]
    }
   ],
   "source": [
    "a = tuple(i*i for i in range(10) if i>5)\n",
    "print(a)   # (36, 49, 64, 81)"
   ]
  }
 ],
 "metadata": {
  "kernelspec": {
   "display_name": "Python 3",
   "language": "python",
   "name": "python3"
  },
  "language_info": {
   "codemirror_mode": {
    "name": "ipython",
    "version": 3
   },
   "file_extension": ".py",
   "mimetype": "text/x-python",
   "name": "python",
   "nbconvert_exporter": "python",
   "pygments_lexer": "ipython3",
   "version": "3.11.2"
  },
  "orig_nbformat": 4
 },
 "nbformat": 4,
 "nbformat_minor": 2
}
