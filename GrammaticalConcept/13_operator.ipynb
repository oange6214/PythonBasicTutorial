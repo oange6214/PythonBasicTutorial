{
 "cells": [
  {
   "attachments": {},
   "cell_type": "markdown",
   "metadata": {},
   "source": [
    "# 運算子 operator\n",
    "\n",
    "在程式語言裡，如果要進行「運算式」的計算，就必須要使用「運算元 Operand」和「運算子 Operator」相搭配，運算元表示的是需要計算的數值，運算子代表特定運算功能的符號，例如 3+4 裡的 3 和 4 是運算元，+ 號則是運算子，整串算式就是運算式。"
   ]
  },
  {
   "attachments": {},
   "cell_type": "markdown",
   "metadata": {},
   "source": [
    "## 賦值運算子 \n",
    "\n",
    "「賦值運算子」就是「等號 =」，會將等號右邊的結果 ( 值 )，指定 ( 賦予 ) 給等號左邊的變數，下方的程式分別賦予 a、b、c 三個變數字串、數字和串列三種內容。"
   ]
  },
  {
   "cell_type": "code",
   "execution_count": 9,
   "metadata": {},
   "outputs": [],
   "source": [
    "a = 'hello'\n",
    "b = 123\n",
    "c = [1,2,3]"
   ]
  },
  {
   "attachments": {},
   "cell_type": "markdown",
   "metadata": {},
   "source": [
    "## 算術運算子\n",
    "\n",
    "「算術運算子」就是常見的「加減乘除」符號，針對數字進行數學式的運算 ( 如果要使用更多數學式，則需要 import math 模組 )。\n",
    "\n",
    "`比較需要注意的是，左邊的變數是右邊運算後的結果，和一般的數學式不太相同。`\n",
    "\n",
    "| 運算子 | 說明                      | 範例      | 結果    |\n",
    "|--------|-------------------------|-----------|---------|\n",
    "| +      | 加法                      | a = 1+2   | a = 3   |\n",
    "| -      | 減法                      | a = 20-12 | a = 8   |\n",
    "| *      | 乘法                      | a = 2*3   | a = 6   |\n",
    "| /      | 除法                      | a = 9/2   | a = 4.5 |\n",
    "| //     | 除法取整數 ( 無條件捨去 ) | a = 9//2  | a = 4   |\n",
    "| %      | 餘數                      | a = 9%2   | a = 1   |\n",
    "| **     | 次方                      | a = 2**3  | a = 8   |\n",
    "\n",
    "使用算術運算子進行計算時，按照「先乘除後加減」的規則，並優先計算小括號刮起來的運算式。"
   ]
  },
  {
   "cell_type": "code",
   "execution_count": 10,
   "metadata": {},
   "outputs": [
    {
     "name": "stdout",
     "output_type": "stream",
     "text": [
      "15\n"
     ]
    }
   ],
   "source": [
    "a = 3 * (3 + 2)\n",
    "print(a)   # 15"
   ]
  },
  {
   "attachments": {},
   "cell_type": "markdown",
   "metadata": {},
   "source": [
    "算術運算子和賦值往往搭配一起使用，進行變數的遞增或遞減效果。"
   ]
  },
  {
   "cell_type": "code",
   "execution_count": 11,
   "metadata": {},
   "outputs": [
    {
     "name": "stdout",
     "output_type": "stream",
     "text": [
      "2\n",
      "4\n"
     ]
    }
   ],
   "source": [
    "a = 1       # a 賦值 1\n",
    "a = a + 1   # a 賦值 1 + 1 ( 此時右邊的 a 等於 1 )\n",
    "print(a)\n",
    "\n",
    "b = 5       # b 賦值 5\n",
    "b = b - 1   # b 賦值 5 - 1 ( 此時右邊的 b 等於 5 )\n",
    "print(b)"
   ]
  },
  {
   "attachments": {},
   "cell_type": "markdown",
   "metadata": {},
   "source": [
    "如果需要「開根號」，可以使用「＊＊0.5」來實現。"
   ]
  },
  {
   "cell_type": "code",
   "execution_count": 12,
   "metadata": {},
   "outputs": [
    {
     "name": "stdout",
     "output_type": "stream",
     "text": [
      "2.0\n"
     ]
    }
   ],
   "source": [
    "print(4 ** 0.5)   # 2.0"
   ]
  },
  {
   "attachments": {},
   "cell_type": "markdown",
   "metadata": {},
   "source": [
    "除了單純的運算，也可以將算術運算子和賦值運算子組合，變成復合型態的運算子。\n",
    "\n",
    "| 運算子 | 範例    | 等同於     |\n",
    "|--------|---------|------------|\n",
    "| +=     | a += 1  | a = a + 1  |\n",
    "| -=     | a -= 1  | a = a - 1  |\n",
    "| *=     | a *= 2  | a = a * 2  |\n",
    "| /=     | a /= 2  | a = a / 2  |\n",
    "| //=    | a //= 3 | a = a // 3 |\n",
    "| %=     | a %= 3  | a = a % 3  |\n",
    "| **=    | a **= 2 | a = a ** 2 |"
   ]
  },
  {
   "attachments": {},
   "cell_type": "markdown",
   "metadata": {},
   "source": [
    "## 比較運算子\n",
    "\n",
    "「比較運算子」是用來比較「兩個值大小」的運算子，運算的結果只有 True 或是 False 兩種，常用於邏輯判斷使用。\n",
    "\n",
    "`注意，因為單一個等號「=」是「賦值運算子」，所以如果要進行相等的比較，必須使用兩個等號「==」。`"
   ]
  },
  {
   "attachments": {},
   "cell_type": "markdown",
   "metadata": {},
   "source": [
    "| 運算子 | 說明                          | 範例   |\n",
    "|--------|-----------------------------|--------|\n",
    "| >      | 大於 ( a 是否大於 b )         | a > b  |\n",
    "| <      | 小於 ( a 是否小於 b )         | a < b  |\n",
    "| >=     | 大於等於 ( a 是否大於等於 b ) | a >= b |\n",
    "| <=     | 小於等於 ( a 是否小於等於 b ) | a <= b |\n",
    "| ==     | 等於 ( a 是否等於 b )         | a == b |\n",
    "| !=     | 等於 ( a 是否不等於 b )       | a != b |"
   ]
  },
  {
   "cell_type": "code",
   "execution_count": 13,
   "metadata": {},
   "outputs": [
    {
     "name": "stdout",
     "output_type": "stream",
     "text": [
      "False\n",
      "True\n",
      "True\n",
      "False\n"
     ]
    }
   ],
   "source": [
    "a = 5\n",
    "b = 3\n",
    "\n",
    "print(a < b)   # False\n",
    "print(b <= a)  # True\n",
    "print(a != b)  # True\n",
    "print(a == b)  # False"
   ]
  },
  {
   "attachments": {},
   "cell_type": "markdown",
   "metadata": {},
   "source": [
    "## 邏輯運算子\n",
    "\n",
    "「比較運算子」可以判斷「and」( 且 )、「or」( 或 ) 和「not」( 非 ) 三種邏輯狀態，運算的結果只有 True 或是 False 兩種。\n",
    "\n",
    "`比較運算子可以使用 & 代替 and，| 代替 or。`"
   ]
  },
  {
   "attachments": {},
   "cell_type": "markdown",
   "metadata": {},
   "source": [
    "* <font color=#FF6600>and</font>\n",
    "\n",
    "當 a 是 True，b 也是 True，結果是 True，但只要 a、b 其中一個是 False，結果就是 False。"
   ]
  },
  {
   "attachments": {},
   "cell_type": "markdown",
   "metadata": {},
   "source": [
    "| a and b                              | a = <font color=#00FF00>True</font> | a = <font color=#FF0000>False</font> |\n",
    "|--------------------------------------|-------------------------------------|--------------------------------------|\n",
    "| b = <font color=#00FF00>True</font>  | <font color=#00FF00>True</font>     | <font color=#FF0000>False</font>     |\n",
    "| b = <font color=#FF0000>False</font> | <font color=#FF0000>False</font>    | <font color=#FF0000>False</font>     |\n",
    "\n"
   ]
  },
  {
   "cell_type": "markdown",
   "metadata": {},
   "source": []
  }
 ],
 "metadata": {
  "kernelspec": {
   "display_name": "Python 3",
   "language": "python",
   "name": "python3"
  },
  "language_info": {
   "codemirror_mode": {
    "name": "ipython",
    "version": 3
   },
   "file_extension": ".py",
   "mimetype": "text/x-python",
   "name": "python",
   "nbconvert_exporter": "python",
   "pygments_lexer": "ipython3",
   "version": "3.11.2"
  },
  "orig_nbformat": 4
 },
 "nbformat": 4,
 "nbformat_minor": 2
}
