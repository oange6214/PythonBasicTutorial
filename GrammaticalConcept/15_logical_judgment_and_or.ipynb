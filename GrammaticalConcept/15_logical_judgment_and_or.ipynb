{
 "cells": [
  {
   "attachments": {},
   "cell_type": "markdown",
   "metadata": {},
   "source": [
    "# 邏輯判斷 ( and 和 or )\n",
    "\n",
    "在邏輯判斷時，很常使用 and、or 的邏輯運算子，然而 Python 裡的 and 和 or 除了可以回傳 True 和 False，更可以回傳比較後的值。"
   ]
  },
  {
   "attachments": {},
   "cell_type": "markdown",
   "metadata": {},
   "source": [
    "## and 和 or 的使用原則 \n",
    "\n",
    "在 Python 裡使用 and 與 or 回傳值時，會遵照下列幾個原則進行：\n",
    "\n",
    "- 使用 and 運算，如果全部都是 True，回傳最右邊 True 的值，否則回傳第一個 False 的值。\n",
    "- 使用 or 運算，如果全為 False，回傳最右邊 False 的值，否則回傳第一個 True 的值。\n",
    "- 元素除了 0、空 ( 空字串、空列表...等 )、None 和 False，其他在判斷式裡，全都是 True。\n",
    "- 越左方 ( 越前方 ) 會越先判斷，逐步往右邊判斷。\n",
    "- 除了從左向右判斷，同時使用多個 and、or 或 not，會先判斷 not，再判斷 and，最後再判斷 or。"
   ]
  },
  {
   "attachments": {},
   "cell_type": "markdown",
   "metadata": {},
   "source": [
    "## 在判斷式裡使用 and 和 or \n",
    "\n",
    "通常 and 和 or 會出現在邏輯判斷裡，下方的例子使用 and 必須前後條件都滿足，使用 or 只需要滿足其中一項。"
   ]
  },
  {
   "cell_type": "code",
   "execution_count": 2,
   "metadata": {},
   "outputs": [
    {
     "name": "stdout",
     "output_type": "stream",
     "text": [
      "ok1\n",
      "ok2\n"
     ]
    }
   ],
   "source": [
    "a = 1\n",
    "b = 2\n",
    "c = 3\n",
    "if a<b and a<c:\n",
    "    print('ok1')    # 顯示 ok1\n",
    "if a<b or a>c:\n",
    "    print('ok2')    # 顯示 ok2"
   ]
  },
  {
   "attachments": {},
   "cell_type": "markdown",
   "metadata": {},
   "source": [
    "如果有好幾個 or，越左方 ( 越前方 ) 會越先判斷，逐步往右邊判斷。"
   ]
  },
  {
   "cell_type": "code",
   "execution_count": 3,
   "metadata": {},
   "outputs": [
    {
     "name": "stdout",
     "output_type": "stream",
     "text": [
      "ok1\n"
     ]
    }
   ],
   "source": [
    "a = 2\n",
    "b = 3\n",
    "c = 0\n",
    "if a>b or a<c or a==2:\n",
    "    print('ok1')       # 印出 ok1"
   ]
  },
  {
   "attachments": {},
   "cell_type": "markdown",
   "metadata": {},
   "source": [
    "如果同時有 and 和 or，則會先判斷 and，然後再接著從左向右判斷："
   ]
  },
  {
   "cell_type": "code",
   "execution_count": 4,
   "metadata": {},
   "outputs": [
    {
     "name": "stdout",
     "output_type": "stream",
     "text": [
      "XXX\n"
     ]
    }
   ],
   "source": [
    "a = 2\n",
    "b = 3\n",
    "c = 0\n",
    "if a>b or a<c or a==2 and b==4:    # 效果等同 (a>b or a<c) or (a==2 and b==4)\n",
    "    print('ok1')\n",
    "else:\n",
    "    print('XXX')       # 印出 XXX"
   ]
  },
  {
   "attachments": {},
   "cell_type": "markdown",
   "metadata": {},
   "source": [
    "下方的例子也會先判斷 and，然後再接著從左向右判斷："
   ]
  },
  {
   "cell_type": "code",
   "execution_count": 5,
   "metadata": {},
   "outputs": [
    {
     "name": "stdout",
     "output_type": "stream",
     "text": [
      "XXX\n"
     ]
    }
   ],
   "source": [
    "a = 2\n",
    "b = 3\n",
    "c = 0\n",
    "if a>b or a<c and a==2 or b==4:    # 效果等同 (a>b or (a<c and a==2)) or b==4\n",
    "    print('ok1')\n",
    "else:\n",
    "    print('XXX')       # 印出 XXX"
   ]
  },
  {
   "attachments": {},
   "cell_type": "markdown",
   "metadata": {},
   "source": [
    "## 使用 and 和 or 回傳值\n",
    "\n",
    "下方的例子可以看出按照原則，分別會回傳不同的值："
   ]
  },
  {
   "cell_type": "code",
   "execution_count": 6,
   "metadata": {},
   "outputs": [
    {
     "name": "stdout",
     "output_type": "stream",
     "text": [
      "3\n",
      "0\n",
      "1\n",
      "1\n",
      "2\n",
      "1\n",
      "2\n"
     ]
    }
   ],
   "source": [
    "a = 1 and 2 and 3\n",
    "print(a)            # 3，全部都 True，所以回傳最右邊的值\n",
    "\n",
    "b = 1 and 0 and 2\n",
    "print(b)            # 0，遇到 0 ( False )，回傳第一個 False 的值就是 0\n",
    "\n",
    "c = 1 or 2 or 3\n",
    "print(c)            # 1，全部都 True，所以回傳第一個值\n",
    "\n",
    "d = 1 or 0 or 3\n",
    "print(d)            # 1，遇到 0 ( False )，回傳第一個 True 的值就是 1\n",
    "\n",
    "e = 1 and 2 or 3\n",
    "print(e)            # 2，效果等同 1 and ( 2 or 3 )\n",
    "\n",
    "f = 1 or 2 and 3\n",
    "print(f)            # 1，效果等同 1 or ( 2 and 3 )，2 和 3 先取出 3 之後變成 1 or 3\n",
    "\n",
    "g = 1 and 2 or 3 and 4 or 5\n",
    "print(g)            # 2，效果等同 1 and ( 2 or ( 3 and ( 4 or 5 )))"
   ]
  },
  {
   "attachments": {},
   "cell_type": "markdown",
   "metadata": {},
   "source": [
    "如果將回傳值應用在判斷式裡，就會直接當作 True 或 False 使用，例如下方的例子，會一次判斷 a、b、c 三個變數的數值。"
   ]
  },
  {
   "cell_type": "code",
   "execution_count": 7,
   "metadata": {},
   "outputs": [
    {
     "name": "stdout",
     "output_type": "stream",
     "text": [
      "ok\n"
     ]
    }
   ],
   "source": [
    "a = 1\n",
    "b = 2\n",
    "c = 3\n",
    "if(a and b and c):   # 回傳 3 --> True\n",
    "    print('ok')      # 印出 ok"
   ]
  },
  {
   "attachments": {},
   "cell_type": "markdown",
   "metadata": {},
   "source": [
    "改成下方的例子，就會印出 not ok。"
   ]
  },
  {
   "cell_type": "code",
   "execution_count": 9,
   "metadata": {},
   "outputs": [
    {
     "name": "stdout",
     "output_type": "stream",
     "text": [
      "not ok\n"
     ]
    }
   ],
   "source": [
    "a = 1\n",
    "b = 0               # b 等於 0\n",
    "c = 3\n",
    "if(a and b and c):  # 回傳 0 --> False\n",
    "    print('ok')\n",
    "else:\n",
    "    print('not ok')  # 印出 not ok"
   ]
  }
 ],
 "metadata": {
  "kernelspec": {
   "display_name": "Python 3",
   "language": "python",
   "name": "python3"
  },
  "language_info": {
   "codemirror_mode": {
    "name": "ipython",
    "version": 3
   },
   "file_extension": ".py",
   "mimetype": "text/x-python",
   "name": "python",
   "nbconvert_exporter": "python",
   "pygments_lexer": "ipython3",
   "version": "3.11.2"
  },
  "orig_nbformat": 4
 },
 "nbformat": 4,
 "nbformat_minor": 2
}
