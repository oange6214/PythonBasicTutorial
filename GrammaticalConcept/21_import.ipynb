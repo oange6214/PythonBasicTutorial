{
 "cells": [
  {
   "attachments": {},
   "cell_type": "markdown",
   "metadata": {},
   "source": [
    "# 匯入模組 import\n",
    "\n",
    "「模組」是一個存在於任意程式碼中的檔案，任何 Python 的程式碼也都可以當作模組使用，透過 import 陳述式，可以引用其他模組的程式碼，進一步使用其他模組的程式和變數，讓程式更精簡更好維護。"
   ]
  },
  {
   "attachments": {},
   "cell_type": "markdown",
   "metadata": {},
   "source": [
    "## import \n",
    "\n",
    "import 陳述式最簡單的用法就是「import 模組名稱」，模組名稱是不包含 .py 的名稱，舉例來說，下方的程式碼匯入 datetime 模組，就能使用裡面 datetime 和 date 的方法，顯示目前的時間與日期"
   ]
  },
  {
   "cell_type": "code",
   "execution_count": 1,
   "metadata": {},
   "outputs": [
    {
     "name": "stdout",
     "output_type": "stream",
     "text": [
      "2023-04-20 07:34:16.307978\n",
      "2023-04-20\n"
     ]
    }
   ],
   "source": [
    "import datetime\n",
    "print(datetime.datetime.now())   # 2021-10-18 06:39:48.998396\n",
    "print(datetime.date.today())     # 2021-10-18"
   ]
  },
  {
   "attachments": {},
   "cell_type": "markdown",
   "metadata": {},
   "source": [
    "此外，也可以使用「from 模組名稱 import 方法」，單純匯入模組中的某一段程式，舉例來說，下方的程式碼只匯入了 date 方法。"
   ]
  },
  {
   "cell_type": "code",
   "execution_count": 2,
   "metadata": {},
   "outputs": [
    {
     "name": "stdout",
     "output_type": "stream",
     "text": [
      "2023-04-20\n"
     ]
    }
   ],
   "source": [
    "from datetime import date\n",
    "print(date.today())     # 2021-10-18"
   ]
  },
  {
   "attachments": {},
   "cell_type": "markdown",
   "metadata": {},
   "source": [
    "## as 替模組新增別名\n",
    "\n",
    "如果匯入的模組名稱和原本程式碼裡使用的相同，就必須修改其中一個的名稱 ( 修改模組或自己的程式 )，這時可以將模組使用「別名」的方式匯入，就不會更動到自己的程式，使用的方法為「import 模組 as 別名」，舉例來說，下方的程式碼將匯入 datetime 模組使用「as」賦予 datetime 一個別名 dd，使用時只要呼叫 dd，就等同呼叫 datetime。"
   ]
  },
  {
   "cell_type": "code",
   "execution_count": 3,
   "metadata": {},
   "outputs": [
    {
     "name": "stdout",
     "output_type": "stream",
     "text": [
      "2023-04-20 07:34:44.765252\n",
      "2023-04-20\n"
     ]
    }
   ],
   "source": [
    "import datetime as dd\n",
    "print(dd.datetime.now())   # 2021-10-18 06:39:48.998396\n",
    "print(dd.date.today())     # 2021-10-18"
   ]
  },
  {
   "attachments": {},
   "cell_type": "markdown",
   "metadata": {},
   "source": [
    "## 建立自己的模組 \n",
    "\n",
    "每一支 Python 程式都可以作為模組，所以可以將共用的程式打包變成模組，再透過其他程式引用，舉例來說，下方有兩支 Python 程式，透過 main.py 匯入 test.py，執行 test.py 裡的 talk 函式。"
   ]
  },
  {
   "cell_type": "code",
   "execution_count": 5,
   "metadata": {},
   "outputs": [
    {
     "name": "stdout",
     "output_type": "stream",
     "text": [
      "hi\n"
     ]
    }
   ],
   "source": [
    "import test\n",
    "\n",
    "test.talk('hi')   # hi"
   ]
  },
  {
   "attachments": {},
   "cell_type": "markdown",
   "metadata": {},
   "source": [
    "如果自己的程式裡有多個函式或變數，也可以透過「from 模組名稱 import 方法」單獨匯入，下方的程式只匯入了 count 函式和 name 變數。"
   ]
  },
  {
   "cell_type": "code",
   "execution_count": 6,
   "metadata": {},
   "outputs": [
    {
     "name": "stdout",
     "output_type": "stream",
     "text": [
      "3\n",
      "test2\n"
     ]
    }
   ],
   "source": [
    "from test2 import count\n",
    "from test2 import name\n",
    "\n",
    "count(1, 2)     # 3\n",
    "print(name)     # test2"
   ]
  },
  {
   "attachments": {},
   "cell_type": "markdown",
   "metadata": {},
   "source": [
    "## 模組的路徑\n",
    "\n",
    "Python 匯入模組的路徑，支援「絕對路徑」和「相對路徑」兩種，主要的寫法如下：\n",
    "\n",
    "`絕對路徑：以「目前檔案所在的資料夾」為根目錄`\n",
    "\n",
    "import a\n",
    "from a import b\n",
    "\n",
    "舉例來說，將 test.py 放在與 main.py 同層的 module 的 io 資料夾裡，匯入時就必須要加上路徑「module.io」。"
   ]
  },
  {
   "cell_type": "code",
   "execution_count": 8,
   "metadata": {},
   "outputs": [
    {
     "name": "stdout",
     "output_type": "stream",
     "text": [
      "3\n",
      "test2\n"
     ]
    }
   ],
   "source": [
    "from module.io import test\n",
    "\n",
    "test.count(1, 2)      # 3\n",
    "print(test.name)     # test"
   ]
  },
  {
   "attachments": {},
   "cell_type": "markdown",
   "metadata": {},
   "source": [
    "相對路徑：相對於「目前檔案所在的資料夾」的路徑，使用「.」作為區隔。\n",
    "\n",
    "- from . import a     # 同一層目錄\n",
    "- from .. import a    # 上一層目錄\n",
    "- from ... import a   # 上上層目錄\n",
    "- from .a import b\n",
    "\n",
    "使用相對路徑比較容易發生問題，常遇見的就是「attempted relative import with no known parent package」，原因出在執行時將執行的 .py 當作最底層，因此就發生找不到父元素 ( parent package ) 的狀況，參考 stackoverflow 的解法 (  [link1](https://stackoverflow.com/questions/65426515/how-to-resolve-attempted-relative-import-with-no-known-parent-package)、[link2](https://stackoverflow.com/questions/68804207/relative-import-doesnt-work-importerror-attempted-relative-import-with-no-kn) )，執行採用輸入指令的方式，輸入 python -m 目錄.檔名，就可以正常執行。"
   ]
  }
 ],
 "metadata": {
  "kernelspec": {
   "display_name": "Python 3",
   "language": "python",
   "name": "python3"
  },
  "language_info": {
   "codemirror_mode": {
    "name": "ipython",
    "version": 3
   },
   "file_extension": ".py",
   "mimetype": "text/x-python",
   "name": "python",
   "nbconvert_exporter": "python",
   "pygments_lexer": "ipython3",
   "version": "3.11.2"
  },
  "orig_nbformat": 4
 },
 "nbformat": 4,
 "nbformat_minor": 2
}
