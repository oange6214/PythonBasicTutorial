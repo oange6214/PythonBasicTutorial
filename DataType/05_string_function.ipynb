{
 "cells": [
  {
   "attachments": {},
   "cell_type": "markdown",
   "metadata": {},
   "source": [
    "# 文字與字串 ( 常用方法 )"
   ]
  },
  {
   "attachments": {},
   "cell_type": "markdown",
   "metadata": {},
   "source": [
    "## 常用操作方法\n",
    "下面整理了文字與字串常用的操作方法 ( 參考：[字符串的方法](https://docs.python.org/zh-tw/3/library/stdtypes.html?highlight=isdigit#string-methods) )\n",
    "\n",
    " | 方法                                          | 說明                                                           |\n",
    " |-----------------------------------------------|--------------------------------------------------------------|\n",
    " | str(x)                                        | 轉換與建立字串                                                 |\n",
    " | +                                             | 結合字串                                                       |\n",
    " | ＊                                             | 重複字串                                                       |\n",
    " | str[]                                         | 取出字元                                                       |\n",
    " | len(str)                                      | 取得字串長度                                                   |\n",
    " | str.split(x)                                  | 根據 x 拆分字串                                                |\n",
    " | str.join(iter)                                | 將序列結合成字串                                               |\n",
    " | str.replace(x, y, n)                          | 將字串中的 x 替換為 y，n 為要替換的數量，可不填 ( 表示全部替換 ) |\n",
    " | str.strip()                                   | 去除字串開頭或結尾的某些字元                                   |\n",
    " | str.capitalize()                              | 將字串字首變成大寫                                             |\n",
    " | str.casefold()、str.lower()\t將                 | 字串全部轉成小寫                                               |\n",
    " | str.upper()                                   | 將字串全部轉成大寫                                             |\n",
    " | str.title()                                   | 將字串全部轉成標題 ( 每個單字字首大寫 )                        |\n",
    " | str.swapcase()                                | 將字串的大小寫對調                                             |\n",
    " | str.count(sub, start, end)                    | 計算某段文字在字串中出現的次數 ( start、end 為範圍，可不填 )     |\n",
    " | str.index(sub, start, end)                    | 尋找某段文字在字串中出現的位置 ( start、end 為範圍，可不填 )     |\n",
    " | str.format                                    | 格式化字串，參考「.format」                                       |\n",
    " | str.encode(encoding='utf-8', errors='strict') | 字串編碼                                                       |"
   ]
  },
  {
   "attachments": {},
   "cell_type": "markdown",
   "metadata": {},
   "source": [
    "## 常用判斷方法\n",
    "下面整理了文字與字串常用的判斷方法，這些方法使用後會回傳 True 和 False。\n",
    "\n",
    " | 方法          | 說明                                                                       |\n",
    " |---------------|--------------------------------------------------------------------------|\n",
    " | sub in str    | 判斷字串中是否出存在某段文字，回傳 True 或 False                            |\n",
    " | str.isalnum() | 判斷字串中是否都是英文字母或數字 ( 不能包含空白或符號 )，回傳 True 或 False |\n",
    " | str.isalpha() | 判斷字串中是否都是英文字母 ( 不能包含數字、空白或符號 )，回傳 True 或 False  |\n",
    " | str.isdigit() | 判斷字串中是否都是數字 ( 不能包含英文、空白或符號 )，回傳 True 或 False      |\n",
    " | str.islower() | 判斷字串中是否都是小寫英文字母，回傳 True 或 False                          |\n",
    " | str.isupper() | 判斷字串中是否都是大寫英文字母，回傳 True 或 False                          |\n",
    " | str.istitle() | 判斷字串中是否為標題 ( 每個單字字首大寫 )，回傳 True 或 False               |"
   ]
  },
  {
   "attachments": {},
   "cell_type": "markdown",
   "metadata": {},
   "source": [
    "## str(x) \n",
    "使用「str(x)」可以將 x 轉換成字串的型態。"
   ]
  },
  {
   "cell_type": "code",
   "execution_count": 1,
   "metadata": {},
   "outputs": [
    {
     "name": "stdout",
     "output_type": "stream",
     "text": [
      "123\n"
     ]
    }
   ],
   "source": [
    "a = str(123)\n",
    "print(a)   # 123 ( 字串型態，不是數字 )"
   ]
  },
  {
   "attachments": {},
   "cell_type": "markdown",
   "metadata": {},
   "source": [
    "## + 結合字串 \n",
    "使用「＋」可以將不同的字串結合在一起。"
   ]
  },
  {
   "cell_type": "code",
   "execution_count": 2,
   "metadata": {},
   "outputs": [
    {
     "name": "stdout",
     "output_type": "stream",
     "text": [
      "abc123\n"
     ]
    }
   ],
   "source": [
    "a = 'abc'\n",
    "b = '123'\n",
    "print(a + b)   # abc123"
   ]
  },
  {
   "attachments": {},
   "cell_type": "markdown",
   "metadata": {},
   "source": [
    "## ＊ 重複字串 \n",
    "使用「＊」可以將同一個字串重複指定的次數。"
   ]
  },
  {
   "cell_type": "code",
   "execution_count": 3,
   "metadata": {},
   "outputs": [
    {
     "name": "stdout",
     "output_type": "stream",
     "text": [
      "abcabcabc\n"
     ]
    }
   ],
   "source": [
    "a = 'abc'\n",
    "print(a*3)"
   ]
  },
  {
   "attachments": {},
   "cell_type": "markdown",
   "metadata": {},
   "source": [
    "## str[] \n",
    "使用「str[]」可以取出字串中的某些字元 ( 更多可參考：[取得字元與字串](https://steam.oxxostudio.tw/category/python/basic/string.html#a4) )。"
   ]
  },
  {
   "cell_type": "code",
   "execution_count": 4,
   "metadata": {},
   "outputs": [
    {
     "name": "stdout",
     "output_type": "stream",
     "text": [
      "0\n",
      "3\n",
      "f\n",
      "0123456789abcdef\n",
      "56789abcdef\n",
      "01234\n",
      "56789\n",
      "56789abc\n",
      "579\n"
     ]
    }
   ],
   "source": [
    "a = '0123456789abcdef'\n",
    "print(a[0])       # 0 ( 第一個字元 )\n",
    "print(a[3])       # 3 ( 第四個字元 )\n",
    "print(a[-1])      # f ( 最後一個字元 )\n",
    "print(a[:])       # 0123456789abcdef ( 取出全部字元 )\n",
    "print(a[5:])      # 56789abcdef ( 從 5 開始到結束 )\n",
    "print(a[:5])      # 01234 ( 從 0 開始到第 4 個 ( 5-1 ) )\n",
    "print(a[5:10])    # 56789 ( 從 5 開始到第 9 個 ( 10-1 ) )\n",
    "print(a[5:-3])    # 56789abc ( 從 5 開始到倒數第 4 個 ( -3-1 ) )\n",
    "print(a[5:10:2])  # 579 ( 從 5 開始到第 9 個，中間略過 2 個 )"
   ]
  },
  {
   "attachments": {},
   "cell_type": "markdown",
   "metadata": {},
   "source": [
    "## len(str) \n",
    "使用「len(str)」可以取得字串長度 ( 有幾個字元 )。"
   ]
  },
  {
   "cell_type": "code",
   "execution_count": 5,
   "metadata": {},
   "outputs": [
    {
     "name": "stdout",
     "output_type": "stream",
     "text": [
      "11\n"
     ]
    }
   ],
   "source": [
    "a = 'hello world'\n",
    "print(len(a))    # 11"
   ]
  },
  {
   "attachments": {},
   "cell_type": "markdown",
   "metadata": {},
   "source": [
    "## str.split(x) \n",
    "使用「str.split(x)」可以根據 x 字元拆分字串，使字串變成串列形式。"
   ]
  },
  {
   "cell_type": "code",
   "execution_count": 6,
   "metadata": {},
   "outputs": [
    {
     "name": "stdout",
     "output_type": "stream",
     "text": [
      "['hello world', ' I am oxxo', ' how are you?']\n",
      "['hello', 'world,', 'I', 'am', 'oxxo,', 'how', 'are', 'you?']\n",
      "['hello', 'world,', 'I', 'am', 'oxxo,', 'how', 'are', 'you?']\n"
     ]
    }
   ],
   "source": [
    "a = 'hello world, I am oxxo, how are you?'\n",
    "b = a.split(',') # 以逗號「,」進行拆分\n",
    "c = a.split(' ') # 以空白字元「 」進行拆分\n",
    "d = a.split()    # 如果不指定分隔符號，自動以空白字元進行拆分\n",
    "print(b)         # ['hello world', ' I am oxxo', ' how are you?']\n",
    "print(c)         # ['hello', 'world,', 'I', 'am', 'oxxo,', 'how', 'are', 'you?']\n",
    "print(d)         # ['hello', 'world,', 'I', 'am', 'oxxo,', 'how', 'are', 'you?']"
   ]
  },
  {
   "attachments": {},
   "cell_type": "markdown",
   "metadata": {},
   "source": [
    "## str.join(iter) \n",
    "使用「str.split(x)」可以根據 x 字元拆分字串，使字串變成串列形式。"
   ]
  },
  {
   "cell_type": "code",
   "execution_count": 7,
   "metadata": {},
   "outputs": [
    {
     "name": "stdout",
     "output_type": "stream",
     "text": [
      "['hello world', ' I am oxxo', ' how are you?']\n",
      "['hello', 'world,', 'I', 'am', 'oxxo,', 'how', 'are', 'you?']\n",
      "['hello', 'world,', 'I', 'am', 'oxxo,', 'how', 'are', 'you?']\n"
     ]
    }
   ],
   "source": [
    "a = 'hello world, I am oxxo, how are you?'\n",
    "b = a.split(',') # 以逗號「,」進行拆分\n",
    "c = a.split(' ') # 以空白字元「 」進行拆分\n",
    "d = a.split()    # 如果不指定分隔符號，自動以空白字元進行拆分\n",
    "print(b)         # ['hello world', ' I am oxxo', ' how are you?']\n",
    "print(c)         # ['hello', 'world,', 'I', 'am', 'oxxo,', 'how', 'are', 'you?']\n",
    "print(d)         # ['hello', 'world,', 'I', 'am', 'oxxo,', 'how', 'are', 'you?']"
   ]
  },
  {
   "attachments": {},
   "cell_type": "markdown",
   "metadata": {},
   "source": [
    "## str.join(iter)\n",
    "使用「str.join(iter)」可以將原本的字串，結合指定的序列，變成新的字串。"
   ]
  },
  {
   "cell_type": "code",
   "execution_count": 8,
   "metadata": {},
   "outputs": [
    {
     "name": "stdout",
     "output_type": "stream",
     "text": [
      "hello world, I am oxxo, how are you?\n"
     ]
    }
   ],
   "source": [
    "a = ['hello world', 'I am oxxo', 'how are you?']\n",
    "b = ', '.join(a)  # 使用逗號「,」進行結合\n",
    "print(b)  # hello world, I am oxxo, how are you?"
   ]
  },
  {
   "attachments": {},
   "cell_type": "markdown",
   "metadata": {},
   "source": [
    "## str.replace(x, y, n) \n",
    "使用「str.replace(x, y, n)」可以將字串中的 x 替換為 y，n 為要替換的數量，可不填 ( 表示全部替換 )"
   ]
  },
  {
   "cell_type": "code",
   "execution_count": 9,
   "metadata": {},
   "outputs": [
    {
     "name": "stdout",
     "output_type": "stream",
     "text": [
      "heXXXXXXo worXXXd, XXXoXXX\n",
      "heXXXXXXo world, lol\n"
     ]
    }
   ],
   "source": [
    "a = 'hello world, lol'\n",
    "b = a.replace('l','XXX')\n",
    "c = a.replace('l','XXX',2)\n",
    "print(b)  # heXXXXXXo worXXXd, XXXoXXX ( 所有的 l 都被換成 XXX )\n",
    "print(c)  # heXXXXXXo world, lol ( 前兩個 l 被換成 XXX )"
   ]
  },
  {
   "attachments": {},
   "cell_type": "markdown",
   "metadata": {},
   "source": [
    "## str.strip() \n",
    "使用「str.strip()」可以去除字串開頭或結尾的某些字元。"
   ]
  },
  {
   "cell_type": "code",
   "execution_count": 10,
   "metadata": {},
   "outputs": [
    {
     "name": "stdout",
     "output_type": "stream",
     "text": [
      "hello!!\n",
      "  hello\n",
      "hello!!\n",
      "  hello!!\n"
     ]
    }
   ],
   "source": [
    "a = '  hello!!'\n",
    "b = a.strip()\n",
    "c = a.strip('!')\n",
    "d = a.lstrip()\n",
    "e = a.rstrip()\n",
    "print(b) # hello!!\n",
    "print(c) #   hello\n",
    "print(d) # hello!!    使用 lstrip() 函式可以只去除左邊\n",
    "print(e) #   hello!!  使用 rstrip() 函式可以只去除右邊"
   ]
  },
  {
   "attachments": {},
   "cell_type": "markdown",
   "metadata": {},
   "source": [
    "下面的例子，會去除開頭與結尾指定的字元"
   ]
  },
  {
   "cell_type": "code",
   "execution_count": 11,
   "metadata": {},
   "outputs": [
    {
     "name": "stdout",
     "output_type": "stream",
     "text": [
      "ABCDE\n"
     ]
    }
   ],
   "source": [
    "s = '@!$##$#ABCDE%#$#%#$'\n",
    "a = s.strip('!@#$%^&*(')\n",
    "print(a)  # ABCDE"
   ]
  },
  {
   "attachments": {},
   "cell_type": "markdown",
   "metadata": {},
   "source": [
    "## str.capitalize() \n",
    "使用「str.capitalize()」將字串的字首變成大寫。"
   ]
  },
  {
   "cell_type": "code",
   "execution_count": 12,
   "metadata": {},
   "outputs": [
    {
     "name": "stdout",
     "output_type": "stream",
     "text": [
      "Hello world, i am oxxo!\n"
     ]
    }
   ],
   "source": [
    "a = 'hello world, i am oxxo!'\n",
    "b = a.capitalize()\n",
    "print(b)    # Hello world, i am oxxo!"
   ]
  },
  {
   "attachments": {},
   "cell_type": "markdown",
   "metadata": {},
   "source": [
    "## str.casefold()、str.lower() \n",
    "使用「str.casefold()」和「str.lower()」可以將字串全部轉成小寫，str.casefold() 更會將一些其他語系的小寫字母作轉換。"
   ]
  },
  {
   "cell_type": "code",
   "execution_count": 13,
   "metadata": {},
   "outputs": [
    {
     "name": "stdout",
     "output_type": "stream",
     "text": [
      "hello world, i am oxxo!\n",
      "hello world, i am oxxo!\n"
     ]
    }
   ],
   "source": [
    "a = 'Hello World, I am OXXO!'\n",
    "b = a.casefold()\n",
    "c = a.lower()\n",
    "print(b)    # hello world, i am oxxo!\n",
    "print(c)    # hello world, i am oxxo!"
   ]
  },
  {
   "attachments": {},
   "cell_type": "markdown",
   "metadata": {},
   "source": [
    "## str.upper() \n",
    "使用「str.upper()」可以將字串全部轉成大寫。"
   ]
  },
  {
   "cell_type": "code",
   "execution_count": 14,
   "metadata": {},
   "outputs": [
    {
     "name": "stdout",
     "output_type": "stream",
     "text": [
      "HELLO WORLD, I AM OXXO!\n"
     ]
    }
   ],
   "source": [
    "a = 'Hello World, I am OXXO!'\n",
    "b = a.upper()\n",
    "print(b)    # HELLO WORLD, I AM OXXO!"
   ]
  },
  {
   "attachments": {},
   "cell_type": "markdown",
   "metadata": {},
   "source": [
    "## str.title() \n",
    "使用「str.title()」可以將字串全部轉成標題 ( 每個單字字首大寫 )"
   ]
  },
  {
   "cell_type": "code",
   "execution_count": 15,
   "metadata": {},
   "outputs": [
    {
     "name": "stdout",
     "output_type": "stream",
     "text": [
      "Hello World, I Am Oxxo! How Are You?\n"
     ]
    }
   ],
   "source": [
    "a = 'Hello world, I am OXXO! How are you?'\n",
    "b = a.title()\n",
    "print(b)    # Hello World, I Am Oxxo! How Are You?"
   ]
  },
  {
   "attachments": {},
   "cell_type": "markdown",
   "metadata": {},
   "source": [
    "## str.swapcase() \n",
    "使用「str.swapcase()」可以將字串的大小寫對調。"
   ]
  },
  {
   "cell_type": "code",
   "execution_count": 16,
   "metadata": {},
   "outputs": [
    {
     "name": "stdout",
     "output_type": "stream",
     "text": [
      "2\n",
      "1\n"
     ]
    }
   ],
   "source": [
    "a = 'Hello world, I am OXXO!'\n",
    "b = a.count('o')\n",
    "c = a.count('o', 1, 5)\n",
    "print(b)     # 2\n",
    "print(c)     # 1"
   ]
  },
  {
   "attachments": {},
   "cell_type": "markdown",
   "metadata": {},
   "source": [
    "## str.encode(encoding='utf-8', errors='strict') \n",
    "使用「str.encode(encoding='utf-8', errors='strict')」可以針對字串進行編碼。"
   ]
  },
  {
   "cell_type": "code",
   "execution_count": 17,
   "metadata": {},
   "outputs": [
    {
     "name": "stdout",
     "output_type": "stream",
     "text": [
      "b'Hello world, \\xe5\\x96\\x94\\xe5\\x93\\x88\\xef\\xbc\\x81'\n",
      "b'Hello world, \\xb3\\xe1\\xab\\xa2\\xa1I'\n"
     ]
    }
   ],
   "source": [
    "a = 'Hello world, 喔哈！'\n",
    "b = a.encode(encoding='utf-8', errors='strict')\n",
    "c = a.encode(encoding='BIG5', errors='strict')\n",
    "print(b)    # b'Hello world, \\xe5\\x96\\x94\\xe5\\x93\\x88\\xef\\xbc\\x81'\n",
    "print(c)    # b'Hello world, \\xb3\\xe1\\xab\\xa2\\xa1I'"
   ]
  },
  {
   "attachments": {},
   "cell_type": "markdown",
   "metadata": {},
   "source": [
    "## sub in str \n",
    "使用「sub in str」可以判斷字串中是否存在某段文字，回傳 True 或 False ( 也可使用 not in 判斷是否不存在 )。"
   ]
  },
  {
   "cell_type": "code",
   "execution_count": 18,
   "metadata": {},
   "outputs": [
    {
     "name": "stdout",
     "output_type": "stream",
     "text": [
      "True\n",
      "True\n"
     ]
    }
   ],
   "source": [
    "a = 'Hello world!'\n",
    "print('wo' in a)      # True\n",
    "print('ok' not in a)  # True"
   ]
  },
  {
   "attachments": {},
   "cell_type": "markdown",
   "metadata": {},
   "source": [
    "## str.isalnum() \n",
    "使用「str.isalnum()」可以判斷字串中是否都是英文字母或數字 ( 不能包含空白或符號 )，回傳 True 或 False。"
   ]
  },
  {
   "cell_type": "code",
   "execution_count": 19,
   "metadata": {},
   "outputs": [
    {
     "name": "stdout",
     "output_type": "stream",
     "text": [
      "True\n",
      "False\n",
      "False\n"
     ]
    }
   ],
   "source": [
    "a = 'Helloworld123'\n",
    "b = 'Helloworld123!!'\n",
    "c = 'Hello world'\n",
    "print(a.isalnum())   # True\n",
    "print(b.isalnum())   # False ( 包含驚嘆號 )\n",
    "print(c.isalnum())   # False ( 包含空白 )"
   ]
  },
  {
   "attachments": {},
   "cell_type": "markdown",
   "metadata": {},
   "source": [
    "## str.isalpha() \n",
    "使用「str.isalpha()」可以判斷字串中是否都是英文字母 ( 不能包含數字、空白或符號 )，回傳 True 或 False。"
   ]
  },
  {
   "cell_type": "code",
   "execution_count": 20,
   "metadata": {},
   "outputs": [
    {
     "name": "stdout",
     "output_type": "stream",
     "text": [
      "True\n",
      "False\n",
      "False\n"
     ]
    }
   ],
   "source": [
    "a = 'Helloworld'\n",
    "b = 'Helloworld123'\n",
    "c = 'Hello world'\n",
    "print(a.isalpha())   # True\n",
    "print(b.isalpha())   # False ( 包含數字 )\n",
    "print(c.isalpha())   # Fasle ( 包含空白 )"
   ]
  },
  {
   "attachments": {},
   "cell_type": "markdown",
   "metadata": {},
   "source": [
    "## str.isdigit() \n",
    "使用「str.isdigit()」可以判斷字串中是否都是數字 ( 不能包含英文、空白或符號 )，回傳 True 或 False。"
   ]
  },
  {
   "cell_type": "code",
   "execution_count": 21,
   "metadata": {},
   "outputs": [
    {
     "name": "stdout",
     "output_type": "stream",
     "text": [
      "True\n",
      "False\n",
      "False\n"
     ]
    }
   ],
   "source": [
    "a = '12345'\n",
    "b = 'Hello123'\n",
    "c = '1 2 3'\n",
    "print(a.isdigit())   # True\n",
    "print(b.isdigit())   # False  ( 包含英文 )\n",
    "print(c.isdigit())   # Fasle  ( 包含空白 )"
   ]
  },
  {
   "attachments": {},
   "cell_type": "markdown",
   "metadata": {},
   "source": [
    "## str.islower() \n",
    "使用「str.islower()」可以判斷字串中是否都是小寫英文字母 ( 忽略數字和符號 )，回傳 True 或 False。"
   ]
  },
  {
   "cell_type": "code",
   "execution_count": 22,
   "metadata": {},
   "outputs": [
    {
     "name": "stdout",
     "output_type": "stream",
     "text": [
      "True\n",
      "False\n"
     ]
    }
   ],
   "source": [
    "a = 'hello world 123'\n",
    "b = 'Hello World 123'\n",
    "print(a.islower())    # True\n",
    "print(b.islower())    # False ( H 和 W 是大寫 )"
   ]
  },
  {
   "attachments": {},
   "cell_type": "markdown",
   "metadata": {},
   "source": [
    "## str.isupper() \n",
    "使用「str.isupper()」可以判斷字串中是否都是大寫英文字母 ( 忽略數字和符號 )，回傳 True 或 False。"
   ]
  },
  {
   "cell_type": "code",
   "execution_count": 23,
   "metadata": {},
   "outputs": [
    {
     "name": "stdout",
     "output_type": "stream",
     "text": [
      "True\n",
      "False\n"
     ]
    }
   ],
   "source": [
    "a = 'HELLO 123'\n",
    "b = 'Hello 123'\n",
    "print(a.isupper())    # True\n",
    "print(b.isupper())    # False"
   ]
  },
  {
   "attachments": {},
   "cell_type": "markdown",
   "metadata": {},
   "source": [
    "## str.istitle() \n",
    "使用「str.istitle()」可以判斷字串中是否為標題 ( 每個單字字首大寫 )，回傳 True 或 False。"
   ]
  },
  {
   "cell_type": "code",
   "execution_count": 24,
   "metadata": {},
   "outputs": [
    {
     "name": "stdout",
     "output_type": "stream",
     "text": [
      "True\n",
      "False\n",
      "False\n"
     ]
    }
   ],
   "source": [
    "a = 'Hello World I Am Oxxo 123!!'\n",
    "b = 'Hello World I Am OXXO 123!!'\n",
    "c = 'Hello world, I am OXXO 123!!'\n",
    "print(a.istitle())    # True\n",
    "print(b.istitle())    # False ( OXXO 全都大寫 )\n",
    "print(c.istitle())    # False ( world 和 am 字首沒有大寫 )"
   ]
  }
 ],
 "metadata": {
  "kernelspec": {
   "display_name": "Python 3",
   "language": "python",
   "name": "python3"
  },
  "language_info": {
   "codemirror_mode": {
    "name": "ipython",
    "version": 3
   },
   "file_extension": ".py",
   "mimetype": "text/x-python",
   "name": "python",
   "nbconvert_exporter": "python",
   "pygments_lexer": "ipython3",
   "version": "3.11.2"
  },
  "orig_nbformat": 4
 },
 "nbformat": 4,
 "nbformat_minor": 2
}
