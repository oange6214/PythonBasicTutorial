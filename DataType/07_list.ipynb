{
 "cells": [
  {
   "attachments": {},
   "cell_type": "markdown",
   "metadata": {},
   "source": [
    "# 串列 list ( 基本 )\n",
    "串列 ( list ) 又稱為列表、清單或陣列，串列和元組 ( tuple ) 類似，都可以將任何一種物件作為它們的元素，串列的應用非常廣泛，在大部分的程式裡都能看到串列的身影，這篇教學將會介紹建立、讀取、添加、修改和刪除的方法。"
   ]
  },
  {
   "attachments": {},
   "cell_type": "markdown",
   "metadata": {},
   "source": [
    "## 建立串列\n",
    "串列是將一連串的元素放在一個序列中，使其都有各自的編號，放入的元素可以是字串、數字、布林、串列、字典...等基本元素，在 Python 裡，有三種方法可以建立串列：\n",
    "* 中括號 ( 方括號 )\n",
    "* list()\n",
    "* split() + 字串"
   ]
  },
  {
   "attachments": {},
   "cell_type": "markdown",
   "metadata": {},
   "source": [
    "* <font color=#FF6600>中括號 ( 方括號 )</font>\n",
    "\n",
    "將要建立為串列的元素，放入中括號裡，並使用逗號分隔，就會成為一個串列，通常會將串列賦值給一個變數，下方的例子 a 是字串的串列，b 是數字串列，c 則是文字、數字和串列所組成的串列。"
   ]
  },
  {
   "cell_type": "code",
   "execution_count": 23,
   "metadata": {},
   "outputs": [
    {
     "name": "stdout",
     "output_type": "stream",
     "text": [
      "<class 'list'>\n",
      "<class 'list'>\n",
      "<class 'list'>\n"
     ]
    }
   ],
   "source": [
    "a = ['apple','banana','orange']\n",
    "b = [1, 2, 3, 4, 5]\n",
    "c = ['apple', 1, 2, 3, ['dog','cat']]\n",
    "print(type(a))   # <class 'list'>\n",
    "print(type(b))   # <class 'list'>\n",
    "print(type(c))   # <class 'list'>"
   ]
  },
  {
   "attachments": {},
   "cell_type": "markdown",
   "metadata": {},
   "source": [
    "* <font color=#FF6600>list()</font>\n",
    "\n",
    "**list() 函式可以建立一個「空的」串列，也能將「可迭代」( 有順序 ) 的資料轉換成串列**，例如 tuple、字串、集合或字典，下方的例子 b 會將 tuple 轉換成串列，c 是空的串列，d 則是將 apple 字串變成五個獨立字母的串列。"
   ]
  },
  {
   "cell_type": "code",
   "execution_count": 24,
   "metadata": {},
   "outputs": [
    {
     "name": "stdout",
     "output_type": "stream",
     "text": [
      "['apple', 'banana', 'orange']\n",
      "[]\n",
      "['a', 'p', 'p', 'l', 'e']\n"
     ]
    }
   ],
   "source": [
    "a = ('apple','banana','orange') # 這是 tuple\n",
    "b = list(a)\n",
    "c = list()\n",
    "d = list('apple')\n",
    "print(b)   # ['apple', 'banana', 'orange']\n",
    "print(c)   # []\n",
    "print(d)   # ['a', 'p', 'p', 'l', 'e']"
   ]
  },
  {
   "attachments": {},
   "cell_type": "markdown",
   "metadata": {},
   "source": [
    "* <font color=#FF6600>split() + 字串</font>\n",
    "\n",
    "**split() 函式可以將一個字串，根據指定的分隔符號，拆分成串列**，下圖的例子，會根據「.」符號，將字串拆成串列，由於有多個「.」在一起，拆分時會出現「空」的字串元素。"
   ]
  },
  {
   "cell_type": "code",
   "execution_count": 25,
   "metadata": {},
   "outputs": [
    {
     "name": "stdout",
     "output_type": "stream",
     "text": [
      "['apple', '', '', 'banana', '', '', 'orange']\n"
     ]
    }
   ],
   "source": [
    "a = 'apple...banana...orange'\n",
    "b = a.split('.')\n",
    "print(b)   # ['apple', '', '', 'banana', '', '', 'orange']"
   ]
  },
  {
   "attachments": {},
   "cell_type": "markdown",
   "metadata": {},
   "source": [
    "## 合併串列 \n",
    "合併串列有兩種方法：\n",
    "* 使用 + 號\n",
    "* extend()"
   ]
  },
  {
   "attachments": {},
   "cell_type": "markdown",
   "metadata": {},
   "source": [
    "* <font color=#FF6600>使用 + 號</font>\n",
    "\n",
    "使用「+」號可以讓兩個串列，像字串一樣的相加，在 + 號右方的串列，會加在左方串列的後方。"
   ]
  },
  {
   "cell_type": "code",
   "execution_count": 26,
   "metadata": {},
   "outputs": [
    {
     "name": "stdout",
     "output_type": "stream",
     "text": [
      "['a1', 'a2', 'a3', 'b1', 'b2', 'b3']\n"
     ]
    }
   ],
   "source": [
    "a = ['a1','a2','a3']\n",
    "b = ['b1','b2','b3']\n",
    "c = a + b\n",
    "print(c)   # ['a1', 'a2', 'a3', 'b1', 'b2', 'b3']"
   ]
  },
  {
   "attachments": {},
   "cell_type": "markdown",
   "metadata": {},
   "source": [
    "* <font color=#FF6600>extend()</font>\n",
    "\n",
    "extend() 函式能讓一個串列的後方，合併另外一個串列的內容。"
   ]
  },
  {
   "cell_type": "code",
   "execution_count": 27,
   "metadata": {},
   "outputs": [
    {
     "name": "stdout",
     "output_type": "stream",
     "text": [
      "['a1', 'a2', 'a3', 'b1', 'b2', 'b3']\n"
     ]
    }
   ],
   "source": [
    "a = ['a1','a2','a3']\n",
    "b = ['b1','b2','b3']\n",
    "a.extend(b)\n",
    "print(a)   # ['a1', 'a2', 'a3', 'b1', 'b2', 'b3']"
   ]
  },
  {
   "attachments": {},
   "cell_type": "markdown",
   "metadata": {},
   "source": [
    "注意，extend() 函式會改變串列，但不會回傳串列的值，所以如果寫成下面的程式，會得到 none 的結果。"
   ]
  },
  {
   "cell_type": "code",
   "execution_count": 28,
   "metadata": {},
   "outputs": [
    {
     "name": "stdout",
     "output_type": "stream",
     "text": [
      "None\n"
     ]
    }
   ],
   "source": [
    "a = ['a1','a2','a3']\n",
    "b = ['b1','b2','b3']\n",
    "c = a.extend(b)\n",
    "print(c)   # none"
   ]
  },
  {
   "attachments": {},
   "cell_type": "markdown",
   "metadata": {},
   "source": [
    "## 讀取串列項目\n",
    "\n",
    "要使用串列，就必須要讀取串列的內容，Python 提供了兩種讀取串列項目的方法：\n",
    "* offset\n",
    "* slice()"
   ]
  },
  {
   "attachments": {},
   "cell_type": "markdown",
   "metadata": {},
   "source": [
    "* <font color=#FF6600>offset</font>\n",
    "\n",
    "序列中每個元素都有各自的序列編號 ( offset )，只要透過「[offset]」，就能讀取對應的內容，串列中第一個項目的 offset 為 0，第二個 offset 為 1，依此類推，下面的例子，會依序讀取並印出串列中的元素。"
   ]
  },
  {
   "cell_type": "code",
   "execution_count": 29,
   "metadata": {},
   "outputs": [
    {
     "name": "stdout",
     "output_type": "stream",
     "text": [
      "apple\n",
      "banana\n",
      "orange\n"
     ]
    }
   ],
   "source": [
    "a = ['apple','banana','orange']\n",
    "print(a[0])   # apple\n",
    "print(a[1])   # banana\n",
    "print(a[2])   # orange"
   ]
  },
  {
   "attachments": {},
   "cell_type": "markdown",
   "metadata": {},
   "source": [
    "offset 預設從左側開始，第一個項目為 0，如果從右側開始，第一個項目為 -1，第二個項目為 -2，依此類推。"
   ]
  },
  {
   "cell_type": "code",
   "execution_count": 30,
   "metadata": {},
   "outputs": [
    {
     "name": "stdout",
     "output_type": "stream",
     "text": [
      "orange\n",
      "banana\n",
      "apple\n"
     ]
    }
   ],
   "source": [
    "a = ['apple','banana','orange']\n",
    "print(a[-1])   # orange\n",
    "print(a[-2])   # banana\n",
    "print(a[-3])   # apple"
   ]
  },
  {
   "attachments": {},
   "cell_type": "markdown",
   "metadata": {},
   "source": [
    "如果串列中有串列，就構成了「多維串列」，讀取元素時如果有第二層，就多一個中括號加上 offset，就能讀取第二層的元素。"
   ]
  },
  {
   "cell_type": "code",
   "execution_count": 31,
   "metadata": {},
   "outputs": [
    {
     "name": "stdout",
     "output_type": "stream",
     "text": [
      "dog\n",
      "cat\n"
     ]
    }
   ],
   "source": [
    "a = ['apple','banana','orange',['dog','cat']]\n",
    "print(a[3][0])   # dog\n",
    "print(a[3][1])   # cat"
   ]
  },
  {
   "attachments": {},
   "cell_type": "markdown",
   "metadata": {},
   "source": [
    "* <font color=#FF6600>slice()</font>\n",
    "\n",
    "slice() 函式可以取出串列中「某個範圍」的元素，使用方式在中括號裡加上冒號「:」，在冒號的前後放入指定的 offset，就能取出指定範圍的資料 ( 第一個 offset : 第二個 offset - 1 )，如果不指定數值，冒號前方預設為 0，冒號後方預設為 -1。\n",
    "\n",
    "`範圍也可以使用「負數」，表示從右側數來，但要注意第一個值的順序 ( 不論正負 ) 都必須要在第二個值的前面，不然就讀取不到項目 ( 會回傳空的結果 )。`"
   ]
  },
  {
   "cell_type": "code",
   "execution_count": 32,
   "metadata": {},
   "outputs": [
    {
     "name": "stdout",
     "output_type": "stream",
     "text": [
      "[0, 1, 2]\n",
      "[3, 4, 5, 6, 7, 8, 9]\n",
      "[1, 2]\n",
      "[5, 6, 7]\n"
     ]
    }
   ],
   "source": [
    "a = [0,1,2,3,4,5,6,7,8,9]\n",
    "b = a[:3]\n",
    "c = a[3:]\n",
    "d = a[1:3]\n",
    "e = a[-5:-2]\n",
    "print(b)   # [0, 1, 2]  取得 0～(3-1) 項\n",
    "print(c)   # [3, 4, 5, 6, 7, 8, 9]  取得 3～最後一項\n",
    "print(d)   # [1, 2]  取得 1～(3-1) 項\n",
    "print(e)   # [5, 6, 7]  取得倒數第 5 項～(倒數第二項-1)"
   ]
  },
  {
   "attachments": {},
   "cell_type": "markdown",
   "metadata": {},
   "source": [
    "如果 **使用兩個冒號「::」，表示要「間隔幾個項目」取值** ，例如「::2」就是間隔兩個項目，「::3」就是間隔三個項目，如果是負數，就是從右側取值， **因此「::-1」就可以讓反轉整個串列**。"
   ]
  },
  {
   "cell_type": "code",
   "execution_count": 33,
   "metadata": {},
   "outputs": [
    {
     "name": "stdout",
     "output_type": "stream",
     "text": [
      "[0, 3, 6, 9]\n",
      "[3, 5, 7, 9]\n",
      "[9, 8, 7, 6, 5, 4, 3, 2, 1, 0]\n",
      "[9, 7, 5, 3, 1]\n"
     ]
    }
   ],
   "source": [
    "a = [0,1,2,3,4,5,6,7,8,9]\n",
    "b = a[::3]\n",
    "c = a[3::2]\n",
    "d = a[::-1]\n",
    "e = a[::-2]\n",
    "print(b)   # [0, 3, 6, 9]  每隔三項目取值\n",
    "print(c)   # [3, 5, 7, 9]  從第三個項目開始，每隔兩項目取值\n",
    "print(d)   # [9, 8, 7, 6, 5, 4, 3, 2, 1, 0]  反轉串列\n",
    "print(e)   # [9, 7, 5, 3, 1]  反轉串列，每隔兩個項目取值"
   ]
  },
  {
   "attachments": {},
   "cell_type": "markdown",
   "metadata": {},
   "source": [
    "## 複製串列\n",
    "延續上方 slice() 的做法，如果使用「串列[ : ]」，效果等同於複製完整的串列，下方的程式碼展示兩種複製串列的方式，如果使用「b = a」的做法，雖然看起來像是複製了，但實際上 a 和 b 指向了同一個串列，所以當 a 刪除了一個項目時，b 也會跟著改變，然而如果使用「d = c[ : ]」的做法，會建立一個「全新」的串列，當 c 發生改變時，不會影響 d。"
   ]
  },
  {
   "cell_type": "code",
   "execution_count": 34,
   "metadata": {},
   "outputs": [
    {
     "name": "stdout",
     "output_type": "stream",
     "text": [
      "[1, 3]\n",
      "[1, 3]\n",
      "[1, 3]\n",
      "[1, 2, 3]\n"
     ]
    }
   ],
   "source": [
    "a = [1, 2, 3]\n",
    "b = a\n",
    "del(a[1])    # 刪除 a 的第二個項目\n",
    "print(a)     # [1, 3]\n",
    "print(b)     # [1, 3]\n",
    "\n",
    "c = [1, 2, 3]\n",
    "d = c[:]     # 複製 c 的所有項目變成一個新串列\n",
    "del(c[1])    # 刪除 c 的第二個項目\n",
    "print(c)     # [1, 3]\n",
    "print(d)     # [1, 2, 3]"
   ]
  },
  {
   "attachments": {},
   "cell_type": "markdown",
   "metadata": {},
   "source": [
    "## 修改串列項目\n",
    "串列有別於 tuple，串列的內容項目都是「可以修改」的，修改的方法有下列兩種：「offset」和「slice()」。"
   ]
  },
  {
   "attachments": {},
   "cell_type": "markdown",
   "metadata": {},
   "source": [
    "* <font color=#FF6600>offset</font>\n",
    "\n",
    "只要透過每個項目的 offset，就能夠修改指定項目的內容。"
   ]
  },
  {
   "cell_type": "code",
   "execution_count": 35,
   "metadata": {},
   "outputs": [
    {
     "name": "stdout",
     "output_type": "stream",
     "text": [
      "['grap', 'banana', 'orange']\n"
     ]
    }
   ],
   "source": [
    "a = ['apple','banana','orange']\n",
    "a[0] = 'grap'\n",
    "print(a)   # ['grap', 'banana', 'orange']"
   ]
  },
  {
   "attachments": {},
   "cell_type": "markdown",
   "metadata": {},
   "source": [
    "* <font color=#FF6600>slice()</font>\n",
    "\n",
    "使用 slice() 可以快速更換某一個範圍的串列內容，下方的程式會將第 2、3、4 這三個項目更換為 100、200、300。"
   ]
  },
  {
   "cell_type": "code",
   "execution_count": 36,
   "metadata": {},
   "outputs": [
    {
     "name": "stdout",
     "output_type": "stream",
     "text": [
      "['a', 100, 200, 300, 'e']\n"
     ]
    }
   ],
   "source": [
    "a = ['a','b','c','d','e']\n",
    "a[1:4] = [100,200,300]\n",
    "print(a)    # ['a', 100, 200, 300, 'e']"
   ]
  },
  {
   "attachments": {},
   "cell_type": "markdown",
   "metadata": {},
   "source": [
    "指定更換的項目的數量，不一定要和原本的一樣多 ( 可以比較少，也可以比較多 )，更換後會將範圍的內容，完全換成新的內容。"
   ]
  },
  {
   "cell_type": "code",
   "execution_count": 37,
   "metadata": {},
   "outputs": [
    {
     "name": "stdout",
     "output_type": "stream",
     "text": [
      "['a', 1, 2, 3, 4, 5, 6, 7, 8, 9, 'e']\n"
     ]
    }
   ],
   "source": [
    "a = ['a','b','c','d','e']\n",
    "a[1:4] = [1,2,3,4,5,6,7,8,9]\n",
    "print(a)   # ['a', 1, 2, 3, 4, 5, 6, 7, 8, 9, 'e']"
   ]
  },
  {
   "attachments": {},
   "cell_type": "markdown",
   "metadata": {},
   "source": [
    "更換的內容不一定要是串列，只要是可以「迭代」的內容，例如字串、tuple，都可以將其替換進入串列中，下方的程式將 1～4 的位置換成 hello 文字，替換後 hello 文字會被拆分成一個個的字母。"
   ]
  },
  {
   "cell_type": "code",
   "execution_count": 38,
   "metadata": {},
   "outputs": [
    {
     "name": "stdout",
     "output_type": "stream",
     "text": [
      "['a', 'h', 'e', 'l', 'l', 'o', 'e']\n"
     ]
    }
   ],
   "source": [
    "a = ['a','b','c','d','e']\n",
    "a[1:4] = 'hello'\n",
    "print(a)    # ['a', 'h', 'e', 'l', 'l', 'o', 'e']"
   ]
  },
  {
   "attachments": {},
   "cell_type": "markdown",
   "metadata": {},
   "source": [
    "## 添加串列項目\n",
    "Python 提供兩種串列添加項目的方法：\n",
    "* append()\n",
    "* insert()"
   ]
  },
  {
   "attachments": {},
   "cell_type": "markdown",
   "metadata": {},
   "source": [
    "* <font color=#FF6600>append()</font>\n",
    "\n",
    "append() 函式可以將項目添加在一個串列的尾端，如果添加的是一個序列 tuple，會原封不動的變成一個新元素 ( 只佔有一個 offset，變成第二層序列或 tuple )。"
   ]
  },
  {
   "cell_type": "code",
   "execution_count": 39,
   "metadata": {},
   "outputs": [
    {
     "name": "stdout",
     "output_type": "stream",
     "text": [
      "['a', 'b', 'c', 'd', 'e', 100]\n",
      "['a', 'b', 'c', 'd', 'e', [100, 200, 300]]\n"
     ]
    }
   ],
   "source": [
    "a = ['a','b','c','d','e']\n",
    "a.append(100)\n",
    "b = ['a','b','c','d','e']\n",
    "b.append([100,200,300])\n",
    "print(a)   # ['a', 'b', 'c', 'd', 'e', 100]\n",
    "print(b)   # ['a', 'b', 'c', 'd', 'e', [100, 200, 300]]"
   ]
  },
  {
   "attachments": {},
   "cell_type": "markdown",
   "metadata": {},
   "source": [
    "* <font color=#FF6600>insert()</font>\n",
    "\n",
    "如果已經知道要添加的位置 offset，使用 insert() 函式，就可以將指定的內容，從指定的位置加入，如果插入的位置設定為 0，會將內容插入在串列的開頭，如果設定的位置大於串列長度，就會插入在尾端 ( 如果設定 -1，會插入在倒數第二個 )。"
   ]
  },
  {
   "cell_type": "code",
   "execution_count": 40,
   "metadata": {},
   "outputs": [
    {
     "name": "stdout",
     "output_type": "stream",
     "text": [
      "['a', 'b', 'c', 100, 'd', 'e']\n",
      "[100, 'a', 'b', 'c', 'd', 'e']\n",
      "['a', 'b', 'c', 'd', 'e', 100]\n",
      "['a', 'b', 'c', 'd', 100, 'e']\n"
     ]
    }
   ],
   "source": [
    "a = ['a','b','c','d','e']\n",
    "a.insert(3,100)\n",
    "b = ['a','b','c','d','e']\n",
    "b.insert(0,100)\n",
    "c = ['a','b','c','d','e']\n",
    "c.insert(100,100)\n",
    "d = ['a','b','c','d','e']\n",
    "d.insert(-1,100)\n",
    "print(a)   # ['a', 'b', 'c', 100, 'd', 'e']\n",
    "print(b)   # [100, 'a', 'b', 'c', 'd', 'e']\n",
    "print(c)   # ['a', 'b', 'c', 'd', 'e', 100]\n",
    "print(d)   # ['a', 'b', 'c', 'd', 100, 'e']"
   ]
  },
  {
   "attachments": {},
   "cell_type": "markdown",
   "metadata": {},
   "source": [
    "## 刪除串列項目\n",
    "\n",
    "Python 提供了四種方法，來刪除串列的資料：\n",
    "* del\n",
    "* remove()\n",
    "* pop()\n",
    "* clear()"
   ]
  },
  {
   "attachments": {},
   "cell_type": "markdown",
   "metadata": {},
   "source": [
    "* <font color=#FF6600>del</font>\n",
    "\n",
    "如果已經知道欲刪除項目的「位置 offset」，就能夠使用「del list(offset)」來刪除指定的項目，項目支援中括號的語法 ( 參考上方 slice() 的做法 )，可以刪除某個範圍的項目，當項目被刪除時，後方的項目會往前遞補，取代原本的位置。"
   ]
  },
  {
   "cell_type": "code",
   "execution_count": 41,
   "metadata": {},
   "outputs": [
    {
     "name": "stdout",
     "output_type": "stream",
     "text": [
      "[0, 1, 3, 4, 5, 6, 7, 8, 9]\n",
      "[0, 1, 6, 7, 8, 9]\n"
     ]
    }
   ],
   "source": [
    "a = [0,1,2,3,4,5,6,7,8,9]\n",
    "del a[2]\n",
    "b = [0,1,2,3,4,5,6,7,8,9]\n",
    "del b[2:6]\n",
    "print(a)   # [0, 1, 3, 4, 5, 6, 7, 8, 9]\n",
    "print(b)   # [0, 1, 6, 7, 8, 9]"
   ]
  },
  {
   "attachments": {},
   "cell_type": "markdown",
   "metadata": {},
   "source": [
    "* <font color=#FF6600>remove()</font>\n",
    "\n",
    "如果不知道欲刪除項目的「位置 offset」，可以使用 remove(項目內容) 刪除該項目，如果有多個同樣內容的項目，remove() 只會刪除第一個找到的項目。"
   ]
  },
  {
   "cell_type": "code",
   "execution_count": 42,
   "metadata": {},
   "outputs": [
    {
     "name": "stdout",
     "output_type": "stream",
     "text": [
      "['apple', 'banana', 'orange']\n"
     ]
    }
   ],
   "source": [
    "a = ['apple','apple','banana','orange']\n",
    "a.remove('apple')\n",
    "print(a)   # ['apple', 'banana', 'orange']"
   ]
  },
  {
   "attachments": {},
   "cell_type": "markdown",
   "metadata": {},
   "source": [
    "* <font color=#FF6600>pop()</font>\n",
    "\n",
    "pop() 函式可以「取出並移除」串列裡的「一個項目」，使用的方式為「pop(offset)」，如果不指定數值或數值為 -1，則會取出最後一個項目，取出的項目如果沒有賦值給變數，這些項目就會消失。"
   ]
  },
  {
   "cell_type": "code",
   "execution_count": 43,
   "metadata": {},
   "outputs": [
    {
     "name": "stdout",
     "output_type": "stream",
     "text": [
      "[0, 1, 3, 4, 5]\n",
      "2\n"
     ]
    }
   ],
   "source": [
    "a = [0,1,2,3,4,5]\n",
    "b = a.pop(2)\n",
    "print(a)   # [0, 1, 3, 4, 5]\n",
    "print(b)   # 2"
   ]
  },
  {
   "attachments": {},
   "cell_type": "markdown",
   "metadata": {},
   "source": [
    "* <font color=#FF6600>clear()</font>\n",
    "\n",
    "clear() 函式會清空整個串列的內容，使其變成一個空的串列。"
   ]
  },
  {
   "cell_type": "code",
   "execution_count": 44,
   "metadata": {},
   "outputs": [
    {
     "name": "stdout",
     "output_type": "stream",
     "text": [
      "[]\n"
     ]
    }
   ],
   "source": [
    "a = [0,1,2,3,4,5]\n",
    "a.clear()\n",
    "print(a)   # []"
   ]
  }
 ],
 "metadata": {
  "kernelspec": {
   "display_name": "Python 3",
   "language": "python",
   "name": "python3"
  },
  "language_info": {
   "codemirror_mode": {
    "name": "ipython",
    "version": 3
   },
   "file_extension": ".py",
   "mimetype": "text/x-python",
   "name": "python",
   "nbconvert_exporter": "python",
   "pygments_lexer": "ipython3",
   "version": "3.11.2"
  },
  "orig_nbformat": 4
 },
 "nbformat": 4,
 "nbformat_minor": 2
}
