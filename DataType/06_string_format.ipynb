{
 "cells": [
  {
   "attachments": {},
   "cell_type": "markdown",
   "metadata": {},
   "source": [
    "# 文字與字串 ( 格式化 )\n",
    "在 Python 裡，除了可以使用基本功能串接字串，也可以針對不同的格式，將資料插入字串當中，由於 Python 版本的不同，這篇教學會介紹三種格式化字串的方法，透過字串的格式化，也可以輕鬆做出數字「補零」的效果。"
   ]
  },
  {
   "attachments": {},
   "cell_type": "markdown",
   "metadata": {},
   "source": [
    "## %\n",
    "「%」的字串格式化是「舊式」的格式化方法，適用於 Python 2 和 3 的版本，操作方式為「格式化字串 % 資料」，輸出結果會將資料插入格式化字串的位置。\n",
    "\n",
    "|格式化字串\t| 轉換型態 |\n",
    "| - | - |\n",
    "|%s\t|字串|\n",
    "|%d\t|十進制整數|\n",
    "|%x\t|十六進制整數|\n",
    "|%o\t|八進制整數|\n",
    "|%b\t|二進制整數|\n",
    "|%f\t|十進制浮點數|\n",
    "|%e\t|指數浮點數|\n",
    "|%g\t|十進制或指數浮點數|\n",
    "|%%\t|常值 %|"
   ]
  },
  {
   "attachments": {},
   "cell_type": "markdown",
   "metadata": {},
   "source": [
    "印出 a 的內容時，會將內容的 %s 替換成 % 後方的字串，%d 會將浮點數的小數點無條件捨去，%f 則會將整數轉換成浮點數。( 如果用 %s 顯示數字，數字的型態會被轉換成文字 )"
   ]
  },
  {
   "cell_type": "code",
   "execution_count": 34,
   "metadata": {},
   "outputs": [
    {
     "name": "stdout",
     "output_type": "stream",
     "text": [
      "Hello world, I am oxxo!!\n",
      "Hello world, I am xoox!!\n",
      "there are 2 dollars\n",
      "there are 2.000000 dollars\n"
     ]
    }
   ],
   "source": [
    "a = 'Hello world, I am %s!!'\n",
    "b = 'there are %d dollars'\n",
    "c = 'there are %f dollars'\n",
    "print(a % 'oxxo')  # Hello world, I am oxxo!!\n",
    "print(a % 'xoox')  # Hello world, I am xoox!!\n",
    "print(b % 2.5)     # there are 2 dollars ( 小數點被無條件捨去 )\n",
    "print(c % 2)       # there are 2.000000 dollars ( 整數轉換成浮點數 )"
   ]
  },
  {
   "attachments": {},
   "cell_type": "markdown",
   "metadata": {},
   "source": [
    "格式化字串的 % 和形態代號間，可以加入其他數值，來指定最小寬度、最大字元、對齊與精確度：\n",
    "\n",
    "|格式化數值\t| 說明 |\n",
    "| - | - |\n",
    "|不加東西、+\t|靠右對齊|\n",
    "|-\t|靠左對齊|\n",
    "|數字\t|最小寬度 ( 如果字串超過最小寬度，以字串的寬度為主 )|\n",
    "|數字.數字\t|最小寬度.最大字元數，如果後方是 f (%f)，第二個數字表示小數點位數|\n",
    "\n",
    "下面的例子可以看到 %12s 會在 hello 前方加上七個空格 ( 7 + hello 總共 12 個字元 )，%.3s 會讓 hello 只剩下 hel ( 3 個字元 )，%.3f 會讓 123.456789 只留下小數點三位。"
   ]
  },
  {
   "cell_type": "code",
   "execution_count": 35,
   "metadata": {},
   "outputs": [
    {
     "name": "stdout",
     "output_type": "stream",
     "text": [
      "hello world\n",
      "       hello world\n",
      "       hello world\n",
      "hello        world\n",
      "hel world\n",
      "         hel world\n",
      "123.457 world\n"
     ]
    }
   ],
   "source": [
    "print('%s world' % 'hello')      # hello world\n",
    "print('%12s world' % 'hello')    #        hello world\n",
    "print('%+12s world' % 'hello')   #        hello world\n",
    "print('%-12s world' % 'hello')   # hello        world\n",
    "print('%.3s world' % 'hello')    # hel world\n",
    "print('%12.3s world' % 'hello')  #          hel world\n",
    "\n",
    "print('%.3f world' % 123.456789) # 123.457 world"
   ]
  },
  {
   "attachments": {},
   "cell_type": "markdown",
   "metadata": {},
   "source": [
    "如果有多個數值需要格式化，可以在 % 後方用小括號包住對應的參數，參數的數量和順序必須和前方的格式化字元相同。"
   ]
  },
  {
   "cell_type": "code",
   "execution_count": 36,
   "metadata": {},
   "outputs": [
    {
     "name": "stdout",
     "output_type": "stream",
     "text": [
      "hello world, ther are 2.500000 dollars!\n"
     ]
    }
   ],
   "source": [
    "a = '%s world, ther are %f dollars!'\n",
    "b = a % ('hello', 2.5)\n",
    "print(b)   # hello world, ther are 2.500000 dollars!"
   ]
  },
  {
   "attachments": {},
   "cell_type": "markdown",
   "metadata": {},
   "source": [
    "## .format\n",
    "「{}」和「foramt()」是 Python 3 所使用的「新式」格式化，操作方式為「格式化字串.format(資料)」，輸出結果會將資料插入格式化字串的位置，下面的例子，會將 world 和 oxxo 兩個字串，分別插入字串中的兩個 {}。"
   ]
  },
  {
   "cell_type": "code",
   "execution_count": 37,
   "metadata": {},
   "outputs": [
    {
     "name": "stdout",
     "output_type": "stream",
     "text": [
      "hello world, I am oxxo\n"
     ]
    }
   ],
   "source": [
    "a = 'hello {}, I am {}'\n",
    "b = a.format('world', 'oxxo')\n",
    "print(b)   # hello world, I am oxxo"
   ]
  },
  {
   "attachments": {},
   "cell_type": "markdown",
   "metadata": {},
   "source": [
    "{} 裡可以填入數字，數字表示「填入資料的順序」，如果將上面程式裡的 {} 加入數字，就會呈現不同的結果。"
   ]
  },
  {
   "cell_type": "code",
   "execution_count": 38,
   "metadata": {},
   "outputs": [
    {
     "name": "stdout",
     "output_type": "stream",
     "text": [
      "hello oxxo, I am world\n"
     ]
    }
   ],
   "source": [
    "a = 'hello {1}, I am {0}'\n",
    "b = a.format('world', 'oxxo')\n",
    "print(b)   # hello oxxo, I am world ( world 和 oxxo 互換了 )"
   ]
  },
  {
   "attachments": {},
   "cell_type": "markdown",
   "metadata": {},
   "source": [
    "{} 裡可以填入具名引數，如果將上面程式裡的 {} 加入名稱，就會放入指定名稱的內容。"
   ]
  },
  {
   "cell_type": "code",
   "execution_count": 39,
   "metadata": {},
   "outputs": [
    {
     "name": "stdout",
     "output_type": "stream",
     "text": [
      "hello world, I am oxxo\n"
     ]
    }
   ],
   "source": [
    "a = 'hello {m}, I am {n}'\n",
    "b = a.format(m='world', n='oxxo')\n",
    "print(b)   # hello world, I am oxxo"
   ]
  },
  {
   "attachments": {},
   "cell_type": "markdown",
   "metadata": {},
   "source": [
    "{} 裡可以填入字典的引數，如果將上面程式裡的 {} 加入對應的引數，就會放入指定的字典內容。"
   ]
  },
  {
   "cell_type": "code",
   "execution_count": 40,
   "metadata": {},
   "outputs": [
    {
     "name": "stdout",
     "output_type": "stream",
     "text": [
      "hello world, I am QQ\n"
     ]
    }
   ],
   "source": [
    "a = 'hello {0[x][m]}, I am {0[y][m]}'\n",
    "b = {\n",
    "    'x': {'m':'world', 'n':'oxxo'}, \n",
    "    'y': {'m':'QQ', 'n':'YY'}\n",
    "    }\n",
    "c = a.format(b)\n",
    "print(c)    # hello world, I am QQ"
   ]
  },
  {
   "attachments": {},
   "cell_type": "markdown",
   "metadata": {},
   "source": [
    "新式的格式化字串和 % 定義略有不同，可以加入其他數值，來指定最小寬度、最大字元、對齊與精確度：\n",
    "\n",
    "| 格式化數值| 說明| \n",
    "| -| -| \n",
    "| :\t| 開始需要加上冒號| \n",
    "| 不加東西、>\t| 靠右對齊| \n",
    "| <\t| 靠左對齊| \n",
    "| ^\t| 置中對齊| \n",
    "| 填補字元\t| 將不足最小寬度的空白，填滿指定字元| \n",
    "| 數字.數字\t| 最小寬度.最大字元數，如果後方是 f (%f)，第二個數字表示小數點位數| "
   ]
  },
  {
   "attachments": {},
   "cell_type": "markdown",
   "metadata": {},
   "source": [
    "資料的型態也由 % 改為「:」表示。\n",
    "\n",
    "| 格式化字串| 轉換型態| \n",
    "| -| -| \n",
    "| :s | 字串| \n",
    "| :d | 十進制整數| \n",
    "| :x | 十六進制整數| \n",
    "| :o | 八進制整數| \n",
    "| :b | 二進制整數| \n",
    "| :f | 十進制浮點數| \n",
    "| :e | 指數浮點數| \n",
    "| :g | 十進制或指數浮點數| "
   ]
  },
  {
   "attachments": {},
   "cell_type": "markdown",
   "metadata": {},
   "source": [
    "下面的例子可以看到 {:-^10s} 會將 world 置中對齊，並將不足最小寬度的部分補上 - 的符號，{:^10.3f} 會讓 123.456789 只留下小數點三位。"
   ]
  },
  {
   "cell_type": "code",
   "execution_count": 41,
   "metadata": {},
   "outputs": [
    {
     "name": "stdout",
     "output_type": "stream",
     "text": [
      "hello world, I am oxxo\n",
      "hello world     , I am oxxo      \n",
      "hello      world, I am       oxxo\n",
      "hello --world---, I am +++oxxo+++\n",
      "hello ---wor----, I am ---oxxo---\n",
      "hello ---wor----, I am  123.457  \n"
     ]
    }
   ],
   "source": [
    "a = 'hello {}, I am {}'.format('world','oxxo')\n",
    "b = 'hello {:10s}, I am {:10s}'.format('world','oxxo')\n",
    "c = 'hello {:>10s}, I am {:>10s}'.format('world','oxxo')\n",
    "d = 'hello {:-^10s}, I am {:+^10s}'.format('world','oxxo')\n",
    "e = 'hello {:-^10.3s}, I am {:-^10s}'.format('world','oxxo')\n",
    "f = 'hello {:-^10.3s}, I am {:^10.3f}'.format('world',123.456789)\n",
    "print(a)  # hello world, I am oxxo\n",
    "print(b)  # hello world     , I am oxxo\n",
    "print(c)  # hello      world, I am       oxxo\n",
    "print(d)  # hello --world---, I am +++oxxo+++\n",
    "print(e)  # hello ---wor----, I am ---oxxo---\n",
    "print(f)  # hello ---wor----, I am  123.457"
   ]
  },
  {
   "attachments": {},
   "cell_type": "markdown",
   "metadata": {},
   "source": [
    "## f-string \n",
    "f-string 是 Python 3.6 加入的字串格式化功能，也是現在比較 **推薦** 的格式化方法，操作方式為「f{變數名稱或運算式}」( 開頭可以使用 f 或 F )，輸出結果會將變數或運算式的內容，放入指定的位置，下方的程式執行後，會將變數 a 和 b 的內容，放入 c 的字串裡。"
   ]
  },
  {
   "cell_type": "code",
   "execution_count": 42,
   "metadata": {},
   "outputs": [
    {
     "name": "stdout",
     "output_type": "stream",
     "text": [
      "hello world, I am oxxo\n"
     ]
    }
   ],
   "source": [
    "a = 'world'\n",
    "b = 'oxxo'\n",
    "c = f'hello {a}, I am {b}'\n",
    "print(c)   # hello world, I am oxxo"
   ]
  },
  {
   "attachments": {},
   "cell_type": "markdown",
   "metadata": {},
   "source": [
    "f-string 的格式化字串的定義和 .format 類似，可以加入其他數值，來指定最小寬度、最大字元、對齊與精確度。下面的例子可以看到 {b:+^10} 會將 oxxo 置中對齊，並將不足最小寬度的部分補上 + 的符號，{a:-<10.3} 會將 world 靠左對齊，並指取出 wor 三個字元，空白的部分補上 - 的符號。"
   ]
  },
  {
   "cell_type": "code",
   "execution_count": 43,
   "metadata": {},
   "outputs": [
    {
     "name": "stdout",
     "output_type": "stream",
     "text": [
      "hello world     , I am       oxxo\n",
      "hello world-----, I am +++oxxo+++\n",
      "hello wor-------, I am ++++ox++++\n",
      "hello WORLD, I am Oxxo\n"
     ]
    }
   ],
   "source": [
    "a = 'world'\n",
    "b = 'oxxo'\n",
    "c = f'hello {a:<10s}, I am {b:>10s}'\n",
    "d = f'hello {a:-<10s}, I am {b:+^10s}'\n",
    "e = f'hello {a:-<10.3s}, I am {b:+^10.2s}'\n",
    "f = f'hello {a.upper()}, I am {b.title()}'\n",
    "print(c)   # hello world     , I am       oxxo\n",
    "print(d)   # hello world-----, I am +++oxxo+++\n",
    "print(e)   # hello wor-------, I am ++++ox++++\n",
    "print(f)   # hello WORLD, I am Oxxo"
   ]
  },
  {
   "attachments": {},
   "cell_type": "markdown",
   "metadata": {},
   "source": [
    "了解原理後，就可以透過字串格式化的方式，實作「補零」的效果。"
   ]
  },
  {
   "cell_type": "code",
   "execution_count": 44,
   "metadata": {},
   "outputs": [
    {
     "name": "stdout",
     "output_type": "stream",
     "text": [
      "001 , 002 , 003 , 004 , 005 , 006 , 007 , 008 , 009 , 010 , \n",
      "011 , 012 , 013 , 014 , 015 , 016 , 017 , 018 , 019 , 020 , \n",
      "021 , 022 , 023 , 024 , 025 , 026 , 027 , 028 , 029 , 030 , \n",
      "031 , 032 , 033 , 034 , 035 , 036 , 037 , 038 , 039 , 040 , \n",
      "041 , 042 , 043 , 044 , 045 , 046 , 047 , 048 , 049 , 050 , \n",
      "051 , 052 , 053 , 054 , 055 , 056 , 057 , 058 , 059 , 060 , \n",
      "061 , 062 , 063 , 064 , 065 , 066 , 067 , 068 , 069 , 070 , \n",
      "071 , 072 , 073 , 074 , 075 , 076 , 077 , 078 , 079 , 080 , \n",
      "081 , 082 , 083 , 084 , 085 , 086 , 087 , 088 , 089 , 090 , \n",
      "091 , 092 , 093 , 094 , 095 , 096 , 097 , 098 , 099 , 100 , \n"
     ]
    }
   ],
   "source": [
    "for i in range(0, 10):\n",
    "    for j in range(1, 11):\n",
    "        print(f'{i*10 + j:03d}', end=' , ')\n",
    "    print()"
   ]
  }
 ],
 "metadata": {
  "kernelspec": {
   "display_name": "Python 3",
   "language": "python",
   "name": "python3"
  },
  "language_info": {
   "codemirror_mode": {
    "name": "ipython",
    "version": 3
   },
   "file_extension": ".py",
   "mimetype": "text/x-python",
   "name": "python",
   "nbconvert_exporter": "python",
   "pygments_lexer": "ipython3",
   "version": "3.11.2"
  },
  "orig_nbformat": 4
 },
 "nbformat": 4,
 "nbformat_minor": 2
}
