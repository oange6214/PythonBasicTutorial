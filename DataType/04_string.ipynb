{
 "cells": [
  {
   "attachments": {},
   "cell_type": "markdown",
   "metadata": {},
   "source": [
    "# 文字與字串 string\n",
    "字串是 Python 裡最常使用的序列，可以包含字母、數字、符號、標點甚至空格、換行。"
   ]
  },
  {
   "attachments": {},
   "cell_type": "markdown",
   "metadata": {},
   "source": [
    "## 建立字串 \n",
    "使用將字元 ( 字母、符號或數字 ) 放在一對「單引號」或「雙引號」裡，就可製作為一個 Python 字串。"
   ]
  },
  {
   "cell_type": "code",
   "execution_count": 2,
   "metadata": {},
   "outputs": [
    {
     "name": "stdout",
     "output_type": "stream",
     "text": [
      "hello\n",
      "hello\n"
     ]
    }
   ],
   "source": [
    "print(\"hello\")  # hello\n",
    "print('hello')  # hello"
   ]
  },
  {
   "attachments": {},
   "cell_type": "markdown",
   "metadata": {},
   "source": [
    "單引號和雙引號可以互相搭配使用，當單引號被雙引號包覆時，單引號為字串，當雙引號被單引號包覆時，雙引號為字串。"
   ]
  },
  {
   "cell_type": "code",
   "execution_count": 3,
   "metadata": {},
   "outputs": [
    {
     "name": "stdout",
     "output_type": "stream",
     "text": [
      "'oxxo' is my name\n",
      "\"oxxo\" is my name\n"
     ]
    }
   ],
   "source": [
    "print(\"'oxxo' is my name\")  # 'oxxo' is my name\n",
    "print('\"oxxo\" is my name')  # \"oxxo\" is my name"
   ]
  },
  {
   "attachments": {},
   "cell_type": "markdown",
   "metadata": {},
   "source": [
    "如果是「多行字串」( 文字很多且會換行 )，則可將多行字串，放在「連續三個」單引號或雙引號裡，就會原封不動的印出結果。"
   ]
  },
  {
   "cell_type": "code",
   "execution_count": 4,
   "metadata": {},
   "outputs": [
    {
     "name": "stdout",
     "output_type": "stream",
     "text": [
      "Millions of developers and companies build,\n",
      "ship, and maintain their software on GitHub—the\n",
      "largest and most advanced development platform\n",
      "in the world.\n"
     ]
    }
   ],
   "source": [
    "a = \"\"\"Millions of developers and companies build,\n",
    "ship, and maintain their software on GitHub—the\n",
    "largest and most advanced development platform\n",
    "in the world.\"\"\"\n",
    "print(a)"
   ]
  },
  {
   "attachments": {},
   "cell_type": "markdown",
   "metadata": {},
   "source": [
    "此外，也可以使用「str()」，將資料轉換成字串，下方的程式將數字 123 轉換為字串 123。"
   ]
  },
  {
   "cell_type": "code",
   "execution_count": 5,
   "metadata": {},
   "outputs": [
    {
     "name": "stdout",
     "output_type": "stream",
     "text": [
      "123\n"
     ]
    }
   ],
   "source": [
    "a = str(123)\n",
    "print(a)   # '123'"
   ]
  },
  {
   "attachments": {},
   "cell_type": "markdown",
   "metadata": {},
   "source": [
    "## 轉義 \n",
    "「轉義」表示「轉換字串內一些字元的含義」，只要在需要轉換的字元前方，加上「反斜線 \\」，就能賦予其特殊意義，常用的轉義字元有下面幾種：\n",
    "\n",
    "| 轉義字元\t| 說明| \n",
    "| :-:|:-: | \n",
    "| \\ ( 放在一行結尾 )| \t接續下一行| \n",
    "| \\\t| 顯示反斜線| \n",
    "| \\'| \t顯示單引號| \n",
    "| \\\"| \t顯示雙引號| \n",
    "| \\b| \t刪除前一個字元| \n",
    "| \\n| \t換行| \n",
    "| \\t| \ttab 鍵| "
   ]
  },
  {
   "attachments": {},
   "cell_type": "markdown",
   "metadata": {},
   "source": [
    "在一行字串裡，使用轉義字元，讓結果同時顯示單引號、雙引號和反斜線。"
   ]
  },
  {
   "cell_type": "code",
   "execution_count": 6,
   "metadata": {},
   "outputs": [
    {
     "name": "stdout",
     "output_type": "stream",
     "text": [
      "hello \"World\", my name is 'oxxo', \\_\\\n"
     ]
    }
   ],
   "source": [
    "a = 'hello \"World\", my name is \\'oxxo\\', \\\\_\\\\'\n",
    "print(a)\n",
    "\n",
    "# hello \"World\", my name is 'oxxo', \\_\\"
   ]
  },
  {
   "attachments": {},
   "cell_type": "markdown",
   "metadata": {},
   "source": [
    "將一行文字根據「\\n」進行換行。"
   ]
  },
  {
   "cell_type": "code",
   "execution_count": 7,
   "metadata": {},
   "outputs": [
    {
     "name": "stdout",
     "output_type": "stream",
     "text": [
      "hello World,\n",
      "my name is oxxo,\n",
      "how are you?\n"
     ]
    }
   ],
   "source": [
    "a = 'hello World,\\nmy name is oxxo,\\nhow are you?'\n",
    "print(a)\n",
    "\n",
    "# hello World,\n",
    "# my name is oxxo,\n",
    "# how are you?"
   ]
  },
  {
   "attachments": {},
   "cell_type": "markdown",
   "metadata": {},
   "source": [
    "## 前方加上 r\n",
    "如果在字串的前方加上「r」，表示這個字串為「raw string」，不要進行轉義，下方的程式碼執行後，a 會印出「\\n」( 因為不進行轉義 )，b 則會將 \\n 轉義為換行，就會印出換行的結果。"
   ]
  },
  {
   "cell_type": "code",
   "execution_count": 9,
   "metadata": {},
   "outputs": [
    {
     "name": "stdout",
     "output_type": "stream",
     "text": [
      "123\\n456\n",
      "123\n",
      "456\n"
     ]
    }
   ],
   "source": [
    "a = r'123\\n456'\n",
    "b = '123\\n456'\n",
    "print(a)\n",
    "print(b)"
   ]
  },
  {
   "attachments": {},
   "cell_type": "markdown",
   "metadata": {},
   "source": [
    "## 結合字串\n",
    "結合字串有三種方式：「+ 號、字串後方放置、括號」，結合的字串「不會加上空格」，所以空格要自己補上。\n",
    "\n",
    "使用「+ 號」可以針對「變數」與「字串」進行結合。"
   ]
  },
  {
   "cell_type": "code",
   "execution_count": 11,
   "metadata": {},
   "outputs": [
    {
     "name": "stdout",
     "output_type": "stream",
     "text": [
      "hello world!!!\n"
     ]
    }
   ],
   "source": [
    "a = 'hello'\n",
    "b = ' world'  # 前方補上空格\n",
    "c = a + b + '!!!'\n",
    "print(c)"
   ]
  },
  {
   "attachments": {},
   "cell_type": "markdown",
   "metadata": {},
   "source": [
    "使用「字串後方放置」只能針對「字串」( 不是變數 ) 進行結合。"
   ]
  },
  {
   "cell_type": "code",
   "execution_count": 12,
   "metadata": {},
   "outputs": [
    {
     "name": "stdout",
     "output_type": "stream",
     "text": [
      "hello world!!!\n"
     ]
    }
   ],
   "source": [
    "a = 'hello' ' world' '!!!'\n",
    "print(a)"
   ]
  },
  {
   "attachments": {},
   "cell_type": "markdown",
   "metadata": {},
   "source": [
    "如果有很多字串，可以將其放在「括號」裡進行結合。"
   ]
  },
  {
   "cell_type": "code",
   "execution_count": 13,
   "metadata": {},
   "outputs": [
    {
     "name": "stdout",
     "output_type": "stream",
     "text": [
      "abc'ok'\n"
     ]
    }
   ],
   "source": [
    "a = ('a' \"b\" 'c' \"'\" 'ok' \"'\")\n",
    "print(a)"
   ]
  },
  {
   "attachments": {},
   "cell_type": "markdown",
   "metadata": {},
   "source": [
    "## 重複字串\n",
    "在字串後方使用「*」加上數字，可以指定該字串要重複幾次，下方的例子，會將 ok 重複 10 次。"
   ]
  },
  {
   "cell_type": "code",
   "execution_count": 14,
   "metadata": {},
   "outputs": [
    {
     "name": "stdout",
     "output_type": "stream",
     "text": [
      "okokokokokokokokokok\n"
     ]
    }
   ],
   "source": [
    "a = 'ok'*10\n",
    "print(a)"
   ]
  },
  {
   "attachments": {},
   "cell_type": "markdown",
   "metadata": {},
   "source": [
    "如果變數是字串，也可以使用 * 進行重複，下圖的例子，會出現 20 個 ok。"
   ]
  },
  {
   "cell_type": "code",
   "execution_count": 15,
   "metadata": {},
   "outputs": [
    {
     "name": "stdout",
     "output_type": "stream",
     "text": [
      "okokokokokokokokokokokokokokokokokokokok\n"
     ]
    }
   ],
   "source": [
    "a = 'ok'*5\n",
    "b = a * 4\n",
    "print(b)"
   ]
  },
  {
   "attachments": {},
   "cell_type": "markdown",
   "metadata": {},
   "source": [
    "## 取得字元與字串\n",
    "使用「 [ ] 」可以取得某個字元 ，因為每個字元在字串中都有各自的「順序 offset」，從左邊數來第一個順序為 0，接下來是 1，如果指定 -1 則會選擇最右邊的字元，-2 則是右邊數來的第二個，依此類推。"
   ]
  },
  {
   "cell_type": "code",
   "execution_count": 16,
   "metadata": {},
   "outputs": [
    {
     "name": "stdout",
     "output_type": "stream",
     "text": [
      "h\n",
      "l\n",
      "d\n"
     ]
    }
   ],
   "source": [
    "a = 'hello world'\n",
    "print(a[0])    # h ( 第一個字元 )\n",
    "print(a[3])    # l ( 第四個字元 )\n",
    "print(a[-1])   # d ( 最後一個字元 )"
   ]
  },
  {
   "attachments": {},
   "cell_type": "markdown",
   "metadata": {},
   "source": [
    "如果要取得某一串文字，可以使用「slice」的方式，定義 slice 的方式為一組方括號、一個 start ( 開始順序 )、一個 end ( 結尾順序 ) 和一個中間的 step ( 間隔 )，常見的規則如下：\n",
    "| 定義\t| 說明 | \n",
    "| :-:| :-: | \n",
    "| [ : ]\t| 取出全部字元，從開始到結束 | \n",
    "| [ start: ] | 取出從 start 的位置一直到結束的字元 | \n",
    "| [ :end ] | 取出從開始一直到 end 的「前一個位置」字元 | \n",
    "| [ start:end ]\t| 取出從 start 位置到 end 的「前一個位置」字元 | \n",
    "| [ start:end:step ] | 取出從 start 位置到 end 的「前一個位置」字元，並跳過 step 個字元 | "
   ]
  },
  {
   "cell_type": "code",
   "execution_count": 17,
   "metadata": {},
   "outputs": [
    {
     "name": "stdout",
     "output_type": "stream",
     "text": [
      "0123456789abcdef\n",
      "56789abcdef\n",
      "01234\n",
      "56789\n",
      "56789abc\n",
      "579\n"
     ]
    }
   ],
   "source": [
    "a = '0123456789abcdef'\n",
    "print(a[:])       # 0123456789abcdef ( 取出全部字元 )\n",
    "print(a[5:])      # 56789abcdef ( 從 5 開始到結束 )\n",
    "print(a[:5])      # 01234 ( 從 0 開始到第 4 個 ( 5-1 ) )\n",
    "print(a[5:10])    # 56789 ( 從 5 開始到第 9 個 ( 10-1 ) )\n",
    "print(a[5:-3])    # 56789abc ( 從 5 開始到倒數第 4 個 ( -3-1 ) )\n",
    "print(a[5:10:2])  # 579 ( 從 5 開始到第 9 個，中間略過 2 個 )"
   ]
  },
  {
   "attachments": {},
   "cell_type": "markdown",
   "metadata": {},
   "source": [
    "## len() 取得字串長度 \n",
    "len() 函式可以取得一串字串的長度 ( 總共幾個字元 )，取得的長度不包含轉義字元，下方的例子會顯示變數 a 的字串長度。"
   ]
  },
  {
   "cell_type": "code",
   "execution_count": 18,
   "metadata": {},
   "outputs": [
    {
     "name": "stdout",
     "output_type": "stream",
     "text": [
      "15\n"
     ]
    }
   ],
   "source": [
    "a = '0123456789_-\\\\\\\"\\''\n",
    "print(len(a)) # 15，不包含三個反斜線 \\"
   ]
  },
  {
   "attachments": {},
   "cell_type": "markdown",
   "metadata": {},
   "source": [
    "## split() 拆分 \n",
    "split() 函式可以將一個字串，根據指定的「分隔符號」，拆分成「串列」\u001d ( 串列就是許多值組成的序列，將許多值包覆在方括號裡，並使用逗號分隔 )。"
   ]
  },
  {
   "cell_type": "code",
   "execution_count": 19,
   "metadata": {},
   "outputs": [
    {
     "name": "stdout",
     "output_type": "stream",
     "text": [
      "['hello world', ' I am oxxo', ' how are you?']\n",
      "['hello', 'world,', 'I', 'am', 'oxxo,', 'how', 'are', 'you?']\n",
      "['hello', 'world,', 'I', 'am', 'oxxo,', 'how', 'are', 'you?']\n"
     ]
    }
   ],
   "source": [
    "a = 'hello world, I am oxxo, how are you?'\n",
    "b = a.split(',') # 以逗號「,」進行拆分\n",
    "c = a.split(' ') # 以空白字元「 」進行拆分\n",
    "d = a.split()    # 如果不指定分隔符號，自動以空白字元進行拆分\n",
    "print(b)         # ['hello world', ' I am oxxo', ' how are you?']\n",
    "print(c)         # ['hello', 'world,', 'I', 'am', 'oxxo,', 'how', 'are', 'you?']\n",
    "print(d)         # ['hello', 'world,', 'I', 'am', 'oxxo,', 'how', 'are', 'you?']"
   ]
  },
  {
   "attachments": {},
   "cell_type": "markdown",
   "metadata": {},
   "source": [
    "## replace() 替換\n",
    "replace() 函式可以進行簡單的字串替換，replace() 函式有三個參數「舊的字串，新的字串，替換的數量」，如果沒有指定數量，就會將內容所有指定的字串替換成新的字串。\n",
    "\n",
    "如果要進行更複雜規則的取代，就必須要使用「正規表達式」。"
   ]
  },
  {
   "cell_type": "code",
   "execution_count": 20,
   "metadata": {},
   "outputs": [
    {
     "name": "stdout",
     "output_type": "stream",
     "text": [
      "heXXXXXXo worXXXd, XXXoXXX\n",
      "heXXXXXXo world, lol\n"
     ]
    }
   ],
   "source": [
    "a = 'hello world, lol'\n",
    "b = a.replace('l','XXX')\n",
    "c = a.replace('l','XXX',2)\n",
    "print(b)  # heXXXXXXo worXXXd, XXXoXXX ( 所有的 l 都被換成 XXX )\n",
    "print(c)  # heXXXXXXo world, lol ( 前兩個 l 被換成 XXX )"
   ]
  },
  {
   "attachments": {},
   "cell_type": "markdown",
   "metadata": {},
   "source": [
    "## strip() 剝除\n",
    "**strip() 函式可以去除一段字串開頭或結尾的某些字元**，使用 rstrip() 函式可以只去除右邊，使用 lstrip() 函式可以只去除左邊，括號內可以填入指定的字元，就會將開頭或結尾指定的字元剝除。"
   ]
  },
  {
   "cell_type": "code",
   "execution_count": 21,
   "metadata": {},
   "outputs": [
    {
     "name": "stdout",
     "output_type": "stream",
     "text": [
      "hello!!\n",
      "hello!!\n",
      "  hello!!\n",
      "  hello\n"
     ]
    }
   ],
   "source": [
    "a = '  hello!!'\n",
    "b = a.strip()\n",
    "e = a.strip('!')\n",
    "c = a.lstrip()\n",
    "d = a.rstrip()\n",
    "print(b) # hello!!\n",
    "print(c) # hello!!\n",
    "print(d) #   hello!!\n",
    "print(e) #   hello"
   ]
  },
  {
   "attachments": {},
   "cell_type": "markdown",
   "metadata": {},
   "source": [
    "## 搜尋和選擇 \n",
    "如果要搜尋字串中的某個字，可以使用「find()」或「index()」兩個函式，函式預設從左側開始找起，找到指定的字串或字元時，會回傳第一次出現的位置 ( offset )，如果改成「rfind()」或「rindex()」就會從右側找起，找到指定的字串或字元時，會回傳最後一次出現的位置 ( offset )，如果沒有找到結果，**find() 會回報 -1 的數值，index() 會直接顯示錯誤訊息**。"
   ]
  },
  {
   "cell_type": "code",
   "execution_count": 22,
   "metadata": {},
   "outputs": [
    {
     "name": "stdout",
     "output_type": "stream",
     "text": [
      "15\n",
      "26\n"
     ]
    }
   ],
   "source": [
    "a = 'hello world, I am oxxo, I am a designer!'\n",
    "b = a.find('am')\n",
    "c = a.rfind('am')\n",
    "print(b)  # 15 ( 第一個 am 在 15 的位置 )\n",
    "print(c)  # 26 ( 最後一個 am 在 26 的位置 )"
   ]
  },
  {
   "attachments": {},
   "cell_type": "markdown",
   "metadata": {},
   "source": [
    "下方列出一些好用的搜尋與選擇函式：\n",
    " | 函式\t | 說明 | \n",
    " | :-: | :-: |\n",
    " | startswith()\t| 判斷開頭字串，符合 True，不符合 False | \n",
    " | endswith()\t| 判斷結尾字串，符合 True，不符合 False | \n",
    " | isalnum()\t| 判斷是否只有字母和數字，符合 True，不符合 False | \n",
    " | count()\t | 計算字串出現了幾次 | "
   ]
  },
  {
   "cell_type": "code",
   "execution_count": 23,
   "metadata": {},
   "outputs": [
    {
     "name": "stdout",
     "output_type": "stream",
     "text": [
      "True\n",
      "False\n",
      "False\n",
      "2\n"
     ]
    }
   ],
   "source": [
    "a = 'hello world, I am oxxo, I am a designer!'\n",
    "b = a.startswith('hello')\n",
    "c = a.endswith('hello')\n",
    "d = a.isalnum()\n",
    "e = a.count('am')\n",
    "print(b)   # True  ( 開頭是 hello )\n",
    "print(c)   # False ( 結尾不是 hello )\n",
    "print(d)   # False ( 裡面有逗號和驚嘆號 )\n",
    "print(e)   # 2 ( 出現兩次 am )"
   ]
  },
  {
   "attachments": {},
   "cell_type": "markdown",
   "metadata": {},
   "source": [
    "## 大小寫 \n",
    "Python 針對字串的大小寫，有四種內建的轉換函式可以使用：\n",
    "\n",
    " | 函式\t | 說明 | \n",
    " | :-: | :-: |\n",
    " |title()\t |單字字首字母變大寫 |\n",
    " |upper()\t |所有字母變大寫 |\n",
    " |lower()\t |所有字母變小寫 |\n",
    " |swapcase()\t |單字字母的大小寫對調 |"
   ]
  },
  {
   "cell_type": "code",
   "execution_count": 24,
   "metadata": {},
   "outputs": [
    {
     "name": "stdout",
     "output_type": "stream",
     "text": [
      "Hello World, I Am Oxxo\n",
      "HELLO WORLD, I AM OXXO\n",
      "hello world, i am oxxo\n",
      "hELLO WORLD, i AM oxxo\n"
     ]
    }
   ],
   "source": [
    "a = 'Hello world, I am OXXO'\n",
    "b = a.title()\n",
    "c = a.upper()\n",
    "d = a.lower()\n",
    "e = a.swapcase()\n",
    "print(b) # Hello World, I Am Oxxo\n",
    "print(c) # HELLO WORLD, I AM OXXO\n",
    "print(d) # hello world, i am oxxo\n",
    "print(e) # hELLO WORLD, i AM oxxo"
   ]
  },
  {
   "cell_type": "code",
   "execution_count": null,
   "metadata": {},
   "outputs": [],
   "source": []
  }
 ],
 "metadata": {
  "kernelspec": {
   "display_name": "Python 3",
   "language": "python",
   "name": "python3"
  },
  "language_info": {
   "codemirror_mode": {
    "name": "ipython",
    "version": 3
   },
   "file_extension": ".py",
   "mimetype": "text/x-python",
   "name": "python",
   "nbconvert_exporter": "python",
   "pygments_lexer": "ipython3",
   "version": "3.11.2"
  },
  "orig_nbformat": 4
 },
 "nbformat": 4,
 "nbformat_minor": 2
}
