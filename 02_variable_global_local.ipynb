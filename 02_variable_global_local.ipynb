{
 "cells": [
  {
   "attachments": {},
   "cell_type": "markdown",
   "metadata": {},
   "source": [
    "# 全域變數、區域變數\n",
    "一個變數的名稱除了可以代表不同的東西，也表示「哪裡可以使用」這個變數"
   ]
  },
  {
   "attachments": {},
   "cell_type": "markdown",
   "metadata": {},
   "source": [
    "## 什麼是全域變數和區域變數？\n",
    "在 Python 裡的主程式與每個函式，都有各自的命名空間 ( namespace )，簡單的區分規則如下：\n",
    "\n",
    "* 主程式定義「全域」的命名空間，在主程式定義的變數是「全域變數」。\n",
    "* 個別函式定義「區域」的名稱空間，個別函式裡定義的變數就是「區域變數」。\n",
    "* 每個名稱空間裡的變數名稱都是「唯一的」。\n",
    "* 不同名稱空間內的變數名稱可以相同，例如函式 A 可以定義 a 變數，函式 B 也可以定義 a 變數，兩個 a 變數是完全不同的變數。"
   ]
  },
  {
   "cell_type": "code",
   "execution_count": 10,
   "metadata": {},
   "outputs": [],
   "source": [
    "num = 5\n",
    "name = 'BrightestTECH'"
   ]
  },
  {
   "attachments": {},
   "cell_type": "markdown",
   "metadata": {},
   "source": [
    "以上，簡單定義了兩個變數，變等同建立了兩個沒有贈和物件的對應關性，這種建立名字和物件映射關係的行為便是「命名」。"
   ]
  },
  {
   "attachments": {
    "image-2.png": {
     "image/png": "[encoded data removed]"
    }
   },
   "cell_type": "markdown",
   "metadata": {},
   "source": [
    "## 預設的名稱空間 \n",
    "Python 預設提供三個命名空間，分別是內置預設 Built-in ( Python 預設的函數名稱如 abs、char...等等 )、全域 Global 和區域 Local 三種，當使用變數時，會從最內層 ( 區域命名空間 ) 開始往外層搜尋，直到找到對應的名稱為止 ( 如果找不到就會拋出錯誤 )。\n",
    "\n",
    "![image.png](attachment:image-2.png)"
   ]
  },
  {
   "cell_type": "code",
   "execution_count": 11,
   "metadata": {},
   "outputs": [
    {
     "name": "stdout",
     "output_type": "stream",
     "text": [
      "__main__\n"
     ]
    }
   ],
   "source": [
    "a = 1 # a 處在全域命名空間\n",
    "\n",
    "def func():\n",
    "    b = 2 # b 處在區域命名空間\n",
    "\n",
    "print(__name__) # __name__ 處在內建命名空間"
   ]
  },
  {
   "attachments": {},
   "cell_type": "markdown",
   "metadata": {},
   "source": [
    "## 釐清到底用了哪個變數\n",
    "下方的程式碼，定義了兩個變數 a，因為兩個變數 a 處在不同的名稱空間裡，所以印出來的結果是不同的。\n",
    "\n",
    "注意，函式名稱也屬於變數名稱，如果將函式定義為 a，則會覆寫全域變數 a 的內容。"
   ]
  },
  {
   "cell_type": "code",
   "execution_count": 12,
   "metadata": {},
   "outputs": [
    {
     "name": "stdout",
     "output_type": "stream",
     "text": [
      "2\n",
      "1\n"
     ]
    }
   ],
   "source": [
    "a = 1           # 定義全域變數 a 等於 1\n",
    "def hello():    # 定義 hello 函式\n",
    "  a = 2         # 定義區域變數 a 等於 2\n",
    "  print(a)\n",
    "\n",
    "hello()         # 2\n",
    "print(a)        # 1"
   ]
  },
  {
   "attachments": {},
   "cell_type": "markdown",
   "metadata": {},
   "source": [
    "如果在 hello 函式裡沒有定義變數 a，而是「單純使用變數 a」，這時程式會先尋找 hello 函式的名稱空間裡是否有變數 a，如果找不到，就會往外層尋找，找到之後就會使用該變數的內容，以下方的例子，執行 hello 函式後就會印出 10。"
   ]
  },
  {
   "cell_type": "code",
   "execution_count": 13,
   "metadata": {},
   "outputs": [
    {
     "name": "stdout",
     "output_type": "stream",
     "text": [
      "10\n",
      "1\n"
     ]
    }
   ],
   "source": [
    "a = 1\n",
    "def hello():\n",
    "  print(a+9)    # 使用全域變數的 a\n",
    "\n",
    "hello()         # 10\n",
    "print(a)        # 1"
   ]
  },
  {
   "attachments": {},
   "cell_type": "markdown",
   "metadata": {},
   "source": [
    "## 使用 global 修改全域變數 \n",
    "如果要在函式裡修改全域變數，可以使用「global 全域變數」的方式。"
   ]
  },
  {
   "cell_type": "code",
   "execution_count": 14,
   "metadata": {},
   "outputs": [
    {
     "name": "stdout",
     "output_type": "stream",
     "text": [
      "1\n",
      "2\n"
     ]
    }
   ],
   "source": [
    "a = 1         # 定義全域變數 a 等於 1\n",
    "def hello():  # 定義 hello 函式\n",
    "  global a    # 聲明下方的 a 為全域變數 a\n",
    "  a = 2       # 修改 a 為 2\n",
    "\n",
    "print(a)      # 1\n",
    "hello()       # 執行 hello 函式\n",
    "print(a)      # 2 ( 全域變數 a 被修改為 2 )"
   ]
  },
  {
   "attachments": {},
   "cell_type": "markdown",
   "metadata": {},
   "source": [
    "## 全域變數和區域變數容易遇到的陷阱\n",
    "如果變數的內容是串列、字典或集合，在處理「全域變數和區域變數」時，與處理「多個變數同時賦值」時一樣，很容易會遇到賦值的陷阱，因為變數只是「標籤」，當多個變數同時指向一個串列、字典或集合時，只要變數內容被修改 ( 並非使用等號賦值 )，不論這個變數是全域還是區域變數，另外一個變數內容也會跟著更動 ( 延伸閱讀：設定多個變數的陷阱 )。"
   ]
  },
  {
   "attachments": {},
   "cell_type": "markdown",
   "metadata": {},
   "source": [
    "下方的例子執行後，f1 函式的 a 不受作用域的影響，使用 append 發生「改變」後，不論 a 在何處都會被影響，連帶 b 也被影響，但 c 因為是使用等號「宣告賦值」，就會轉變成「區域變數」，因此在 f1 函式作用域之外的 c 就不會被影響，d 也不會被影響，不過如果在 f1 的開頭加上 global c，等同於將 c 從區域變數提升到全域變數，f2 裡的 c 就會被影響。"
   ]
  },
  {
   "cell_type": "code",
   "execution_count": 15,
   "metadata": {},
   "outputs": [
    {
     "name": "stdout",
     "output_type": "stream",
     "text": [
      "[1]\n",
      "[1]\n",
      "[1]\n",
      "[]\n",
      "[1]\n",
      "[1]\n",
      "[]\n",
      "[]\n"
     ]
    }
   ],
   "source": [
    "a = []\n",
    "b = a\n",
    "c = []\n",
    "d = c\n",
    "\n",
    "def f1():\n",
    "    # global c        # 如果加上這行，f2 裡的 c 就會被影響\n",
    "    a.append(1)\n",
    "    c = [1]\n",
    "    print(a)  # [1]\n",
    "    print(b)  # [1]   # 被影響\n",
    "    print(c)  # [1]\n",
    "    print(d)  # []    # 不受影響\n",
    "\n",
    "def f2():\n",
    "    print(a)  # [1]   # 被影響\n",
    "    print(b)  # [1]   # 被影響\n",
    "    print(c)  # []    # 不受影響，但如果 f1 加上 global c，此處就會被影響\n",
    "    print(d)  # []    # 不受影響\n",
    "\n",
    "f1()\n",
    "f2()"
   ]
  },
  {
   "attachments": {},
   "cell_type": "markdown",
   "metadata": {},
   "source": [
    "# global() 和 local() \n",
    "global() 和 local() 是兩個可以印出目前變數的方法：\n",
    "\n",
    "* global()：回傳一個字典，內容是「全域名稱空間」的內容。\n",
    "* local()：回傳一個字典，內容是「區域名稱空間」的內容。"
   ]
  },
  {
   "cell_type": "code",
   "execution_count": 16,
   "metadata": {},
   "outputs": [
    {
     "name": "stdout",
     "output_type": "stream",
     "text": [
      "{'a': 1}\n",
      "{'__name__': '__main__', '__doc__': 'Automatically created module for IPython interactive environment', '__package__': None, '__loader__': None, '__spec__': None, '__builtin__': <module 'builtins' (built-in)>, '__builtins__': <module 'builtins' (built-in)>, '_ih': ['', 'a = 1 # a 处在全局命名空间\\n\\ndef func():\\n    b = 2 # b 处在局部命名空间\\n\\nprint(__name__) # __name__ 处在内建命名空间', 'a = 1 # a 處在全域命名空間\\n\\ndef func():\\n    b = 2 # b 處在區域命名空間\\n\\nprint(__name__) # __name__ 處在內建命名空間', \"num = 5\\nname = 'BrightestTECH'\", 'a = 1           # 定義全域變數 a 等於 1\\ndef hello():    # 定義 hello 函式\\n  a = 2         # 定義區域變數 a 等於 2\\n  print(a)\\n\\nhello()         # 2\\nprint(a)        # 1', 'a = 1\\ndef hello():\\n  print(a+9)    # 使用全域變數的 a\\n\\nhello()         # 10\\nprint(a)        # 1', 'def hello():\\n  a = 1\\n  print(a)\\n\\nhello()\\nprint(a)    # 發生錯誤，因為找不到變數 a', 'a = 1         # 定義全域變數 a 等於 1\\ndef hello():  # 定義 hello 函式\\n  global a    # 聲明下方的 a 為全域變數 a\\n  a = 2       # 修改 a 為 2\\n\\nprint(a)      # 1\\nhello()       # 執行 hello 函式\\nprint(a)      # 2 ( 全域變數 a 被修改為 2 )', 'a = []\\nb = a\\nc = []\\nd = c\\n\\ndef f1():\\n    # global c        # 如果加上這行，f2 裡的 c 就會被影響\\n    a.append(1)\\n    c = [1]\\n    print(a)  # [1]\\n    print(b)  # [1]   # 被影響\\n    print(c)  # [1]\\n    print(d)  # []    # 不受影響\\n\\ndef f2():\\n    print(a)  # [1]   # 被影響\\n    print(b)  # [1]   # 被影響\\n    print(c)  # []    # 不受影響，但如果 f1 加上 global c，此處就會被影響\\n    print(d)  # []    # 不受影響\\n\\nf1()\\nf2()', 'a = 1\\ndef hello():\\n  a = 1\\n  print(locals())\\n  print(globals())\\n\\nhello()\\nprint(a)', \"num = 5\\nname = 'BrightestTECH'\", 'a = 1 # a 處在全域命名空間\\n\\ndef func():\\n    b = 2 # b 處在區域命名空間\\n\\nprint(__name__) # __name__ 處在內建命名空間', 'a = 1           # 定義全域變數 a 等於 1\\ndef hello():    # 定義 hello 函式\\n  a = 2         # 定義區域變數 a 等於 2\\n  print(a)\\n\\nhello()         # 2\\nprint(a)        # 1', 'a = 1\\ndef hello():\\n  print(a+9)    # 使用全域變數的 a\\n\\nhello()         # 10\\nprint(a)        # 1', 'a = 1         # 定義全域變數 a 等於 1\\ndef hello():  # 定義 hello 函式\\n  global a    # 聲明下方的 a 為全域變數 a\\n  a = 2       # 修改 a 為 2\\n\\nprint(a)      # 1\\nhello()       # 執行 hello 函式\\nprint(a)      # 2 ( 全域變數 a 被修改為 2 )', 'a = []\\nb = a\\nc = []\\nd = c\\n\\ndef f1():\\n    # global c        # 如果加上這行，f2 裡的 c 就會被影響\\n    a.append(1)\\n    c = [1]\\n    print(a)  # [1]\\n    print(b)  # [1]   # 被影響\\n    print(c)  # [1]\\n    print(d)  # []    # 不受影響\\n\\ndef f2():\\n    print(a)  # [1]   # 被影響\\n    print(b)  # [1]   # 被影響\\n    print(c)  # []    # 不受影響，但如果 f1 加上 global c，此處就會被影響\\n    print(d)  # []    # 不受影響\\n\\nf1()\\nf2()', 'a = 1\\ndef hello():\\n  a = 1\\n  print(locals())\\n  print(globals())\\n\\nhello()\\nprint(a)'], '_oh': {}, '_dh': [WindowsPath('d:/Devolops/Python/Class1'), WindowsPath('d:/Devolops/Python/Class1')], 'In': ['', 'a = 1 # a 处在全局命名空间\\n\\ndef func():\\n    b = 2 # b 处在局部命名空间\\n\\nprint(__name__) # __name__ 处在内建命名空间', 'a = 1 # a 處在全域命名空間\\n\\ndef func():\\n    b = 2 # b 處在區域命名空間\\n\\nprint(__name__) # __name__ 處在內建命名空間', \"num = 5\\nname = 'BrightestTECH'\", 'a = 1           # 定義全域變數 a 等於 1\\ndef hello():    # 定義 hello 函式\\n  a = 2         # 定義區域變數 a 等於 2\\n  print(a)\\n\\nhello()         # 2\\nprint(a)        # 1', 'a = 1\\ndef hello():\\n  print(a+9)    # 使用全域變數的 a\\n\\nhello()         # 10\\nprint(a)        # 1', 'def hello():\\n  a = 1\\n  print(a)\\n\\nhello()\\nprint(a)    # 發生錯誤，因為找不到變數 a', 'a = 1         # 定義全域變數 a 等於 1\\ndef hello():  # 定義 hello 函式\\n  global a    # 聲明下方的 a 為全域變數 a\\n  a = 2       # 修改 a 為 2\\n\\nprint(a)      # 1\\nhello()       # 執行 hello 函式\\nprint(a)      # 2 ( 全域變數 a 被修改為 2 )', 'a = []\\nb = a\\nc = []\\nd = c\\n\\ndef f1():\\n    # global c        # 如果加上這行，f2 裡的 c 就會被影響\\n    a.append(1)\\n    c = [1]\\n    print(a)  # [1]\\n    print(b)  # [1]   # 被影響\\n    print(c)  # [1]\\n    print(d)  # []    # 不受影響\\n\\ndef f2():\\n    print(a)  # [1]   # 被影響\\n    print(b)  # [1]   # 被影響\\n    print(c)  # []    # 不受影響，但如果 f1 加上 global c，此處就會被影響\\n    print(d)  # []    # 不受影響\\n\\nf1()\\nf2()', 'a = 1\\ndef hello():\\n  a = 1\\n  print(locals())\\n  print(globals())\\n\\nhello()\\nprint(a)', \"num = 5\\nname = 'BrightestTECH'\", 'a = 1 # a 處在全域命名空間\\n\\ndef func():\\n    b = 2 # b 處在區域命名空間\\n\\nprint(__name__) # __name__ 處在內建命名空間', 'a = 1           # 定義全域變數 a 等於 1\\ndef hello():    # 定義 hello 函式\\n  a = 2         # 定義區域變數 a 等於 2\\n  print(a)\\n\\nhello()         # 2\\nprint(a)        # 1', 'a = 1\\ndef hello():\\n  print(a+9)    # 使用全域變數的 a\\n\\nhello()         # 10\\nprint(a)        # 1', 'a = 1         # 定義全域變數 a 等於 1\\ndef hello():  # 定義 hello 函式\\n  global a    # 聲明下方的 a 為全域變數 a\\n  a = 2       # 修改 a 為 2\\n\\nprint(a)      # 1\\nhello()       # 執行 hello 函式\\nprint(a)      # 2 ( 全域變數 a 被修改為 2 )', 'a = []\\nb = a\\nc = []\\nd = c\\n\\ndef f1():\\n    # global c        # 如果加上這行，f2 裡的 c 就會被影響\\n    a.append(1)\\n    c = [1]\\n    print(a)  # [1]\\n    print(b)  # [1]   # 被影響\\n    print(c)  # [1]\\n    print(d)  # []    # 不受影響\\n\\ndef f2():\\n    print(a)  # [1]   # 被影響\\n    print(b)  # [1]   # 被影響\\n    print(c)  # []    # 不受影響，但如果 f1 加上 global c，此處就會被影響\\n    print(d)  # []    # 不受影響\\n\\nf1()\\nf2()', 'a = 1\\ndef hello():\\n  a = 1\\n  print(locals())\\n  print(globals())\\n\\nhello()\\nprint(a)'], 'Out': {}, 'get_ipython': <bound method InteractiveShell.get_ipython of <ipykernel.zmqshell.ZMQInteractiveShell object at 0x000001A6FAE81350>>, 'exit': <IPython.core.autocall.ZMQExitAutocall object at 0x000001A6FAE91210>, 'quit': <IPython.core.autocall.ZMQExitAutocall object at 0x000001A6FAE91210>, 'open': <function open at 0x000001A6F8B4B920>, '_': '', '__': '', '___': '', '__vsc_ipynb_file__': 'd:\\\\Devolops\\\\Python\\\\Class1\\\\02_Variable_GlobalandLocal.ipynb', '_i': 'a = []\\nb = a\\nc = []\\nd = c\\n\\ndef f1():\\n    # global c        # 如果加上這行，f2 裡的 c 就會被影響\\n    a.append(1)\\n    c = [1]\\n    print(a)  # [1]\\n    print(b)  # [1]   # 被影響\\n    print(c)  # [1]\\n    print(d)  # []    # 不受影響\\n\\ndef f2():\\n    print(a)  # [1]   # 被影響\\n    print(b)  # [1]   # 被影響\\n    print(c)  # []    # 不受影響，但如果 f1 加上 global c，此處就會被影響\\n    print(d)  # []    # 不受影響\\n\\nf1()\\nf2()', '_ii': 'a = 1         # 定義全域變數 a 等於 1\\ndef hello():  # 定義 hello 函式\\n  global a    # 聲明下方的 a 為全域變數 a\\n  a = 2       # 修改 a 為 2\\n\\nprint(a)      # 1\\nhello()       # 執行 hello 函式\\nprint(a)      # 2 ( 全域變數 a 被修改為 2 )', '_iii': 'a = 1\\ndef hello():\\n  print(a+9)    # 使用全域變數的 a\\n\\nhello()         # 10\\nprint(a)        # 1', '_i1': 'a = 1 # a 处在全局命名空间\\n\\ndef func():\\n    b = 2 # b 处在局部命名空间\\n\\nprint(__name__) # __name__ 处在内建命名空间', 'a': 1, 'func': <function func at 0x000001A6FAE9A340>, '_i2': 'a = 1 # a 處在全域命名空間\\n\\ndef func():\\n    b = 2 # b 處在區域命名空間\\n\\nprint(__name__) # __name__ 處在內建命名空間', '_i3': \"num = 5\\nname = 'BrightestTECH'\", 'num': 5, 'name': 'BrightestTECH', '_i4': 'a = 1           # 定義全域變數 a 等於 1\\ndef hello():    # 定義 hello 函式\\n  a = 2         # 定義區域變數 a 等於 2\\n  print(a)\\n\\nhello()         # 2\\nprint(a)        # 1', 'hello': <function hello at 0x000001A6FAE9A020>, '_i5': 'a = 1\\ndef hello():\\n  print(a+9)    # 使用全域變數的 a\\n\\nhello()         # 10\\nprint(a)        # 1', '_i6': 'def hello():\\n  a = 1\\n  print(a)\\n\\nhello()\\nprint(a)    # 發生錯誤，因為找不到變數 a', '_i7': 'a = 1         # 定義全域變數 a 等於 1\\ndef hello():  # 定義 hello 函式\\n  global a    # 聲明下方的 a 為全域變數 a\\n  a = 2       # 修改 a 為 2\\n\\nprint(a)      # 1\\nhello()       # 執行 hello 函式\\nprint(a)      # 2 ( 全域變數 a 被修改為 2 )', '_i8': 'a = []\\nb = a\\nc = []\\nd = c\\n\\ndef f1():\\n    # global c        # 如果加上這行，f2 裡的 c 就會被影響\\n    a.append(1)\\n    c = [1]\\n    print(a)  # [1]\\n    print(b)  # [1]   # 被影響\\n    print(c)  # [1]\\n    print(d)  # []    # 不受影響\\n\\ndef f2():\\n    print(a)  # [1]   # 被影響\\n    print(b)  # [1]   # 被影響\\n    print(c)  # []    # 不受影響，但如果 f1 加上 global c，此處就會被影響\\n    print(d)  # []    # 不受影響\\n\\nf1()\\nf2()', 'b': [1], 'c': [], 'd': [], 'f1': <function f1 at 0x000001A6FAE9A7A0>, 'f2': <function f2 at 0x000001A6FAE9A480>, '_i9': 'a = 1\\ndef hello():\\n  a = 1\\n  print(locals())\\n  print(globals())\\n\\nhello()\\nprint(a)', '_i10': \"num = 5\\nname = 'BrightestTECH'\", '_i11': 'a = 1 # a 處在全域命名空間\\n\\ndef func():\\n    b = 2 # b 處在區域命名空間\\n\\nprint(__name__) # __name__ 處在內建命名空間', '_i12': 'a = 1           # 定義全域變數 a 等於 1\\ndef hello():    # 定義 hello 函式\\n  a = 2         # 定義區域變數 a 等於 2\\n  print(a)\\n\\nhello()         # 2\\nprint(a)        # 1', '_i13': 'a = 1\\ndef hello():\\n  print(a+9)    # 使用全域變數的 a\\n\\nhello()         # 10\\nprint(a)        # 1', '_i14': 'a = 1         # 定義全域變數 a 等於 1\\ndef hello():  # 定義 hello 函式\\n  global a    # 聲明下方的 a 為全域變數 a\\n  a = 2       # 修改 a 為 2\\n\\nprint(a)      # 1\\nhello()       # 執行 hello 函式\\nprint(a)      # 2 ( 全域變數 a 被修改為 2 )', '_i15': 'a = []\\nb = a\\nc = []\\nd = c\\n\\ndef f1():\\n    # global c        # 如果加上這行，f2 裡的 c 就會被影響\\n    a.append(1)\\n    c = [1]\\n    print(a)  # [1]\\n    print(b)  # [1]   # 被影響\\n    print(c)  # [1]\\n    print(d)  # []    # 不受影響\\n\\ndef f2():\\n    print(a)  # [1]   # 被影響\\n    print(b)  # [1]   # 被影響\\n    print(c)  # []    # 不受影響，但如果 f1 加上 global c，此處就會被影響\\n    print(d)  # []    # 不受影響\\n\\nf1()\\nf2()', '_i16': 'a = 1\\ndef hello():\\n  a = 1\\n  print(locals())\\n  print(globals())\\n\\nhello()\\nprint(a)'}\n",
      "1\n"
     ]
    }
   ],
   "source": [
    "a = 1\n",
    "def hello():\n",
    "  a = 1\n",
    "  print(locals())\n",
    "  print(globals())\n",
    "\n",
    "hello()\n",
    "print(a)"
   ]
  },
  {
   "attachments": {},
   "cell_type": "markdown",
   "metadata": {},
   "source": [
    "如果將 locals() 放到全域名稱空間裡，則印出來的結果和 global() 相同。"
   ]
  },
  {
   "cell_type": "code",
   "execution_count": 17,
   "metadata": {},
   "outputs": [
    {
     "name": "stdout",
     "output_type": "stream",
     "text": [
      "{'__name__': '__main__', '__doc__': 'Automatically created module for IPython interactive environment', '__package__': None, '__loader__': None, '__spec__': None, '__builtin__': <module 'builtins' (built-in)>, '__builtins__': <module 'builtins' (built-in)>, '_ih': ['', 'a = 1 # a 处在全局命名空间\\n\\ndef func():\\n    b = 2 # b 处在局部命名空间\\n\\nprint(__name__) # __name__ 处在内建命名空间', 'a = 1 # a 處在全域命名空間\\n\\ndef func():\\n    b = 2 # b 處在區域命名空間\\n\\nprint(__name__) # __name__ 處在內建命名空間', \"num = 5\\nname = 'BrightestTECH'\", 'a = 1           # 定義全域變數 a 等於 1\\ndef hello():    # 定義 hello 函式\\n  a = 2         # 定義區域變數 a 等於 2\\n  print(a)\\n\\nhello()         # 2\\nprint(a)        # 1', 'a = 1\\ndef hello():\\n  print(a+9)    # 使用全域變數的 a\\n\\nhello()         # 10\\nprint(a)        # 1', 'def hello():\\n  a = 1\\n  print(a)\\n\\nhello()\\nprint(a)    # 發生錯誤，因為找不到變數 a', 'a = 1         # 定義全域變數 a 等於 1\\ndef hello():  # 定義 hello 函式\\n  global a    # 聲明下方的 a 為全域變數 a\\n  a = 2       # 修改 a 為 2\\n\\nprint(a)      # 1\\nhello()       # 執行 hello 函式\\nprint(a)      # 2 ( 全域變數 a 被修改為 2 )', 'a = []\\nb = a\\nc = []\\nd = c\\n\\ndef f1():\\n    # global c        # 如果加上這行，f2 裡的 c 就會被影響\\n    a.append(1)\\n    c = [1]\\n    print(a)  # [1]\\n    print(b)  # [1]   # 被影響\\n    print(c)  # [1]\\n    print(d)  # []    # 不受影響\\n\\ndef f2():\\n    print(a)  # [1]   # 被影響\\n    print(b)  # [1]   # 被影響\\n    print(c)  # []    # 不受影響，但如果 f1 加上 global c，此處就會被影響\\n    print(d)  # []    # 不受影響\\n\\nf1()\\nf2()', 'a = 1\\ndef hello():\\n  a = 1\\n  print(locals())\\n  print(globals())\\n\\nhello()\\nprint(a)', \"num = 5\\nname = 'BrightestTECH'\", 'a = 1 # a 處在全域命名空間\\n\\ndef func():\\n    b = 2 # b 處在區域命名空間\\n\\nprint(__name__) # __name__ 處在內建命名空間', 'a = 1           # 定義全域變數 a 等於 1\\ndef hello():    # 定義 hello 函式\\n  a = 2         # 定義區域變數 a 等於 2\\n  print(a)\\n\\nhello()         # 2\\nprint(a)        # 1', 'a = 1\\ndef hello():\\n  print(a+9)    # 使用全域變數的 a\\n\\nhello()         # 10\\nprint(a)        # 1', 'a = 1         # 定義全域變數 a 等於 1\\ndef hello():  # 定義 hello 函式\\n  global a    # 聲明下方的 a 為全域變數 a\\n  a = 2       # 修改 a 為 2\\n\\nprint(a)      # 1\\nhello()       # 執行 hello 函式\\nprint(a)      # 2 ( 全域變數 a 被修改為 2 )', 'a = []\\nb = a\\nc = []\\nd = c\\n\\ndef f1():\\n    # global c        # 如果加上這行，f2 裡的 c 就會被影響\\n    a.append(1)\\n    c = [1]\\n    print(a)  # [1]\\n    print(b)  # [1]   # 被影響\\n    print(c)  # [1]\\n    print(d)  # []    # 不受影響\\n\\ndef f2():\\n    print(a)  # [1]   # 被影響\\n    print(b)  # [1]   # 被影響\\n    print(c)  # []    # 不受影響，但如果 f1 加上 global c，此處就會被影響\\n    print(d)  # []    # 不受影響\\n\\nf1()\\nf2()', 'a = 1\\ndef hello():\\n  a = 1\\n  print(locals())\\n  print(globals())\\n\\nhello()\\nprint(a)', 'a = 1\\ndef hello():\\n  a = 1\\nhello()\\nprint(locals())\\nprint(globals())'], '_oh': {}, '_dh': [WindowsPath('d:/Devolops/Python/Class1'), WindowsPath('d:/Devolops/Python/Class1')], 'In': ['', 'a = 1 # a 处在全局命名空间\\n\\ndef func():\\n    b = 2 # b 处在局部命名空间\\n\\nprint(__name__) # __name__ 处在内建命名空间', 'a = 1 # a 處在全域命名空間\\n\\ndef func():\\n    b = 2 # b 處在區域命名空間\\n\\nprint(__name__) # __name__ 處在內建命名空間', \"num = 5\\nname = 'BrightestTECH'\", 'a = 1           # 定義全域變數 a 等於 1\\ndef hello():    # 定義 hello 函式\\n  a = 2         # 定義區域變數 a 等於 2\\n  print(a)\\n\\nhello()         # 2\\nprint(a)        # 1', 'a = 1\\ndef hello():\\n  print(a+9)    # 使用全域變數的 a\\n\\nhello()         # 10\\nprint(a)        # 1', 'def hello():\\n  a = 1\\n  print(a)\\n\\nhello()\\nprint(a)    # 發生錯誤，因為找不到變數 a', 'a = 1         # 定義全域變數 a 等於 1\\ndef hello():  # 定義 hello 函式\\n  global a    # 聲明下方的 a 為全域變數 a\\n  a = 2       # 修改 a 為 2\\n\\nprint(a)      # 1\\nhello()       # 執行 hello 函式\\nprint(a)      # 2 ( 全域變數 a 被修改為 2 )', 'a = []\\nb = a\\nc = []\\nd = c\\n\\ndef f1():\\n    # global c        # 如果加上這行，f2 裡的 c 就會被影響\\n    a.append(1)\\n    c = [1]\\n    print(a)  # [1]\\n    print(b)  # [1]   # 被影響\\n    print(c)  # [1]\\n    print(d)  # []    # 不受影響\\n\\ndef f2():\\n    print(a)  # [1]   # 被影響\\n    print(b)  # [1]   # 被影響\\n    print(c)  # []    # 不受影響，但如果 f1 加上 global c，此處就會被影響\\n    print(d)  # []    # 不受影響\\n\\nf1()\\nf2()', 'a = 1\\ndef hello():\\n  a = 1\\n  print(locals())\\n  print(globals())\\n\\nhello()\\nprint(a)', \"num = 5\\nname = 'BrightestTECH'\", 'a = 1 # a 處在全域命名空間\\n\\ndef func():\\n    b = 2 # b 處在區域命名空間\\n\\nprint(__name__) # __name__ 處在內建命名空間', 'a = 1           # 定義全域變數 a 等於 1\\ndef hello():    # 定義 hello 函式\\n  a = 2         # 定義區域變數 a 等於 2\\n  print(a)\\n\\nhello()         # 2\\nprint(a)        # 1', 'a = 1\\ndef hello():\\n  print(a+9)    # 使用全域變數的 a\\n\\nhello()         # 10\\nprint(a)        # 1', 'a = 1         # 定義全域變數 a 等於 1\\ndef hello():  # 定義 hello 函式\\n  global a    # 聲明下方的 a 為全域變數 a\\n  a = 2       # 修改 a 為 2\\n\\nprint(a)      # 1\\nhello()       # 執行 hello 函式\\nprint(a)      # 2 ( 全域變數 a 被修改為 2 )', 'a = []\\nb = a\\nc = []\\nd = c\\n\\ndef f1():\\n    # global c        # 如果加上這行，f2 裡的 c 就會被影響\\n    a.append(1)\\n    c = [1]\\n    print(a)  # [1]\\n    print(b)  # [1]   # 被影響\\n    print(c)  # [1]\\n    print(d)  # []    # 不受影響\\n\\ndef f2():\\n    print(a)  # [1]   # 被影響\\n    print(b)  # [1]   # 被影響\\n    print(c)  # []    # 不受影響，但如果 f1 加上 global c，此處就會被影響\\n    print(d)  # []    # 不受影響\\n\\nf1()\\nf2()', 'a = 1\\ndef hello():\\n  a = 1\\n  print(locals())\\n  print(globals())\\n\\nhello()\\nprint(a)', 'a = 1\\ndef hello():\\n  a = 1\\nhello()\\nprint(locals())\\nprint(globals())'], 'Out': {}, 'get_ipython': <bound method InteractiveShell.get_ipython of <ipykernel.zmqshell.ZMQInteractiveShell object at 0x000001A6FAE81350>>, 'exit': <IPython.core.autocall.ZMQExitAutocall object at 0x000001A6FAE91210>, 'quit': <IPython.core.autocall.ZMQExitAutocall object at 0x000001A6FAE91210>, 'open': <function open at 0x000001A6F8B4B920>, '_': '', '__': '', '___': '', '__vsc_ipynb_file__': 'd:\\\\Devolops\\\\Python\\\\Class1\\\\02_Variable_GlobalandLocal.ipynb', '_i': 'a = 1\\ndef hello():\\n  a = 1\\n  print(locals())\\n  print(globals())\\n\\nhello()\\nprint(a)', '_ii': 'a = []\\nb = a\\nc = []\\nd = c\\n\\ndef f1():\\n    # global c        # 如果加上這行，f2 裡的 c 就會被影響\\n    a.append(1)\\n    c = [1]\\n    print(a)  # [1]\\n    print(b)  # [1]   # 被影響\\n    print(c)  # [1]\\n    print(d)  # []    # 不受影響\\n\\ndef f2():\\n    print(a)  # [1]   # 被影響\\n    print(b)  # [1]   # 被影響\\n    print(c)  # []    # 不受影響，但如果 f1 加上 global c，此處就會被影響\\n    print(d)  # []    # 不受影響\\n\\nf1()\\nf2()', '_iii': 'a = 1         # 定義全域變數 a 等於 1\\ndef hello():  # 定義 hello 函式\\n  global a    # 聲明下方的 a 為全域變數 a\\n  a = 2       # 修改 a 為 2\\n\\nprint(a)      # 1\\nhello()       # 執行 hello 函式\\nprint(a)      # 2 ( 全域變數 a 被修改為 2 )', '_i1': 'a = 1 # a 处在全局命名空间\\n\\ndef func():\\n    b = 2 # b 处在局部命名空间\\n\\nprint(__name__) # __name__ 处在内建命名空间', 'a': 1, 'func': <function func at 0x000001A6FAE9A340>, '_i2': 'a = 1 # a 處在全域命名空間\\n\\ndef func():\\n    b = 2 # b 處在區域命名空間\\n\\nprint(__name__) # __name__ 處在內建命名空間', '_i3': \"num = 5\\nname = 'BrightestTECH'\", 'num': 5, 'name': 'BrightestTECH', '_i4': 'a = 1           # 定義全域變數 a 等於 1\\ndef hello():    # 定義 hello 函式\\n  a = 2         # 定義區域變數 a 等於 2\\n  print(a)\\n\\nhello()         # 2\\nprint(a)        # 1', 'hello': <function hello at 0x000001A6FAE99EE0>, '_i5': 'a = 1\\ndef hello():\\n  print(a+9)    # 使用全域變數的 a\\n\\nhello()         # 10\\nprint(a)        # 1', '_i6': 'def hello():\\n  a = 1\\n  print(a)\\n\\nhello()\\nprint(a)    # 發生錯誤，因為找不到變數 a', '_i7': 'a = 1         # 定義全域變數 a 等於 1\\ndef hello():  # 定義 hello 函式\\n  global a    # 聲明下方的 a 為全域變數 a\\n  a = 2       # 修改 a 為 2\\n\\nprint(a)      # 1\\nhello()       # 執行 hello 函式\\nprint(a)      # 2 ( 全域變數 a 被修改為 2 )', '_i8': 'a = []\\nb = a\\nc = []\\nd = c\\n\\ndef f1():\\n    # global c        # 如果加上這行，f2 裡的 c 就會被影響\\n    a.append(1)\\n    c = [1]\\n    print(a)  # [1]\\n    print(b)  # [1]   # 被影響\\n    print(c)  # [1]\\n    print(d)  # []    # 不受影響\\n\\ndef f2():\\n    print(a)  # [1]   # 被影響\\n    print(b)  # [1]   # 被影響\\n    print(c)  # []    # 不受影響，但如果 f1 加上 global c，此處就會被影響\\n    print(d)  # []    # 不受影響\\n\\nf1()\\nf2()', 'b': [1], 'c': [], 'd': [], 'f1': <function f1 at 0x000001A6FAE9A7A0>, 'f2': <function f2 at 0x000001A6FAE9A480>, '_i9': 'a = 1\\ndef hello():\\n  a = 1\\n  print(locals())\\n  print(globals())\\n\\nhello()\\nprint(a)', '_i10': \"num = 5\\nname = 'BrightestTECH'\", '_i11': 'a = 1 # a 處在全域命名空間\\n\\ndef func():\\n    b = 2 # b 處在區域命名空間\\n\\nprint(__name__) # __name__ 處在內建命名空間', '_i12': 'a = 1           # 定義全域變數 a 等於 1\\ndef hello():    # 定義 hello 函式\\n  a = 2         # 定義區域變數 a 等於 2\\n  print(a)\\n\\nhello()         # 2\\nprint(a)        # 1', '_i13': 'a = 1\\ndef hello():\\n  print(a+9)    # 使用全域變數的 a\\n\\nhello()         # 10\\nprint(a)        # 1', '_i14': 'a = 1         # 定義全域變數 a 等於 1\\ndef hello():  # 定義 hello 函式\\n  global a    # 聲明下方的 a 為全域變數 a\\n  a = 2       # 修改 a 為 2\\n\\nprint(a)      # 1\\nhello()       # 執行 hello 函式\\nprint(a)      # 2 ( 全域變數 a 被修改為 2 )', '_i15': 'a = []\\nb = a\\nc = []\\nd = c\\n\\ndef f1():\\n    # global c        # 如果加上這行，f2 裡的 c 就會被影響\\n    a.append(1)\\n    c = [1]\\n    print(a)  # [1]\\n    print(b)  # [1]   # 被影響\\n    print(c)  # [1]\\n    print(d)  # []    # 不受影響\\n\\ndef f2():\\n    print(a)  # [1]   # 被影響\\n    print(b)  # [1]   # 被影響\\n    print(c)  # []    # 不受影響，但如果 f1 加上 global c，此處就會被影響\\n    print(d)  # []    # 不受影響\\n\\nf1()\\nf2()', '_i16': 'a = 1\\ndef hello():\\n  a = 1\\n  print(locals())\\n  print(globals())\\n\\nhello()\\nprint(a)', '_i17': 'a = 1\\ndef hello():\\n  a = 1\\nhello()\\nprint(locals())\\nprint(globals())'}\n",
      "{'__name__': '__main__', '__doc__': 'Automatically created module for IPython interactive environment', '__package__': None, '__loader__': None, '__spec__': None, '__builtin__': <module 'builtins' (built-in)>, '__builtins__': <module 'builtins' (built-in)>, '_ih': ['', 'a = 1 # a 处在全局命名空间\\n\\ndef func():\\n    b = 2 # b 处在局部命名空间\\n\\nprint(__name__) # __name__ 处在内建命名空间', 'a = 1 # a 處在全域命名空間\\n\\ndef func():\\n    b = 2 # b 處在區域命名空間\\n\\nprint(__name__) # __name__ 處在內建命名空間', \"num = 5\\nname = 'BrightestTECH'\", 'a = 1           # 定義全域變數 a 等於 1\\ndef hello():    # 定義 hello 函式\\n  a = 2         # 定義區域變數 a 等於 2\\n  print(a)\\n\\nhello()         # 2\\nprint(a)        # 1', 'a = 1\\ndef hello():\\n  print(a+9)    # 使用全域變數的 a\\n\\nhello()         # 10\\nprint(a)        # 1', 'def hello():\\n  a = 1\\n  print(a)\\n\\nhello()\\nprint(a)    # 發生錯誤，因為找不到變數 a', 'a = 1         # 定義全域變數 a 等於 1\\ndef hello():  # 定義 hello 函式\\n  global a    # 聲明下方的 a 為全域變數 a\\n  a = 2       # 修改 a 為 2\\n\\nprint(a)      # 1\\nhello()       # 執行 hello 函式\\nprint(a)      # 2 ( 全域變數 a 被修改為 2 )', 'a = []\\nb = a\\nc = []\\nd = c\\n\\ndef f1():\\n    # global c        # 如果加上這行，f2 裡的 c 就會被影響\\n    a.append(1)\\n    c = [1]\\n    print(a)  # [1]\\n    print(b)  # [1]   # 被影響\\n    print(c)  # [1]\\n    print(d)  # []    # 不受影響\\n\\ndef f2():\\n    print(a)  # [1]   # 被影響\\n    print(b)  # [1]   # 被影響\\n    print(c)  # []    # 不受影響，但如果 f1 加上 global c，此處就會被影響\\n    print(d)  # []    # 不受影響\\n\\nf1()\\nf2()', 'a = 1\\ndef hello():\\n  a = 1\\n  print(locals())\\n  print(globals())\\n\\nhello()\\nprint(a)', \"num = 5\\nname = 'BrightestTECH'\", 'a = 1 # a 處在全域命名空間\\n\\ndef func():\\n    b = 2 # b 處在區域命名空間\\n\\nprint(__name__) # __name__ 處在內建命名空間', 'a = 1           # 定義全域變數 a 等於 1\\ndef hello():    # 定義 hello 函式\\n  a = 2         # 定義區域變數 a 等於 2\\n  print(a)\\n\\nhello()         # 2\\nprint(a)        # 1', 'a = 1\\ndef hello():\\n  print(a+9)    # 使用全域變數的 a\\n\\nhello()         # 10\\nprint(a)        # 1', 'a = 1         # 定義全域變數 a 等於 1\\ndef hello():  # 定義 hello 函式\\n  global a    # 聲明下方的 a 為全域變數 a\\n  a = 2       # 修改 a 為 2\\n\\nprint(a)      # 1\\nhello()       # 執行 hello 函式\\nprint(a)      # 2 ( 全域變數 a 被修改為 2 )', 'a = []\\nb = a\\nc = []\\nd = c\\n\\ndef f1():\\n    # global c        # 如果加上這行，f2 裡的 c 就會被影響\\n    a.append(1)\\n    c = [1]\\n    print(a)  # [1]\\n    print(b)  # [1]   # 被影響\\n    print(c)  # [1]\\n    print(d)  # []    # 不受影響\\n\\ndef f2():\\n    print(a)  # [1]   # 被影響\\n    print(b)  # [1]   # 被影響\\n    print(c)  # []    # 不受影響，但如果 f1 加上 global c，此處就會被影響\\n    print(d)  # []    # 不受影響\\n\\nf1()\\nf2()', 'a = 1\\ndef hello():\\n  a = 1\\n  print(locals())\\n  print(globals())\\n\\nhello()\\nprint(a)', 'a = 1\\ndef hello():\\n  a = 1\\nhello()\\nprint(locals())\\nprint(globals())'], '_oh': {}, '_dh': [WindowsPath('d:/Devolops/Python/Class1'), WindowsPath('d:/Devolops/Python/Class1')], 'In': ['', 'a = 1 # a 处在全局命名空间\\n\\ndef func():\\n    b = 2 # b 处在局部命名空间\\n\\nprint(__name__) # __name__ 处在内建命名空间', 'a = 1 # a 處在全域命名空間\\n\\ndef func():\\n    b = 2 # b 處在區域命名空間\\n\\nprint(__name__) # __name__ 處在內建命名空間', \"num = 5\\nname = 'BrightestTECH'\", 'a = 1           # 定義全域變數 a 等於 1\\ndef hello():    # 定義 hello 函式\\n  a = 2         # 定義區域變數 a 等於 2\\n  print(a)\\n\\nhello()         # 2\\nprint(a)        # 1', 'a = 1\\ndef hello():\\n  print(a+9)    # 使用全域變數的 a\\n\\nhello()         # 10\\nprint(a)        # 1', 'def hello():\\n  a = 1\\n  print(a)\\n\\nhello()\\nprint(a)    # 發生錯誤，因為找不到變數 a', 'a = 1         # 定義全域變數 a 等於 1\\ndef hello():  # 定義 hello 函式\\n  global a    # 聲明下方的 a 為全域變數 a\\n  a = 2       # 修改 a 為 2\\n\\nprint(a)      # 1\\nhello()       # 執行 hello 函式\\nprint(a)      # 2 ( 全域變數 a 被修改為 2 )', 'a = []\\nb = a\\nc = []\\nd = c\\n\\ndef f1():\\n    # global c        # 如果加上這行，f2 裡的 c 就會被影響\\n    a.append(1)\\n    c = [1]\\n    print(a)  # [1]\\n    print(b)  # [1]   # 被影響\\n    print(c)  # [1]\\n    print(d)  # []    # 不受影響\\n\\ndef f2():\\n    print(a)  # [1]   # 被影響\\n    print(b)  # [1]   # 被影響\\n    print(c)  # []    # 不受影響，但如果 f1 加上 global c，此處就會被影響\\n    print(d)  # []    # 不受影響\\n\\nf1()\\nf2()', 'a = 1\\ndef hello():\\n  a = 1\\n  print(locals())\\n  print(globals())\\n\\nhello()\\nprint(a)', \"num = 5\\nname = 'BrightestTECH'\", 'a = 1 # a 處在全域命名空間\\n\\ndef func():\\n    b = 2 # b 處在區域命名空間\\n\\nprint(__name__) # __name__ 處在內建命名空間', 'a = 1           # 定義全域變數 a 等於 1\\ndef hello():    # 定義 hello 函式\\n  a = 2         # 定義區域變數 a 等於 2\\n  print(a)\\n\\nhello()         # 2\\nprint(a)        # 1', 'a = 1\\ndef hello():\\n  print(a+9)    # 使用全域變數的 a\\n\\nhello()         # 10\\nprint(a)        # 1', 'a = 1         # 定義全域變數 a 等於 1\\ndef hello():  # 定義 hello 函式\\n  global a    # 聲明下方的 a 為全域變數 a\\n  a = 2       # 修改 a 為 2\\n\\nprint(a)      # 1\\nhello()       # 執行 hello 函式\\nprint(a)      # 2 ( 全域變數 a 被修改為 2 )', 'a = []\\nb = a\\nc = []\\nd = c\\n\\ndef f1():\\n    # global c        # 如果加上這行，f2 裡的 c 就會被影響\\n    a.append(1)\\n    c = [1]\\n    print(a)  # [1]\\n    print(b)  # [1]   # 被影響\\n    print(c)  # [1]\\n    print(d)  # []    # 不受影響\\n\\ndef f2():\\n    print(a)  # [1]   # 被影響\\n    print(b)  # [1]   # 被影響\\n    print(c)  # []    # 不受影響，但如果 f1 加上 global c，此處就會被影響\\n    print(d)  # []    # 不受影響\\n\\nf1()\\nf2()', 'a = 1\\ndef hello():\\n  a = 1\\n  print(locals())\\n  print(globals())\\n\\nhello()\\nprint(a)', 'a = 1\\ndef hello():\\n  a = 1\\nhello()\\nprint(locals())\\nprint(globals())'], 'Out': {}, 'get_ipython': <bound method InteractiveShell.get_ipython of <ipykernel.zmqshell.ZMQInteractiveShell object at 0x000001A6FAE81350>>, 'exit': <IPython.core.autocall.ZMQExitAutocall object at 0x000001A6FAE91210>, 'quit': <IPython.core.autocall.ZMQExitAutocall object at 0x000001A6FAE91210>, 'open': <function open at 0x000001A6F8B4B920>, '_': '', '__': '', '___': '', '__vsc_ipynb_file__': 'd:\\\\Devolops\\\\Python\\\\Class1\\\\02_Variable_GlobalandLocal.ipynb', '_i': 'a = 1\\ndef hello():\\n  a = 1\\n  print(locals())\\n  print(globals())\\n\\nhello()\\nprint(a)', '_ii': 'a = []\\nb = a\\nc = []\\nd = c\\n\\ndef f1():\\n    # global c        # 如果加上這行，f2 裡的 c 就會被影響\\n    a.append(1)\\n    c = [1]\\n    print(a)  # [1]\\n    print(b)  # [1]   # 被影響\\n    print(c)  # [1]\\n    print(d)  # []    # 不受影響\\n\\ndef f2():\\n    print(a)  # [1]   # 被影響\\n    print(b)  # [1]   # 被影響\\n    print(c)  # []    # 不受影響，但如果 f1 加上 global c，此處就會被影響\\n    print(d)  # []    # 不受影響\\n\\nf1()\\nf2()', '_iii': 'a = 1         # 定義全域變數 a 等於 1\\ndef hello():  # 定義 hello 函式\\n  global a    # 聲明下方的 a 為全域變數 a\\n  a = 2       # 修改 a 為 2\\n\\nprint(a)      # 1\\nhello()       # 執行 hello 函式\\nprint(a)      # 2 ( 全域變數 a 被修改為 2 )', '_i1': 'a = 1 # a 处在全局命名空间\\n\\ndef func():\\n    b = 2 # b 处在局部命名空间\\n\\nprint(__name__) # __name__ 处在内建命名空间', 'a': 1, 'func': <function func at 0x000001A6FAE9A340>, '_i2': 'a = 1 # a 處在全域命名空間\\n\\ndef func():\\n    b = 2 # b 處在區域命名空間\\n\\nprint(__name__) # __name__ 處在內建命名空間', '_i3': \"num = 5\\nname = 'BrightestTECH'\", 'num': 5, 'name': 'BrightestTECH', '_i4': 'a = 1           # 定義全域變數 a 等於 1\\ndef hello():    # 定義 hello 函式\\n  a = 2         # 定義區域變數 a 等於 2\\n  print(a)\\n\\nhello()         # 2\\nprint(a)        # 1', 'hello': <function hello at 0x000001A6FAE99EE0>, '_i5': 'a = 1\\ndef hello():\\n  print(a+9)    # 使用全域變數的 a\\n\\nhello()         # 10\\nprint(a)        # 1', '_i6': 'def hello():\\n  a = 1\\n  print(a)\\n\\nhello()\\nprint(a)    # 發生錯誤，因為找不到變數 a', '_i7': 'a = 1         # 定義全域變數 a 等於 1\\ndef hello():  # 定義 hello 函式\\n  global a    # 聲明下方的 a 為全域變數 a\\n  a = 2       # 修改 a 為 2\\n\\nprint(a)      # 1\\nhello()       # 執行 hello 函式\\nprint(a)      # 2 ( 全域變數 a 被修改為 2 )', '_i8': 'a = []\\nb = a\\nc = []\\nd = c\\n\\ndef f1():\\n    # global c        # 如果加上這行，f2 裡的 c 就會被影響\\n    a.append(1)\\n    c = [1]\\n    print(a)  # [1]\\n    print(b)  # [1]   # 被影響\\n    print(c)  # [1]\\n    print(d)  # []    # 不受影響\\n\\ndef f2():\\n    print(a)  # [1]   # 被影響\\n    print(b)  # [1]   # 被影響\\n    print(c)  # []    # 不受影響，但如果 f1 加上 global c，此處就會被影響\\n    print(d)  # []    # 不受影響\\n\\nf1()\\nf2()', 'b': [1], 'c': [], 'd': [], 'f1': <function f1 at 0x000001A6FAE9A7A0>, 'f2': <function f2 at 0x000001A6FAE9A480>, '_i9': 'a = 1\\ndef hello():\\n  a = 1\\n  print(locals())\\n  print(globals())\\n\\nhello()\\nprint(a)', '_i10': \"num = 5\\nname = 'BrightestTECH'\", '_i11': 'a = 1 # a 處在全域命名空間\\n\\ndef func():\\n    b = 2 # b 處在區域命名空間\\n\\nprint(__name__) # __name__ 處在內建命名空間', '_i12': 'a = 1           # 定義全域變數 a 等於 1\\ndef hello():    # 定義 hello 函式\\n  a = 2         # 定義區域變數 a 等於 2\\n  print(a)\\n\\nhello()         # 2\\nprint(a)        # 1', '_i13': 'a = 1\\ndef hello():\\n  print(a+9)    # 使用全域變數的 a\\n\\nhello()         # 10\\nprint(a)        # 1', '_i14': 'a = 1         # 定義全域變數 a 等於 1\\ndef hello():  # 定義 hello 函式\\n  global a    # 聲明下方的 a 為全域變數 a\\n  a = 2       # 修改 a 為 2\\n\\nprint(a)      # 1\\nhello()       # 執行 hello 函式\\nprint(a)      # 2 ( 全域變數 a 被修改為 2 )', '_i15': 'a = []\\nb = a\\nc = []\\nd = c\\n\\ndef f1():\\n    # global c        # 如果加上這行，f2 裡的 c 就會被影響\\n    a.append(1)\\n    c = [1]\\n    print(a)  # [1]\\n    print(b)  # [1]   # 被影響\\n    print(c)  # [1]\\n    print(d)  # []    # 不受影響\\n\\ndef f2():\\n    print(a)  # [1]   # 被影響\\n    print(b)  # [1]   # 被影響\\n    print(c)  # []    # 不受影響，但如果 f1 加上 global c，此處就會被影響\\n    print(d)  # []    # 不受影響\\n\\nf1()\\nf2()', '_i16': 'a = 1\\ndef hello():\\n  a = 1\\n  print(locals())\\n  print(globals())\\n\\nhello()\\nprint(a)', '_i17': 'a = 1\\ndef hello():\\n  a = 1\\nhello()\\nprint(locals())\\nprint(globals())'}\n"
     ]
    }
   ],
   "source": [
    "a = 1\n",
    "def hello():\n",
    "  a = 1\n",
    "hello()\n",
    "print(locals())\n",
    "print(globals())"
   ]
  }
 ],
 "metadata": {
  "kernelspec": {
   "display_name": "Python 3",
   "language": "python",
   "name": "python3"
  },
  "language_info": {
   "codemirror_mode": {
    "name": "ipython",
    "version": 3
   },
   "file_extension": ".py",
   "mimetype": "text/x-python",
   "name": "python",
   "nbconvert_exporter": "python",
   "pygments_lexer": "ipython3",
   "version": "3.11.2"
  },
  "orig_nbformat": 4
 },
 "nbformat": 4,
 "nbformat_minor": 2
}
