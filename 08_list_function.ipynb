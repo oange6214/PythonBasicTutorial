{
 "cells": [
  {
   "attachments": {},
   "cell_type": "markdown",
   "metadata": {},
   "source": [
    "# 串列 ( 常用方法 )"
   ]
  },
  {
   "attachments": {},
   "cell_type": "markdown",
   "metadata": {},
   "source": [
    "## 常用操作方法\n",
    "\n",
    "| 方法\t| 說明| \n",
    "| - |  - | \n",
    "| sort()、 sorted()\t| 排序| \n",
    "| slice()、reverse()\t| 反轉| \n",
    "| slice、copy()、list()、deepcopy()\t| 複製| \n",
    "| index()\t| 取得項目 offset| \n",
    "| len()\t| 取得串列長度| \n",
    "| count()\t| 計算內容出現次數| \n",
    "| join()\t| 結合串列內容| \n",
    "| in\t| 檢查內容是否存在| \n",
    "| =、!=、>、<\t| 比較串列| \n",
    "| ＊\t| 重複項目| "
   ]
  },
  {
   "attachments": {},
   "cell_type": "markdown",
   "metadata": {},
   "source": [
    "## sort()、 sorted()\n",
    "\n",
    "Python 提供 sort() 和 sorted() 兩種串列的函式，函式內包含 key 和 reverse 參數 ( 可都不填 )，key 則表示進行比較的元素，reverse 不填則使用預設 False，進行升序排序 ( 小到大 )，如果參數為 True 進行降序排序 ( 大到小 )，如果排序的是字串，以字母的順序進行排序。"
   ]
  },
  {
   "attachments": {},
   "cell_type": "markdown",
   "metadata": {},
   "source": [
    "* <font color=#FF6600>sort()</font>\n",
    "\n",
    "sort() 函式使用後，會直接將原本的串列項目進行排序，因此「會改變」原始的串列。"
   ]
  },
  {
   "cell_type": "code",
   "execution_count": 48,
   "metadata": {},
   "outputs": [
    {
     "name": "stdout",
     "output_type": "stream",
     "text": [
      "[0, 1, 2, 3, 4, 5, 6, 7, 8, 9]\n",
      "[9, 8, 7, 6, 5, 4, 3, 2, 1, 0]\n"
     ]
    }
   ],
   "source": [
    "a = [0,3,2,1,4,9,6,8,7,5]\n",
    "a.sort()\n",
    "print(a)   # [0, 1, 2, 3, 4, 5, 6, 7, 8, 9]\n",
    "a.sort(reverse=True)\n",
    "print(a)   # [9, 8, 7, 6, 5, 4, 3, 2, 1, 0]"
   ]
  },
  {
   "attachments": {},
   "cell_type": "markdown",
   "metadata": {},
   "source": [
    "* <font color=#FF6600>sorted()</font>\n",
    "\n",
    "sorted() 函式使用後，會產生一個排序過後的新串列，因此「不會改變」原始的串列。"
   ]
  },
  {
   "cell_type": "code",
   "execution_count": 49,
   "metadata": {},
   "outputs": [
    {
     "name": "stdout",
     "output_type": "stream",
     "text": [
      "[0, 3, 2, 1, 4, 9, 6, 8, 7, 5]\n",
      "[0, 1, 2, 3, 4, 5, 6, 7, 8, 9]\n",
      "[9, 8, 7, 6, 5, 4, 3, 2, 1, 0]\n"
     ]
    }
   ],
   "source": [
    "a = [0,3,2,1,4,9,6,8,7,5]\n",
    "b = sorted(a)\n",
    "c = sorted(a, reverse=True)\n",
    "print(a)   # [0, 3, 2, 1, 4, 9, 6, 8, 7, 5]\n",
    "print(b)   # [0, 1, 2, 3, 4, 5, 6, 7, 8, 9]\n",
    "print(c)   # [9, 8, 7, 6, 5, 4, 3, 2, 1, 0]"
   ]
  },
  {
   "attachments": {},
   "cell_type": "markdown",
   "metadata": {},
   "source": [
    "如果序列的內容也是序列，排序時可以透過 key 參數，指定對應的項目進行排序，下面的範例使用匿名函式 lambda ( 參考 匿名函式 lambda )，針對每個項目的第二個子項目進行排序 ( 如果沒有設定 key 參數，預設都以第一個項目進行排序 )。"
   ]
  },
  {
   "cell_type": "code",
   "execution_count": 50,
   "metadata": {},
   "outputs": [
    {
     "name": "stdout",
     "output_type": "stream",
     "text": [
      "[[1, 2, 3], [9, 8, 7], [2, 4, 6], [3, 1, 9]]\n",
      "[[1, 2, 3], [2, 4, 6], [3, 1, 9], [9, 8, 7]]\n",
      "[[3, 1, 9], [1, 2, 3], [2, 4, 6], [9, 8, 7]]\n"
     ]
    }
   ],
   "source": [
    "a = [[1,2,3],[9,8,7],[2,4,6],[3,1,9]]\n",
    "b = sorted(a)\n",
    "c = sorted(a, key = lambda s: s[1])\n",
    "print(a)   # [[1, 2, 3], [9, 8, 7], [2, 4, 6], [3, 1, 9]]\n",
    "print(b)   # [[1, 2, 3], [2, 4, 6], [3, 1, 9], [9, 8, 7]] 使用第一個項目 1,2,3,9 排序\n",
    "print(c)   # [[3, 1, 9], [1, 2, 3], [2, 4, 6], [9, 8, 7]] 使用第二個項目 1,2,4,8 排序"
   ]
  },
  {
   "attachments": {},
   "cell_type": "markdown",
   "metadata": {},
   "source": [
    "## 反轉串列\n",
    "Python 提供了兩種反轉串列的方法："
   ]
  },
  {
   "attachments": {},
   "cell_type": "markdown",
   "metadata": {},
   "source": [
    "* <font color=#FF6600>slice</font>\n",
    "\n",
    "使用 slice 反轉串列方法不會改變原始串列，會產生一個新的串列，在產生新串列時使用「[::-1]」，就能反轉串列內容。"
   ]
  },
  {
   "cell_type": "code",
   "execution_count": 51,
   "metadata": {},
   "outputs": [
    {
     "name": "stdout",
     "output_type": "stream",
     "text": [
      "[0, 1, 2, 3, 4, 5]\n",
      "[5, 4, 3, 2, 1, 0]\n"
     ]
    }
   ],
   "source": [
    "a = [0, 1, 2, 3, 4, 5]\n",
    "b = a[:: -1]\n",
    "print(a)   # [0, 1, 2, 3, 4, 5]\n",
    "print(b)   # [5, 4, 3, 2, 1, 0]"
   ]
  },
  {
   "attachments": {},
   "cell_type": "markdown",
   "metadata": {},
   "source": [
    "* <font color=#FF6600>reverse()</font>\n",
    "\n",
    "使用 reverse() 函式可以反轉串列，但反轉之後，*會改變原始串列。"
   ]
  },
  {
   "cell_type": "code",
   "execution_count": 52,
   "metadata": {},
   "outputs": [
    {
     "name": "stdout",
     "output_type": "stream",
     "text": [
      "[5, 4, 3, 2, 1, 0]\n"
     ]
    }
   ],
   "source": [
    "a = [0,1,2,3,4,5]\n",
    "a.reverse()\n",
    "print(a)   # [5, 4, 3, 2, 1, 0]"
   ]
  },
  {
   "attachments": {},
   "cell_type": "markdown",
   "metadata": {},
   "source": [
    "## 複製串列 \n",
    "Python 提供四種複製串列的方法："
   ]
  },
  {
   "attachments": {},
   "cell_type": "markdown",
   "metadata": {},
   "source": [
    "* <font color=#FF6600>slice、copy()、list()</font>\n",
    "\n",
    "slice、copy()、list() 三種方式都可以快速複製一個新的串列。"
   ]
  },
  {
   "cell_type": "code",
   "execution_count": 53,
   "metadata": {},
   "outputs": [
    {
     "name": "stdout",
     "output_type": "stream",
     "text": [
      "[0, 1, 2, 3, 4, 5]\n",
      "[0, 1, 2, 3, 4, 5]\n",
      "[0, 1, 2, 3, 4, 5]\n",
      "[0, 1, 2, 3, 4, 5]\n"
     ]
    }
   ],
   "source": [
    "a = [0,1,2,3,4,5]\n",
    "b = a[:]\n",
    "c = a.copy()\n",
    "d = list(a)\n",
    "print(a)   # [0, 1, 2, 3, 4, 5]\n",
    "print(b)   # [0, 1, 2, 3, 4, 5]\n",
    "print(c)   # [0, 1, 2, 3, 4, 5]\n",
    "print(d)   # [0, 1, 2, 3, 4, 5]"
   ]
  },
  {
   "attachments": {},
   "cell_type": "markdown",
   "metadata": {},
   "source": [
    "* <font color=#FF6600>deepcopy()</font>\n",
    "\n",
    "上述的三種方式只能針對「項目內容不會發生變化」的串列，如果項目的「深層內容」會發生變化，就會出現奇怪的現象，舉例來說，下方的程式碼執行後，當 a 改變時理應不該影響到 b、c、d 這三個新串列，但執行結果卻發現 b、c、d 的內容也跟著改變了。"
   ]
  },
  {
   "cell_type": "code",
   "execution_count": 54,
   "metadata": {},
   "outputs": [
    {
     "name": "stdout",
     "output_type": "stream",
     "text": [
      "[0, 1, 2, 3, 4, [999, 200]]\n",
      "[0, 1, 2, 3, 4, [999, 200]]\n",
      "[0, 1, 2, 3, 4, [999, 200]]\n",
      "[0, 1, 2, 3, 4, [999, 200]]\n"
     ]
    }
   ],
   "source": [
    "a = [0,1,2,3,4,[100,200]]\n",
    "b = a[:]\n",
    "c = a.copy()\n",
    "d = list(a)\n",
    "a[-1][0]=999\n",
    "print(a)   # [0, 1, 2, 3, 4, [999, 200]]\n",
    "print(b)   # [0, 1, 2, 3, 4, [999, 200]]\n",
    "print(c)   # [0, 1, 2, 3, 4, [999, 200]]\n",
    "print(d)   # [0, 1, 2, 3, 4, [999, 200]]"
   ]
  },
  {
   "attachments": {},
   "cell_type": "markdown",
   "metadata": {},
   "source": [
    "如果要解決這個問題，就必須要 import copy() 模組，使用 deepcopy() 進行深度複製，就能產生一個完全獨立的新串列。"
   ]
  },
  {
   "cell_type": "code",
   "execution_count": 55,
   "metadata": {},
   "outputs": [
    {
     "name": "stdout",
     "output_type": "stream",
     "text": [
      "[0, 1, 2, 3, 4, [999, 200]]\n",
      "[0, 1, 2, 3, 4, [999, 200]]\n",
      "[0, 1, 2, 3, 4, [999, 200]]\n",
      "[0, 1, 2, 3, 4, [999, 200]]\n",
      "[0, 1, 2, 3, 4, [100, 200]]\n"
     ]
    }
   ],
   "source": [
    "import copy\n",
    "\n",
    "a = [0, 1, 2, 3, 4, [100, 200]]\n",
    "b = a[:]\n",
    "c = a.copy()\n",
    "d = list(a)\n",
    "e = copy.deepcopy(a)\n",
    "a[-1][0] = 999\n",
    "\n",
    "print(a)   # [0, 1, 2, 3, 4, [999, 200]]\n",
    "print(b)   # [0, 1, 2, 3, 4, [999, 200]]\n",
    "print(c)   # [0, 1, 2, 3, 4, [999, 200]]\n",
    "print(d)   # [0, 1, 2, 3, 4, [999, 200]]\n",
    "print(e)   # [0, 1, 2, 3, 4, [100, 200]]  使用 deepcopy 的沒有被改變"
   ]
  },
  {
   "attachments": {},
   "cell_type": "markdown",
   "metadata": {},
   "source": [
    "## index() 取得項目 offset \n",
    "\n",
    "index() 函式可以取得串列中某個內容的 offset，如果有多個同樣內容的項目，以第一個找到的為主。"
   ]
  },
  {
   "cell_type": "code",
   "execution_count": 56,
   "metadata": {},
   "outputs": [
    {
     "name": "stdout",
     "output_type": "stream",
     "text": [
      "1\n"
     ]
    }
   ],
   "source": [
    "a = ['apple','banana','banana','orange']\n",
    "print(a.index('banana'))   # 1"
   ]
  },
  {
   "attachments": {},
   "cell_type": "markdown",
   "metadata": {},
   "source": [
    "* <font color=#FF6600>len() 取得串列長度</font>\n",
    "\n",
    "len() 函式可以取得串列的長度 ( 裡面有幾個項目 )。"
   ]
  },
  {
   "cell_type": "code",
   "execution_count": 57,
   "metadata": {},
   "outputs": [
    {
     "name": "stdout",
     "output_type": "stream",
     "text": [
      "4\n"
     ]
    }
   ],
   "source": [
    "a = ['apple','banana','banana','orange']\n",
    "print(len(a))   # 4"
   ]
  },
  {
   "attachments": {},
   "cell_type": "markdown",
   "metadata": {},
   "source": [
    "* <font color=#FF6600>count() 計算內容出現次數 </font>\n",
    "\n",
    "count() 函式可以計算串列中，某些內容出現的次數。"
   ]
  },
  {
   "cell_type": "code",
   "execution_count": 58,
   "metadata": {},
   "outputs": [
    {
     "name": "stdout",
     "output_type": "stream",
     "text": [
      "2\n",
      "0\n"
     ]
    }
   ],
   "source": [
    "a = ['apple','banana','banana','orange']\n",
    "print(a.count('banana'))   # 2\n",
    "print(a.count('grap'))     # 0"
   ]
  },
  {
   "attachments": {},
   "cell_type": "markdown",
   "metadata": {},
   "source": [
    "* <font color=#FF6600>join() 結合串列內容 </font>\n",
    "\n",
    "join() 函式可以將一個串列裡面所有的項目，串連起來變成一個字串，使用時用一個要接起來的字串，連結要結合的每個項目。"
   ]
  },
  {
   "cell_type": "code",
   "execution_count": 59,
   "metadata": {},
   "outputs": [
    {
     "name": "stdout",
     "output_type": "stream",
     "text": [
      "hello world, I am oxxo, how are you?\n"
     ]
    }
   ],
   "source": [
    "a = ['hello world', 'I am oxxo', 'how are you?']\n",
    "b = ', '.join(a)  # 使用逗號「,」進行結合\n",
    "print(b)  # hello world, I am oxxo, how are you?"
   ]
  },
  {
   "attachments": {},
   "cell_type": "markdown",
   "metadata": {},
   "source": [
    "* <font color=#FF6600>in 檢查內容是否存在</font>\n",
    "\n",
    "透過「元素 in 串列」的方法，可以檢查串列中是否存在某些內容，如果存在則回傳 True，不存在則回傳 False ( 使用「元素 not in 集合」可以判斷不存在 )。"
   ]
  },
  {
   "cell_type": "code",
   "execution_count": 60,
   "metadata": {},
   "outputs": [
    {
     "name": "stdout",
     "output_type": "stream",
     "text": [
      "True\n",
      "False\n"
     ]
    }
   ],
   "source": [
    "a = ['apple','banana','banana','orange']\n",
    "print('orange' in a)    # True\n",
    "print('melon' in a)     # False"
   ]
  },
  {
   "attachments": {},
   "cell_type": "markdown",
   "metadata": {},
   "source": [
    "* <font color=#FF6600>比較串列 </font>\n",
    "\n",
    "使用等號「==」、「!=」，可以比較兩個串列是否相等，使用大於小於符號「<」、「<=」、「>=」、「>」，可以比較串列的長度，注意，串列的比較只能針對「同樣型別」的資料，如果比較數值和字串的內容，就會發生錯誤。"
   ]
  },
  {
   "cell_type": "code",
   "execution_count": 61,
   "metadata": {},
   "outputs": [
    {
     "name": "stdout",
     "output_type": "stream",
     "text": [
      "False\n",
      "False\n",
      "True\n",
      "True\n"
     ]
    }
   ],
   "source": [
    "a = [1,2,3,4]\n",
    "b = [1,2,3,4,5]\n",
    "print(a==b)     # False\n",
    "print(a>=b)     # False\n",
    "print(a<b)      # True\n",
    "print(a!=b)     # True"
   ]
  },
  {
   "attachments": {},
   "cell_type": "markdown",
   "metadata": {},
   "source": [
    "* <font color=#FF6600>使用 ＊ 號重複項目 </font>\n",
    "\n",
    "使用星號「＊」可以重複串列的內容，使其變成一個新的串列。"
   ]
  },
  {
   "cell_type": "code",
   "execution_count": 62,
   "metadata": {},
   "outputs": [
    {
     "name": "stdout",
     "output_type": "stream",
     "text": [
      "['apple', 'banana']\n",
      "['apple', 'banana', 'apple', 'banana', 'apple', 'banana']\n"
     ]
    }
   ],
   "source": [
    "a = ['apple','banana']\n",
    "b = a*3\n",
    "print(a)   # ['apple', 'banana']\n",
    "print(b)   # ['apple', 'banana', 'apple', 'banana', 'apple', 'banana']"
   ]
  }
 ],
 "metadata": {
  "kernelspec": {
   "display_name": "Python 3",
   "language": "python",
   "name": "python3"
  },
  "language_info": {
   "codemirror_mode": {
    "name": "ipython",
    "version": 3
   },
   "file_extension": ".py",
   "mimetype": "text/x-python",
   "name": "python",
   "nbconvert_exporter": "python",
   "pygments_lexer": "ipython3",
   "version": "3.11.2"
  },
  "orig_nbformat": 4
 },
 "nbformat": 4,
 "nbformat_minor": 2
}
