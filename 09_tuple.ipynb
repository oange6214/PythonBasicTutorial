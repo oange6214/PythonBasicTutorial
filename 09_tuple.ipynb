{
 "cells": [
  {
   "attachments": {},
   "cell_type": "markdown",
   "metadata": {},
   "source": [
    "# 元組 ( 數組 ) tuple\n",
    "\n",
    "Python 有兩種序列結構，分別是元組 ( tuple ) 和串列 ( list )，兩種序列都可以將任何一種物件作為它們的元素。"
   ]
  },
  {
   "attachments": {},
   "cell_type": "markdown",
   "metadata": {},
   "source": [
    "## tuple 與串列 list 的差異\n",
    "\n",
    "tuple 和串列非常的類似，都是一個儲存資料的「容器」，可以將物件存入，變成有順序的序列結構，不過 tuple 和串列有以下幾點不同：\n",
    "\n",
    "* tuple「只要建立了，就不能修改內容」。\n",
    "* tuple 使用「小括號」，串列 list 使用「方括號」。\n",
    "* 如果 tuple 裡只有一個元素，後方必須加上「逗號」( 多個元素就不用 )。"
   ]
  },
  {
   "attachments": {},
   "cell_type": "markdown",
   "metadata": {},
   "source": [
    "## 使用 tuple 的好處 \n",
    "\n",
    "雖然 tuple 在使用上有不少限制，但 tuple 也是有一些好處：\n",
    "\n",
    "* 讀取速度比串列快。\n",
    "* 佔用的空間比較少。\n",
    "* 資料更安全 ( 因為無法修改 )。"
   ]
  },
  {
   "attachments": {},
   "cell_type": "markdown",
   "metadata": {},
   "source": [
    "## 建立 tuple \n",
    "\n",
    "建立 tuple 有兩種方法：\n",
    "* 使用小括號和逗號\n",
    "* 使用 tuple()\n"
   ]
  },
  {
   "attachments": {},
   "cell_type": "markdown",
   "metadata": {},
   "source": [
    "* <font color=#FF6600>使用小括號和逗號</font>\n",
    "\n",
    "透過小括號包覆內容，用逗號將內容隔開，就可以建立一個基本的 tuple，下方的例子，可以看到 a 和 b 的型別都是 tuple ( 注意，因為 b 只有一個元素，所以元素後方要加上逗號 )。"
   ]
  },
  {
   "cell_type": "code",
   "execution_count": 6,
   "metadata": {},
   "outputs": [
    {
     "data": {
      "text/plain": [
       "tuple"
      ]
     },
     "execution_count": 6,
     "metadata": {},
     "output_type": "execute_result"
    }
   ],
   "source": [
    "a = ('apple','banana','orange','grap')\n",
    "b = ('apple',)\n",
    "type(a)  # tuple\n",
    "type(b)  # tuple"
   ]
  },
  {
   "attachments": {},
   "cell_type": "markdown",
   "metadata": {},
   "source": [
    "* <font color=#FF6600>使用 tuple()</font>\n",
    "\n",
    "使用「tuple(串列)」可以將串列轉換成 tuple。"
   ]
  },
  {
   "cell_type": "code",
   "execution_count": 7,
   "metadata": {},
   "outputs": [
    {
     "data": {
      "text/plain": [
       "tuple"
      ]
     },
     "execution_count": 7,
     "metadata": {},
     "output_type": "execute_result"
    }
   ],
   "source": [
    "a = ['apple','banana','orange','grap']\n",
    "b = tuple(a)\n",
    "type(b)  # tuple"
   ]
  },
  {
   "attachments": {},
   "cell_type": "markdown",
   "metadata": {},
   "source": [
    "# 讀取 tuple 的內容\n",
    "\n",
    "讀取 tuple 的內容有兩種方法：\n",
    "* 使用變數\n",
    "* 索引值 offset"
   ]
  },
  {
   "attachments": {},
   "cell_type": "markdown",
   "metadata": {},
   "source": [
    "* <font color=#FF6600>使用變數</font>\n",
    "\n",
    "因為 tuple 可以一次賦予多個變數內容，透過這個方法可以一次將項目丟給不同的變數，接著只要讀取變數，就能讀取對應內容 ( 注意，使用這個方法時，變數的數量要等於 tuple 的內容數量 )。"
   ]
  },
  {
   "cell_type": "code",
   "execution_count": 8,
   "metadata": {},
   "outputs": [
    {
     "name": "stdout",
     "output_type": "stream",
     "text": [
      "apple\n",
      "banana\n",
      "orange\n",
      "grap\n"
     ]
    }
   ],
   "source": [
    "t = ('apple','banana','orange','grap')\n",
    "a, b, c, d = t\n",
    "print(a)   # apple\n",
    "print(b)   # banana\n",
    "print(c)   # orange\n",
    "print(d)   # grap"
   ]
  },
  {
   "attachments": {},
   "cell_type": "markdown",
   "metadata": {},
   "source": [
    "* <font color=#FF6600>索引值 offset</font>\n",
    "\n",
    "在 tuple 裡每個項目都有自己的索引值 offset，指定 offset 就能讀取該資料的內容。"
   ]
  },
  {
   "cell_type": "code",
   "execution_count": 9,
   "metadata": {},
   "outputs": [
    {
     "name": "stdout",
     "output_type": "stream",
     "text": [
      "apple\n",
      "banana\n",
      "orange\n",
      "grap\n"
     ]
    }
   ],
   "source": [
    "t = ('apple','banana','orange','grap')\n",
    "print(t[0])   # apple\n",
    "print(t[1])   # banana\n",
    "print(t[2])   # orange\n",
    "print(t[3])   # grap"
   ]
  },
  {
   "attachments": {},
   "cell_type": "markdown",
   "metadata": {},
   "source": [
    "## 使用 + 號結合 tuple \n",
    "\n",
    "類似字串的結合方式，使用 + 號，可以將不同的 tuple 合併。"
   ]
  },
  {
   "cell_type": "code",
   "execution_count": 10,
   "metadata": {},
   "outputs": [
    {
     "name": "stdout",
     "output_type": "stream",
     "text": [
      "('apple', 'banana', 'orange', 'grap', 'pineapple')\n"
     ]
    }
   ],
   "source": [
    "t1 = ('apple','banana','orange')\n",
    "t2 = ('grap','pineapple')\n",
    "t = t1 + t2\n",
    "print(t)   # ('apple', 'banana', 'orange', 'grap', 'pineapple')"
   ]
  },
  {
   "attachments": {},
   "cell_type": "markdown",
   "metadata": {},
   "source": [
    "## 使用＊號重複項目 \n",
    "\n",
    "使用＊號，可以將重複一個 tuple 內的所有項目，並產生一個新的 tuple。"
   ]
  },
  {
   "cell_type": "code",
   "execution_count": 11,
   "metadata": {},
   "outputs": [
    {
     "name": "stdout",
     "output_type": "stream",
     "text": [
      "('apple', 'banana', 'orange', 'apple', 'banana', 'orange', 'apple', 'banana', 'orange')\n"
     ]
    }
   ],
   "source": [
    "a = ('apple','banana','orange')\n",
    "b = a*3\n",
    "print(b)   # ('apple', 'banana', 'orange', 'apple', 'banana', 'orange', 'apple', 'banana', 'orange')"
   ]
  },
  {
   "attachments": {},
   "cell_type": "markdown",
   "metadata": {},
   "source": [
    "## 強制修改 tuple \n",
    "\n",
    "使用串列 list 存取 tuple 資料，修改資料後，再轉換為新的 tuple ( 注意，雖然變數名稱相同，但兩個 tuple 是完全不同的 )。"
   ]
  },
  {
   "cell_type": "code",
   "execution_count": 12,
   "metadata": {},
   "outputs": [
    {
     "name": "stdout",
     "output_type": "stream",
     "text": [
      "('apple', 'banana', 'orange', 'grap')\n"
     ]
    }
   ],
   "source": [
    "a = ('apple','banana','orange')\n",
    "b = list(a)\n",
    "b.append('grap')\n",
    "a = tuple(b)\n",
    "print(a)   # ('apple', 'banana', 'orange', 'grap')"
   ]
  },
  {
   "cell_type": "code",
   "execution_count": null,
   "metadata": {},
   "outputs": [],
   "source": []
  }
 ],
 "metadata": {
  "kernelspec": {
   "display_name": "Python 3",
   "language": "python",
   "name": "python3"
  },
  "language_info": {
   "codemirror_mode": {
    "name": "ipython",
    "version": 3
   },
   "file_extension": ".py",
   "mimetype": "text/x-python",
   "name": "python",
   "nbconvert_exporter": "python",
   "pygments_lexer": "ipython3",
   "version": "3.11.2"
  },
  "orig_nbformat": 4
 },
 "nbformat": 4,
 "nbformat_minor": 2
}
