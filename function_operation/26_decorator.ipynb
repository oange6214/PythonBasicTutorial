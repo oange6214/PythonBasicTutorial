{
 "cells": [
  {
   "attachments": {},
   "cell_type": "markdown",
   "metadata": {},
   "source": [
    "# 裝飾器 decorator\n",
    "\n",
    "Python 的 裝飾器 ( decorator ) 是一個可以讓程式碼達到精簡又漂亮的寫法，用起來不但輕鬆簡單，又可以提升程式碼的可讀性"
   ]
  },
  {
   "attachments": {},
   "cell_type": "markdown",
   "metadata": {},
   "source": [
    "## 什麼是裝飾器 decorator？ \n",
    "\n",
    "裝飾器 decorator 是 Python 的一種程式設計模式，裝飾器本質上是一個 Python 函式或類 ( class )，它可以讓其他函式或類，在不需要做任何代碼修改的前提下增加額外功能，裝飾器的返回值也是一個函式或類對象， 有了裝飾器，就可以抽離與函式功能本身無關的程式碼，放到裝飾器中並繼續重複使用。\n",
    "\n",
    "在 Python 中，使用「@」當做裝飾器使用的語法糖符號 ( 語法糖指的是將複雜的程式碼包裝起來的糖衣，也就是簡化寫法 )。"
   ]
  },
  {
   "attachments": {},
   "cell_type": "markdown",
   "metadata": {},
   "source": [
    "## 製作第一個裝飾器 \n",
    "\n",
    "下方的程式碼，定義了一個裝飾器函式 a 和一個被裝飾的函式 b，當 b 函式執行後，會看見 a 運算後的結果，套用在 b 函式上。\n",
    "\n",
    "簡單來說，當某個函式加上裝飾器後，執行該函式之前會先執行「裝飾」的內容，就如同要從家裡出門，必須先裝飾身體 ( 化妝、衣服、褲子、鞋子...等 )，完成後就執行出門的動作。"
   ]
  },
  {
   "cell_type": "code",
   "execution_count": 1,
   "metadata": {},
   "outputs": [
    {
     "name": "stdout",
     "output_type": "stream",
     "text": [
      "makeup...\n",
      "go!!!!\n"
     ]
    }
   ],
   "source": [
    "def a(func):\n",
    "    print('makeup...')\n",
    "    return func\n",
    "\n",
    "def b():\n",
    "    print('go!!!!')\n",
    "\n",
    "b = a(b)\n",
    "b()\n",
    "\n",
    "# makeup...\n",
    "# go!!!!"
   ]
  },
  {
   "attachments": {},
   "cell_type": "markdown",
   "metadata": {},
   "source": [
    "在 Python 裡，函式 function 可以當成參數傳遞並執行，所以上面的程式碼將 **b 傳入 a 作為參數，所以執行 b 時效果等同於執行 a 裡的 func。**\n",
    "\n",
    "接著使用語法糖「@」包裝，就能達到簡化的效果。"
   ]
  },
  {
   "cell_type": "code",
   "execution_count": 2,
   "metadata": {},
   "outputs": [
    {
     "name": "stdout",
     "output_type": "stream",
     "text": [
      "makeup...\n",
      "go!!!!\n"
     ]
    }
   ],
   "source": [
    "def a(func):\n",
    "    print('makeup...')\n",
    "    return func\n",
    "\n",
    "# 裝飾器寫在 b 的前面，表示裝飾 b\n",
    "@a\n",
    "def b():\n",
    "    print('go!!!!')\n",
    "\n",
    "b()\n",
    "# makeup...\n",
    "# go!!!!"
   ]
  },
  {
   "attachments": {},
   "cell_type": "markdown",
   "metadata": {},
   "source": [
    "## 多個裝飾器 \n",
    "\n",
    "如果有多個裝飾器，執行的順序將會「由下而上」觸發 ( 函式一層層往上 )，下方的程式碼，會先裝飾 a3，接著裝飾 a2，最後裝飾 a1。"
   ]
  },
  {
   "cell_type": "code",
   "execution_count": 3,
   "metadata": {},
   "outputs": [
    {
     "name": "stdout",
     "output_type": "stream",
     "text": [
      "3\n",
      "2\n",
      "1\n",
      "go!!!!\n"
     ]
    }
   ],
   "source": [
    "def a1(func):\n",
    "    print('1')\n",
    "    return func\n",
    "\n",
    "def a2(func):\n",
    "    print('2')\n",
    "    return func\n",
    "\n",
    "def a3(func):\n",
    "    print('3')\n",
    "    return func\n",
    "\n",
    "@a1\n",
    "@a2\n",
    "@a3\n",
    "def b():\n",
    "    print('go!!!!')\n",
    "\n",
    "b()\n",
    "# 3\n",
    "# 2\n",
    "# 1\n",
    "# go!!!!"
   ]
  },
  {
   "attachments": {},
   "cell_type": "markdown",
   "metadata": {},
   "source": [
    "## 單一參數處理 \n",
    "\n",
    "如果裝飾器遇到帶有參數的函式，同樣能將參數一併帶入處理，實作的方式如下方程式碼，在裝飾器函式 a 裡，新增一個函式內的函式 c，並透過函式 c 來獲取被裝飾函式 b 的參數 msg。"
   ]
  },
  {
   "cell_type": "code",
   "execution_count": 5,
   "metadata": {},
   "outputs": [
    {
     "name": "stdout",
     "output_type": "stream",
     "text": [
      "makeup...\n",
      "go!!!!\n"
     ]
    }
   ],
   "source": [
    "def a(func):\n",
    "    def c(m):             # 新增一個內部函式，待有一個參數\n",
    "        print('makeup...')\n",
    "        return func(m)      # 回傳 func(m)\n",
    "    return c\n",
    "\n",
    "@a\n",
    "def b(msg):\n",
    "    print(msg)\n",
    "\n",
    "b('go!!!!')\n",
    "# makeup...\n",
    "# go!!!!\n"
   ]
  },
  {
   "cell_type": "code",
   "execution_count": null,
   "metadata": {},
   "outputs": [],
   "source": []
  }
 ],
 "metadata": {
  "kernelspec": {
   "display_name": "Python 3",
   "language": "python",
   "name": "python3"
  },
  "language_info": {
   "codemirror_mode": {
    "name": "ipython",
    "version": 3
   },
   "file_extension": ".py",
   "mimetype": "text/x-python",
   "name": "python",
   "nbconvert_exporter": "python",
   "pygments_lexer": "ipython3",
   "version": "3.11.2"
  },
  "orig_nbformat": 4
 },
 "nbformat": 4,
 "nbformat_minor": 2
}
