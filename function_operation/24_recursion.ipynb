{
 "cells": [
  {
   "attachments": {},
   "cell_type": "markdown",
   "metadata": {},
   "source": [
    "# 遞迴 recursion\n",
    "\n",
    "在寫程式時，有時會遇到無法單純使用迴圈解決的問題，這時候就會需要使用函式的「遞迴」功能，透過遞迴的方式，就能處理每次重複需要改變的參數或輸出結果。"
   ]
  },
  {
   "attachments": {},
   "cell_type": "markdown",
   "metadata": {},
   "source": [
    "## 什麼是遞迴？\n",
    "\n",
    "當「一個函式會在執行當中，不斷地自己呼叫自己」，這個函式便具有「遞迴」的特性，遞迴的本質很像迴圈，但卻可以處理許多迴圈不容易處理的參數或回傳值，要撰寫一個有遞迴特性的函式，需要滿足下列兩個特徵：\n",
    "\n",
    "- 函式會自己呼叫自己。\n",
    "- 具備函式停止條件 ( 避免無窮盡的呼叫自己 )。\n",
    "\n",
    "下方的程式碼表現了一個最基本的遞迴函式："
   ]
  },
  {
   "cell_type": "code",
   "execution_count": 1,
   "metadata": {},
   "outputs": [
    {
     "name": "stdout",
     "output_type": "stream",
     "text": [
      "6\n"
     ]
    }
   ],
   "source": [
    "def a(n):                    # 建立函式 a，帶有參數 n\n",
    "    if n == 0 or n == 1:     # 如果 n 等於 0 或 1\n",
    "        return 1             # 回傳結果 1\n",
    "    else:\n",
    "        return n + a(n-1)    # 使用遞迴\n",
    "\n",
    "print(a(3))                  # 執行結果為 6 ( 3+2+1 )"
   ]
  },
  {
   "attachments": {},
   "cell_type": "markdown",
   "metadata": {},
   "source": [
    "## 使用遞迴函式的注意事項 \n",
    "\n",
    "遞迴雖然很方便，但在使用上仍有下列幾點需要注意：\n",
    "\n",
    "- 遞迴雖然有時可以減少複雜度，但相對會使用更多的記憶體。\n",
    "- Python 將遞迴呼叫次數限制設定為 3000 次，超過就會發生錯誤，被強制停止。"
   ]
  },
  {
   "attachments": {},
   "cell_type": "markdown",
   "metadata": {},
   "source": [
    "## 使用遞迴 vs 使用迭代操作 \n",
    "\n",
    "|                           | 遞迴            | 迭代操作 ( 迴圈 )            |\n",
    "|---------------------------|----------------|-----------------------------|\n",
    "| 程式碼長度                | 精簡            | 冗長                         |\n",
    "| 可能需要的區域變數        | 少              | 多                           |\n",
    "| 是否需要額外的 Stack 支持 | 需要            | 不需要                       |\n",
    "| 佔用的儲存空間            | 少              | 多                           |\n",
    "| 程式執行時間              | 長 ( 較無效率 ) | 短 ( 不用額外處理 push/pop ) |"
   ]
  },
  {
   "attachments": {},
   "cell_type": "markdown",
   "metadata": {},
   "source": [
    "## n 階層 \n",
    "\n",
    "數字 n 階層 (n!) 的定義為：(n) x (n-1) x (n-2)....x2 x1，可以使用下方遞迴方式處理："
   ]
  },
  {
   "cell_type": "code",
   "execution_count": 2,
   "metadata": {},
   "outputs": [
    {
     "name": "stdout",
     "output_type": "stream",
     "text": [
      "24\n"
     ]
    }
   ],
   "source": [
    "def a(n):                    # 建立函式 a，帶有參數 n\n",
    "    if n == 0 or n == 1:     # 如果 n 等於 0 或 1\n",
    "        return 1             # 回傳結果 1\n",
    "    else:\n",
    "        return n * a(n-1)    # 使用遞迴\n",
    "print(a(4))                  # 執行結果為 24 ( 4x3x2x1 )"
   ]
  },
  {
   "attachments": {},
   "cell_type": "markdown",
   "metadata": {},
   "source": [
    "## 費波那契數列 \n",
    "\n",
    "下方的程式碼，使用遞迴的方式來建立費波那契數列。"
   ]
  },
  {
   "cell_type": "code",
   "execution_count": 3,
   "metadata": {},
   "outputs": [
    {
     "name": "stdout",
     "output_type": "stream",
     "text": [
      "0,1,1,2,3,5,8,13,21,34,55,89,144,233,377,610,987,1597,2584,4181,"
     ]
    }
   ],
   "source": [
    "def fib(n):                         # 建立函式 fib，帶有參數 n\n",
    "    if n > 1:                       # 如果 n 大於 1\n",
    "        return fib(n-1) + fib(n-2)  # 使用遞迴\n",
    "    return n\n",
    "for i in range(20):                 # 產生 20 個數字\n",
    "    print(fib(i), end = ',')        # 0,1,1,2,3,5,8,13,21,34,55,89,144,233,377,610,987,1597,2584,4181"
   ]
  },
  {
   "attachments": {},
   "cell_type": "markdown",
   "metadata": {},
   "source": [
    "## 最大公因數 \n",
    "\n",
    "下方的程式碼，使用遞迴的方式，搭配「輾轉相除法」來找出兩個數字的最大公因數。"
   ]
  },
  {
   "cell_type": "code",
   "execution_count": 5,
   "metadata": {},
   "outputs": [
    {
     "name": "stdout",
     "output_type": "stream",
     "text": [
      "24\n"
     ]
    }
   ],
   "source": [
    "def f(a, b):             # 建立函式 f，帶有參數 a 和 b\n",
    "    if a%b == 0:         # 如果相除餘數為 0，回傳結果\n",
    "        return b\n",
    "    else:                # 如果相除不為 0，表示還沒找到最大公因數\n",
    "        return f(b, a%b) # 使用遞迴，參數 a 使用 b，b 使用 a 除以 b 的餘數\n",
    "    \n",
    "print(f(456, 48))        # 得到結果 24"
   ]
  },
  {
   "cell_type": "code",
   "execution_count": null,
   "metadata": {},
   "outputs": [],
   "source": []
  }
 ],
 "metadata": {
  "kernelspec": {
   "display_name": "Python 3",
   "language": "python",
   "name": "python3"
  },
  "language_info": {
   "codemirror_mode": {
    "name": "ipython",
    "version": 3
   },
   "file_extension": ".py",
   "mimetype": "text/x-python",
   "name": "python",
   "nbconvert_exporter": "python",
   "pygments_lexer": "ipython3",
   "version": "3.11.2"
  },
  "orig_nbformat": 4
 },
 "nbformat": 4,
 "nbformat_minor": 2
}
