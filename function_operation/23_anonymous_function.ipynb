{
 "cells": [
  {
   "attachments": {},
   "cell_type": "markdown",
   "metadata": {},
   "source": [
    "# 匿名函式 lambda\n",
    "\n",
    "lambda 函式是「只有一行」的函式，可以用來處理一些小型函式，就可以不用為了一小段程式碼，額外新增一個有名稱的函式。"
   ]
  },
  {
   "attachments": {},
   "cell_type": "markdown",
   "metadata": {},
   "source": [
    "## 匿名函式的特性 \n",
    "\n",
    "lambda 匿名函式具有下列幾種特性：\n",
    "\n",
    "- 匿名函式不需要定義名稱，一般函式需定義名稱。\n",
    "- 匿名函式只能有一行運算式，一般函式可以有多行運算式。\n",
    "- 匿名函式執行完成後自動回傳結果，一般函式加上 return 關鍵字才能回傳結果。"
   ]
  },
  {
   "attachments": {},
   "cell_type": "markdown",
   "metadata": {},
   "source": [
    "## 使用匿名函式 lambda \n",
    "\n",
    "lambda 函式的使用方法為「lambda 名稱: 內容」，下方的程式裡，lambda 函式執行的結果等同於 hello 函式。"
   ]
  },
  {
   "cell_type": "code",
   "execution_count": 1,
   "metadata": {},
   "outputs": [
    {
     "name": "stdout",
     "output_type": "stream",
     "text": [
      "oxxo\n",
      "oxxo\n"
     ]
    }
   ],
   "source": [
    "def hello(title):\n",
    "    print(title)\n",
    "\n",
    "hello('oxxo')      # oxxo\n",
    "(lambda title: print(title))('oxxo')   # oxxo"
   ]
  },
  {
   "attachments": {},
   "cell_type": "markdown",
   "metadata": {},
   "source": [
    "## 使用多個參數 \n",
    "\n",
    "lambda 函式可以支援參數，使用時「不需要用小括號」包住參數，如果有多個參數時，使用「逗號」分隔每個參數，此外，如果函式裡會有回傳值，在 lambda 函式裡不需要撰寫 return 語法，計算完畢就會將值回傳。\n",
    "\n",
    "下方的程式裡，lambda 函式執行的結果等同於 hello 函式，會計算出 x+y 的數值。"
   ]
  },
  {
   "cell_type": "code",
   "execution_count": 2,
   "metadata": {},
   "outputs": [
    {
     "name": "stdout",
     "output_type": "stream",
     "text": [
      "3\n",
      "3\n"
     ]
    }
   ],
   "source": [
    "def hello(x, y):\n",
    "    return x+y\n",
    "\n",
    "a = hello(1,2)\n",
    "b = (lambda x, y: x + y)(1, 2)\n",
    "print(a)    # 3\n",
    "print(b)    # 3"
   ]
  },
  {
   "attachments": {},
   "cell_type": "markdown",
   "metadata": {},
   "source": [
    "**lambda 函式可以給予一個變數作為名稱 ( function name )**，使用時就像是呼叫函式的用法，但仍然要注意 lambda 函式只能撰寫「一行程式」，所以只適用於比較小型的程式。\n",
    "\n",
    "下方的程式裡，lambda 函式 b 執行的結果等同於 a 函式，會計算出 x+y 的數值。"
   ]
  },
  {
   "cell_type": "code",
   "execution_count": 4,
   "metadata": {},
   "outputs": [
    {
     "name": "stdout",
     "output_type": "stream",
     "text": [
      "3\n",
      "3\n"
     ]
    }
   ],
   "source": [
    "def a(x, y):\n",
    "    return x+y\n",
    "\n",
    "b = lambda x, y: x + y\n",
    "\n",
    "print(a(1, 2))   # 3\n",
    "print(b(1, 2))   # 3/"
   ]
  },
  {
   "attachments": {},
   "cell_type": "markdown",
   "metadata": {},
   "source": [
    "## 搭配 for 迴圈 \n",
    "\n",
    "下方的程式將 lambda 函式 y 與 for 迴圈搭配 ( 參考 for 迴圈 )，效果等同於 x 函式。"
   ]
  },
  {
   "cell_type": "code",
   "execution_count": 6,
   "metadata": {},
   "outputs": [
    {
     "name": "stdout",
     "output_type": "stream",
     "text": [
      "[0, 1, 2, 3, 4]\n",
      "[0, 1, 2, 3, 4]\n"
     ]
    }
   ],
   "source": [
    "def x(n):\n",
    "    a = list(range(n))\n",
    "    return a\n",
    "\n",
    "y = lambda n: [i for i in range(n)]   # 計算後回傳串列結果\n",
    "\n",
    "print(x(5))    # [0, 1, 2, 3, 4]\n",
    "print(y(5))    # [0, 1, 2, 3, 4]"
   ]
  },
  {
   "attachments": {},
   "cell_type": "markdown",
   "metadata": {},
   "source": [
    "## 搭配 if 判斷式 \n",
    "\n",
    "下方的程式將 lambda 函式 y 與 if 判斷式搭配 ( 參考 邏輯判斷 ( if、elif、else ) )，效果等同於 x 函式。"
   ]
  },
  {
   "cell_type": "code",
   "execution_count": 7,
   "metadata": {},
   "outputs": [
    {
     "name": "stdout",
     "output_type": "stream",
     "text": [
      "True\n",
      "True\n"
     ]
    }
   ],
   "source": [
    "def y(n):\n",
    "    if n<10:\n",
    "        return True\n",
    "    else:\n",
    "        return False\n",
    "    \n",
    "x = lambda n: True if n<10 else False   # 判斷是否小於 10，回傳 True 或 False\n",
    "\n",
    "print(x(5))   # True\n",
    "print(y(5))   # True"
   ]
  },
  {
   "attachments": {},
   "cell_type": "markdown",
   "metadata": {},
   "source": [
    "## 搭配 map 方法 \n",
    "\n",
    "下方的程式將 lambda 函式 map 方法搭配，產生一個新的 b 串列，b 串列的項目是 a 串列項目的平方。( 參考：filter )"
   ]
  },
  {
   "cell_type": "code",
   "execution_count": 8,
   "metadata": {},
   "outputs": [
    {
     "name": "stdout",
     "output_type": "stream",
     "text": [
      "[1, 4, 9, 16, 25, 36, 49, 64, 81]\n"
     ]
    }
   ],
   "source": [
    "a = [1, 2, 3, 4, 5, 6, 7, 8, 9]\n",
    "\n",
    "b = map(lambda x: x*x, a)\n",
    "\n",
    "print(list(b))    # [1, 4, 9, 16, 25, 36, 49, 64, 81]"
   ]
  },
  {
   "attachments": {},
   "cell_type": "markdown",
   "metadata": {},
   "source": [
    "## 搭配 filter 方法 \n",
    "\n",
    "下方的程式將 lambda 函式 filter 方法搭配，filter 方法會將 True 的項目留下，所以新串列的項目都會是大於 5 的數字。( 參考：filter )"
   ]
  },
  {
   "cell_type": "code",
   "execution_count": 10,
   "metadata": {},
   "outputs": [
    {
     "name": "stdout",
     "output_type": "stream",
     "text": [
      "[6, 7, 8, 9]\n"
     ]
    }
   ],
   "source": [
    "a = [1, 2, 3, 4, 5, 6, 7, 8, 9]\n",
    "\n",
    "b = filter(lambda x: x>5, a)\n",
    "\n",
    "print(list(b))    # [6, 7, 8, 9]"
   ]
  },
  {
   "attachments": {},
   "cell_type": "markdown",
   "metadata": {},
   "source": [
    "## 搭配 sorted 方法 \n",
    "\n",
    "下方的程式將 lambda 函式 sorted 方法搭配，當 sorted 方法設定 key 參數時，會根據 key 進行排序，所以會根據陣列中第二個項目的大小進行排序。( 參考：sorted )"
   ]
  },
  {
   "cell_type": "code",
   "execution_count": 17,
   "metadata": {},
   "outputs": [
    {
     "name": "stdout",
     "output_type": "stream",
     "text": [
      "[[5, 1], [1, 2], [9, 2], [4, 3], [3, 7]]\n"
     ]
    }
   ],
   "source": [
    "a = [[1, 2], [4, 3], [5, 1], [9, 2], [3, 7]]\n",
    "\n",
    "b = sorted(a, key = lambda x: x[1])\n",
    "\n",
    "print(list(b))    # [[5, 1], [1, 2], [9, 2], [4, 3], [3, 7]]"
   ]
  }
 ],
 "metadata": {
  "kernelspec": {
   "display_name": "Python 3",
   "language": "python",
   "name": "python3"
  },
  "language_info": {
   "codemirror_mode": {
    "name": "ipython",
    "version": 3
   },
   "file_extension": ".py",
   "mimetype": "text/x-python",
   "name": "python",
   "nbconvert_exporter": "python",
   "pygments_lexer": "ipython3",
   "version": "3.11.2"
  },
  "orig_nbformat": 4
 },
 "nbformat": 4,
 "nbformat_minor": 2
}
