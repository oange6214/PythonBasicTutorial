{
 "cells": [
  {
   "attachments": {},
   "cell_type": "markdown",
   "metadata": {},
   "source": [
    "# 建立一維陣列\n",
    "\n",
    "- 根據串列建立\n",
    "\n",
    "np.array([3, 5, 4])\n",
    "\n",
    "- 建立資料未指定的一維陣列\n",
    "\n",
    "np.empty(3)\n",
    "\n",
    "- \n"
   ]
  },
  {
   "cell_type": "code",
   "execution_count": null,
   "metadata": {},
   "outputs": [],
   "source": []
  }
 ],
 "metadata": {
  "language_info": {
   "name": "python"
  },
  "orig_nbformat": 4
 },
 "nbformat": 4,
 "nbformat_minor": 2
}
