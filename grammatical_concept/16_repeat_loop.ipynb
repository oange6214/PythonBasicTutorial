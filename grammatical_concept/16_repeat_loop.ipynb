{
 "cells": [
  {
   "attachments": {},
   "cell_type": "markdown",
   "metadata": {},
   "source": [
    "# 重複迴圈 ( for、while )\n",
    "\n",
    "在程式執行的過程中，有時候會重複執行一些相同的運算，這時可以使用「迴圈」來處理這些重複且相同的程式碼，大幅增加程式的可閱讀性以及撰寫程式的效率。"
   ]
  },
  {
   "attachments": {},
   "cell_type": "markdown",
   "metadata": {},
   "source": [
    "## for 迴圈\n",
    "\n",
    "「for 迴圈」的使用的方法為「for 變數 in 可迭代的物件:」，執行之後，for 迴圈會依序將可以迭代的物件取出，賦值給指定的變數 ( 可迭代的物件像是字串、串列、字典、集合...等 )。"
   ]
  },
  {
   "cell_type": "code",
   "execution_count": 2,
   "metadata": {},
   "outputs": [
    {
     "name": "stdout",
     "output_type": "stream",
     "text": [
      "a\n",
      "b\n",
      "c\n",
      "a\n",
      "b\n",
      "c\n",
      "a\n",
      "c\n",
      "b\n",
      "a\n",
      "b\n",
      "c\n"
     ]
    }
   ],
   "source": [
    "for i in 'abc':\n",
    "    print(i)    # a  b  c ( 字串 )\n",
    "\n",
    "for i in ['a','b','c']:\n",
    "    print(i)    # a  b  c ( 串列 )\n",
    "\n",
    "for i in {'a','b','c'}:\n",
    "    print(i)    # c  b  a ( 集合 )\n",
    "\n",
    "for i in {'a':1,'b':2,'c':3}:\n",
    "    print(i)    # a  b  c ( 字典 )"
   ]
  },
  {
   "attachments": {},
   "cell_type": "markdown",
   "metadata": {},
   "source": [
    "如果將 for 迴圈放在 for 迴圈裡，就會形成「巢狀迴圈」，巢狀迴圈會先從「最內層」的迴圈開始執行，執行完畢後再執行外層的迴圈，下方的程式碼，會先印出 b 的 1、2、3，印完後印出第一個 a 的 x，接著再次印出 b，依此類推。"
   ]
  },
  {
   "cell_type": "code",
   "execution_count": 4,
   "metadata": {},
   "outputs": [
    {
     "ename": "IndentationError",
     "evalue": "unindent does not match any outer indentation level (<tokenize>, line 4)",
     "output_type": "error",
     "traceback": [
      "\u001b[1;36m  File \u001b[1;32m<tokenize>:4\u001b[1;36m\u001b[0m\n\u001b[1;33m    print(a)\u001b[0m\n\u001b[1;37m    ^\u001b[0m\n\u001b[1;31mIndentationError\u001b[0m\u001b[1;31m:\u001b[0m unindent does not match any outer indentation level\n"
     ]
    }
   ],
   "source": [
    "for a in ['x','y','z']:\n",
    "    for b in [1,2,3]:\n",
    "        print(b)\n",
    "  print(a)\n",
    "\n",
    "# 1 2 3 x 1 2 3 y 1 2 3 z"
   ]
  },
  {
   "attachments": {},
   "cell_type": "markdown",
   "metadata": {},
   "source": [
    "如果搭配文字的格式化，就能利用巢狀迴圈做出有趣的效果，下方的程式碼，會將 x、y、z 結合 1、2、3。"
   ]
  },
  {
   "cell_type": "code",
   "execution_count": null,
   "metadata": {},
   "outputs": [],
   "source": [
    "for a in ['x','y','z']:\n",
    "    for b in [1,2,3]:\n",
    "        print(f'{a}{b}')\n",
    "\n",
    "# x1 x2 x3 y1 y2 y3 z1 z2 z3"
   ]
  },
  {
   "attachments": {},
   "cell_type": "markdown",
   "metadata": {},
   "source": [
    "## while 迴圈 \n",
    "\n",
    "「while 迴圈」是「根據條件判斷，決定是否重複或停止」的迴圈，用法為「while 條件:」，如果條件判斷為 True，就會不斷執行迴圈內容，如果判斷為 False，就會停止迴圈，下方的程式執行後，會不斷將 a 增加 1，直到 a 等於 6 為止。"
   ]
  },
  {
   "attachments": {},
   "cell_type": "markdown",
   "metadata": {},
   "source": [
    "a = 1\n",
    "while a <= 5:\n",
    "    print(a)\n",
    "    a += 1\n",
    "\n",
    "# 1 2 3 4 5"
   ]
  },
  {
   "attachments": {},
   "cell_type": "markdown",
   "metadata": {},
   "source": [
    "## break 和 continue \n",
    "\n",
    "在操作迴圈的過程中，可以使用「break 中斷」和「continue 跳出」兩個方法來「停止迴圈」，通常 break 和 continue 會搭配邏輯判斷一同使用。\n",
    "\n",
    "break 和 continue 的差別在於 break 會將整個迴圈停止，而 continue 是將迴圈目前執行的程式停止，然後再次執行迴圈，下圖為兩者的執行差異。"
   ]
  },
  {
   "attachments": {},
   "cell_type": "markdown",
   "metadata": {},
   "source": [
    "下方的程式可以看出，因為內層迴圈使用了 break，碰到 b 為 1 的時候就會停止，就看不見 2 和 3。"
   ]
  },
  {
   "attachments": {},
   "cell_type": "markdown",
   "metadata": {},
   "source": [
    "for a in ['x','y','z']:\n",
    "    for b in [1,2,3]:\n",
    "        if(b==2):\n",
    "            break\n",
    "        print(f'{a}{b}')\n",
    "print('ok')\n",
    "\n",
    "# x1 y1 z1 ok"
   ]
  },
  {
   "attachments": {},
   "cell_type": "markdown",
   "metadata": {},
   "source": [
    "如果使用 continue，則會略過 b 為 2 的部分，直接跳到 b 為 3 的部分。"
   ]
  },
  {
   "cell_type": "code",
   "execution_count": null,
   "metadata": {},
   "outputs": [],
   "source": [
    "for a in ['x','y','z']:\n",
    "    for b in [1,2,3]:\n",
    "        if(b==2):\n",
    "            continue\n",
    "        print(f'{a}{b}')\n",
    "print('ok')\n",
    "\n",
    "# x1 x3 y1 y3 z1 z3 ok"
   ]
  }
 ],
 "metadata": {
  "kernelspec": {
   "display_name": "Python 3",
   "language": "python",
   "name": "python3"
  },
  "language_info": {
   "codemirror_mode": {
    "name": "ipython",
    "version": 3
   },
   "file_extension": ".py",
   "mimetype": "text/x-python",
   "name": "python",
   "nbconvert_exporter": "python",
   "pygments_lexer": "ipython3",
   "version": "3.11.2"
  },
  "orig_nbformat": 4
 },
 "nbformat": 4,
 "nbformat_minor": 2
}
