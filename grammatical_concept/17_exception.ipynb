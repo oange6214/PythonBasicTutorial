{
 "cells": [
  {
   "attachments": {},
   "cell_type": "markdown",
   "metadata": {},
   "source": [
    "# 例外處理 ( try、except )\n",
    "\n",
    "執行 Python 程式的時候，往往會遇到「錯誤」的狀況，如果沒有好好處理錯誤狀況，就會造成整個程式壞掉而停止不動，因此，透過「例外處理」的機制，能夠在發生錯誤時進行對應的動作，不僅能保護整個程式的流程，也能夠掌握問題出現的位置，馬上進行修正。"
   ]
  },
  {
   "attachments": {},
   "cell_type": "markdown",
   "metadata": {},
   "source": [
    "## 使用 try 和 except \n",
    "\n",
    "下方的例子執行後，會發生「TypeError」的錯誤 ( 因為輸入的是文字，文字無法和數字相加 )，也因為發生錯誤，進而造成程式停止，後方程式無法正常執行。"
   ]
  },
  {
   "cell_type": "code",
   "execution_count": 14,
   "metadata": {},
   "outputs": [
    {
     "ename": "TypeError",
     "evalue": "can only concatenate str (not \"int\") to str",
     "output_type": "error",
     "traceback": [
      "\u001b[1;31m---------------------------------------------------------------------------\u001b[0m",
      "\u001b[1;31mTypeError\u001b[0m                                 Traceback (most recent call last)",
      "Cell \u001b[1;32mIn[14], line 2\u001b[0m\n\u001b[0;32m      1\u001b[0m a \u001b[39m=\u001b[39m \u001b[39minput\u001b[39m(\u001b[39m'\u001b[39m\u001b[39m輸入數字：\u001b[39m\u001b[39m'\u001b[39m)\n\u001b[1;32m----> 2\u001b[0m \u001b[39mprint\u001b[39m(a \u001b[39m+\u001b[39;49m \u001b[39m1\u001b[39;49m)       \u001b[39m# 發生錯誤\u001b[39;00m\n\u001b[0;32m      3\u001b[0m \u001b[39mprint\u001b[39m(\u001b[39m'\u001b[39m\u001b[39mhello\u001b[39m\u001b[39m'\u001b[39m)      \u001b[39m# 因為發生錯誤，造成程式停止，所以後方程式無法執行\u001b[39;00m\n",
      "\u001b[1;31mTypeError\u001b[0m: can only concatenate str (not \"int\") to str"
     ]
    }
   ],
   "source": [
    "a = input('輸入數字：')\n",
    "print(a + 1)       # 發生錯誤\n",
    "print('hello')      # 因為發生錯誤，造成程式停止，所以後方程式無法執行"
   ]
  },
  {
   "attachments": {},
   "cell_type": "markdown",
   "metadata": {},
   "source": [
    "如果要避免程式因錯誤而停止，可使用 try 和 except 進行保護 ( 或測試 )，當 try 區段內的程式發生錯誤時，就會執行 except 裡的內容，如果 try 的程式沒有錯誤，就不會執行 except 的內容，當程式修改成下面的樣子，就會順利印出後方的 hello。"
   ]
  },
  {
   "cell_type": "code",
   "execution_count": null,
   "metadata": {},
   "outputs": [],
   "source": [
    "try:                      # 使用 try，測試內容是否正確\n",
    "    a = input('輸入數字：')\n",
    "    print(a + 1)\n",
    "except:                   # 如果 try 的內容發生錯誤，就執行 except 裡的內容\n",
    "    print('發生錯誤')\n",
    "print('hello')"
   ]
  },
  {
   "attachments": {},
   "cell_type": "markdown",
   "metadata": {},
   "source": [
    "## 加入 pass 略過 \n",
    "\n",
    "在撰寫 try... except 有時候會遇到「不想做任何動作」的狀況 ( 連 print 都不想使用 )，這時可以使用 pass 語法來略過 ( 什麼事情都不做 )，以下方的程式而言，當發生錯誤時，進入 excpet 後就會直接忽略並跳過。"
   ]
  },
  {
   "attachments": {},
   "cell_type": "markdown",
   "metadata": {},
   "source": [
    "## except 的錯誤資訊 \n",
    "\n",
    "只要程式發生錯誤，控制台中都會出現對應的錯誤資訊，下方列出常見的幾種錯誤資訊：\n",
    "\n",
    "| 錯誤資訊          | 說明                             |\n",
    "|-------------------|--------------------------------|\n",
    "| NameError         | 使用沒有被定義的對象             |\n",
    "| IndexError        | 索引值超過了序列的大小           |\n",
    "| TypeError         | 數據類型 ( type ) 錯誤           |\n",
    "| SyntaxError       | Python 語法規則錯誤              |\n",
    "| ValueError        | 傳入值錯誤                       |\n",
    "| KeyboardInterrupt | 當程式被手動強制中止             |\n",
    "| AssertionError    | 程式 asset 後面的條件不成立      |\n",
    "| KeyError          | 鍵發生錯誤                       |\n",
    "| ZeroDivisionError | 除以 0                           |\n",
    "| AttributeError    | 使用不存在的屬性                 |\n",
    "| IndentationError  | Python 語法錯誤 ( 沒有對齊 )     |\n",
    "| IOError           | Input/output異常                 |\n",
    "| UnboundLocalError | 區域變數和全域變數發生重複或錯誤 |"
   ]
  },
  {
   "attachments": {},
   "cell_type": "markdown",
   "metadata": {},
   "source": [
    "下面的程式執行時，因為變數 a 還沒被定義，所以會進入 except NameError 的區段，印出「使用沒有被定義的對象」。"
   ]
  },
  {
   "cell_type": "code",
   "execution_count": null,
   "metadata": {},
   "outputs": [
    {
     "name": "stdout",
     "output_type": "stream",
     "text": [
      "123\n",
      "hello\n"
     ]
    }
   ],
   "source": [
    "try:\n",
    "    print(a)\n",
    "except TypeError:\n",
    "    print('型別發生錯誤')\n",
    "except NameError:\n",
    "    print('使用沒有被定義的對象')\n",
    "print('hello')"
   ]
  },
  {
   "attachments": {},
   "cell_type": "markdown",
   "metadata": {},
   "source": [
    "如果不知道錯誤的型別，只想印出錯誤資訊，除了單純用 except，也可以使用「except Exception」，將例外的資訊全部放在裡面。"
   ]
  },
  {
   "cell_type": "code",
   "execution_count": null,
   "metadata": {},
   "outputs": [
    {
     "name": "stdout",
     "output_type": "stream",
     "text": [
      "不知道怎麼了，反正發生錯誤惹\n",
      "hello\n"
     ]
    }
   ],
   "source": [
    "try:\n",
    "    print(1 / 0)\n",
    "except TypeError:\n",
    "    print('型別發生錯誤')\n",
    "except NameError:\n",
    "    print('使用沒有被定義的對象')\n",
    "except Exception:\n",
    "    print('不知道怎麼了，反正發生錯誤惹')\n",
    "print('hello')\n"
   ]
  },
  {
   "attachments": {},
   "cell_type": "markdown",
   "metadata": {},
   "source": [
    "如果單純使用 except Exception as e，也能將所有的錯誤資訊全部印出。"
   ]
  },
  {
   "cell_type": "code",
   "execution_count": null,
   "metadata": {},
   "outputs": [
    {
     "name": "stdout",
     "output_type": "stream",
     "text": [
      "unsupported operand type(s) for +: 'int' and 'str'\n"
     ]
    }
   ],
   "source": [
    "try:\n",
    "    a = 1\n",
    "    b = '1'\n",
    "    print(a+b)\n",
    "except Exception as e:\n",
    "    print(e)"
   ]
  },
  {
   "attachments": {},
   "cell_type": "markdown",
   "metadata": {},
   "source": [
    "## raise 和 assert \n",
    "\n",
    "在執行 try 的過程中，如果遇到需要「強制中斷」的情形，可使用 raise 強制中斷。"
   ]
  },
  {
   "cell_type": "code",
   "execution_count": null,
   "metadata": {},
   "outputs": [
    {
     "name": "stdout",
     "output_type": "stream",
     "text": [
      "5\n"
     ]
    }
   ],
   "source": [
    "try:\n",
    "    a = int(input('輸入 0～9：'))\n",
    "    if a > 9:       # 如果輸入的 a 大於 9\n",
    "        raise       # 強制中斷，拋出錯誤資訊席\n",
    "    print(a)\n",
    "except :\n",
    "    print('有錯誤喔～')   # 收到錯誤訊息，顯示錯誤"
   ]
  },
  {
   "attachments": {},
   "cell_type": "markdown",
   "metadata": {},
   "source": [
    "raise 後方可以加上錯誤資訊，錯誤資訊可以包含要呈現的訊息，以下方的例子而言，強制停止時回報 ValueError 資訊，接著使用 except 區隔錯誤資訊，就能呈現真實的錯誤狀況。"
   ]
  },
  {
   "cell_type": "code",
   "execution_count": null,
   "metadata": {},
   "outputs": [
    {
     "name": "stdout",
     "output_type": "stream",
     "text": [
      "8\n",
      "繼續執行\n"
     ]
    }
   ],
   "source": [
    "try:\n",
    "    a = int(input('輸入 0～9：'))\n",
    "    if a > 10:\n",
    "        raise ValueError('數字不在範圍內')\n",
    "    print(a)\n",
    "except ValueError as msg:    # 如果輸入範圍外的數字，執行這邊的程式\n",
    "    print(msg)\n",
    "except :                     # 如果輸入的不是數字，執行這邊的程式\n",
    "    print('有錯誤喔～')\n",
    "print('繼續執行')"
   ]
  },
  {
   "attachments": {},
   "cell_type": "markdown",
   "metadata": {},
   "source": [
    "使用 assert 中斷的方法為「assert False, '錯誤訊息'」，用法和 raise 類似，執行後就會中斷程式，並將錯誤資訊提供給 except 顯示，下方的程式如果輸入 123，會執行 AssertionError 裡的程市，如果輸入 abc 則會執行 except 裡的程式。"
   ]
  },
  {
   "cell_type": "code",
   "execution_count": null,
   "metadata": {},
   "outputs": [
    {
     "name": "stdout",
     "output_type": "stream",
     "text": [
      "數字不在範圍內\n",
      "繼續執行\n"
     ]
    }
   ],
   "source": [
    "try:\n",
    "    a = int(input('輸入 0～9：'))\n",
    "    if a > 10:\n",
    "        assert False, '數字不在範圍內'\n",
    "    print(a)\n",
    "except AssertionError as msg:\n",
    "    print(msg)\n",
    "except :\n",
    "    print('有錯誤喔～')\n",
    "print('繼續執行')"
   ]
  },
  {
   "attachments": {},
   "cell_type": "markdown",
   "metadata": {},
   "source": [
    "## 加入 else 和 finally\n",
    "\n",
    "在 except 結束後，可以加入 else 或 finally 兩個額外的判斷，else 表示完全沒有錯誤，就會執行該區塊的程式，finally 則不論程式對錯，都會執行該區塊的程式。"
   ]
  },
  {
   "cell_type": "code",
   "execution_count": null,
   "metadata": {},
   "outputs": [],
   "source": [
    "try:\n",
    "    a = int(input('輸入 0～9：'))\n",
    "    if a>10:\n",
    "        raise\n",
    "    print(a)\n",
    "except :\n",
    "    print('有錯誤喔～')\n",
    "else:\n",
    "    print('沒有錯！繼續執行！')       # 完全沒錯才會執行這行\n",
    "finally:\n",
    "    print('管他有沒有錯，繼續啦！')    # 不論有沒有錯都會執行這行 "
   ]
  }
 ],
 "metadata": {
  "kernelspec": {
   "display_name": "Python 3",
   "language": "python",
   "name": "python3"
  },
  "language_info": {
   "codemirror_mode": {
    "name": "ipython",
    "version": 3
   },
   "file_extension": ".py",
   "mimetype": "text/x-python",
   "name": "python",
   "nbconvert_exporter": "python",
   "pygments_lexer": "ipython3",
   "version": "3.11.2"
  },
  "orig_nbformat": 4
 },
 "nbformat": 4,
 "nbformat_minor": 2
}
