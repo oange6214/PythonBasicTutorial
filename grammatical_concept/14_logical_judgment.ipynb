{
 "cells": [
  {
   "attachments": {},
   "cell_type": "markdown",
   "metadata": {},
   "source": [
    "# 邏輯判斷 ( if、elif、else )\n",
    "\n",
    " if、else、elif 三種語法來處理大量的邏輯判斷運算和流程控制。\n"
   ]
  },
  {
   "attachments": {},
   "cell_type": "markdown",
   "metadata": {},
   "source": [
    "## if 判斷\n",
    "\n",
    "「if」判斷就如同字面的意思：「如果怎樣...就怎樣...」，使用方式為「if 條件:」，對應的程式需使用「縮排」，如果判斷為 True，就會執行對應的程式，反之如果是 False，就會跳過判斷式，繼續執行下方的程式。"
   ]
  },
  {
   "attachments": {},
   "cell_type": "markdown",
   "metadata": {},
   "source": [
    "下方的程式，因為 a>b 的結果為 False，所以只會印出 ok。"
   ]
  },
  {
   "cell_type": "code",
   "execution_count": 10,
   "metadata": {},
   "outputs": [
    {
     "name": "stdout",
     "output_type": "stream",
     "text": [
      "ok\n"
     ]
    }
   ],
   "source": [
    "a = 2\n",
    "b = 3\n",
    "if a>b:\n",
    "    print('hello')  # 不會印出，因為結果為 False\n",
    "print('ok')       # ok"
   ]
  },
  {
   "attachments": {},
   "cell_type": "markdown",
   "metadata": {},
   "source": [
    "## if、else\n",
    "\n",
    "if 可以和 else 搭配使用，if 對應結果為 True 的程式，else 對應結果為 False 的程式，當對應的程式都執行完成後，繼續執行下方程式。"
   ]
  },
  {
   "cell_type": "code",
   "execution_count": 11,
   "metadata": {},
   "outputs": [
    {
     "name": "stdout",
     "output_type": "stream",
     "text": [
      "world\n",
      "ok\n"
     ]
    }
   ],
   "source": [
    "a = 2\n",
    "b = 3\n",
    "\n",
    "if a>b:\n",
    "    print('hello')    # 不會印出，因為結果為 False\n",
    "else:\n",
    "    print('world')    # world\n",
    "print('ok')           # ok"
   ]
  },
  {
   "attachments": {},
   "cell_type": "markdown",
   "metadata": {},
   "source": [
    "## if、elif、else \n",
    "\n",
    "如果加入 elif 的條件判斷，搭配 if 和 else ，就能判斷多種不同的條件，elif 的使用方式為「elif 條件:」，if 和 elif 都能針對各自對應的 True 結果執行對應的程式，而 else 仍然是對應結果為 False 的程式，當對應的程式都執行完成後，繼續執行下方程式。\n",
    "\n",
    "- 一個邏輯判斷裡，只會有一個 if 和 else，但可以有多個 elif。\n",
    "- 不論是 if、elif 還是 else，最後只會有一種結果。"
   ]
  },
  {
   "attachments": {},
   "cell_type": "markdown",
   "metadata": {},
   "source": [
    "下方的程式，因為 elif 的結果為 True，所以會先印出 a<b，然後印出 ok。"
   ]
  },
  {
   "cell_type": "code",
   "execution_count": 12,
   "metadata": {},
   "outputs": [
    {
     "name": "stdout",
     "output_type": "stream",
     "text": [
      "a<b\n",
      "ok\n"
     ]
    }
   ],
   "source": [
    "a = 2\n",
    "b = 3\n",
    "if a>b:\n",
    "    print('a>b')    # 不會印出\n",
    "elif a<b:\n",
    "    print('a<b')    # a<b\n",
    "else:\n",
    "    print('a=b')    # 不會印出\n",
    "print('ok')         # ok"
   ]
  },
  {
   "attachments": {},
   "cell_type": "markdown",
   "metadata": {},
   "source": [
    "如果遇到「不想執行任何動作」的狀況，可以使用「pass」作為空式子，藉以保持語法的正確性。"
   ]
  },
  {
   "cell_type": "code",
   "execution_count": 13,
   "metadata": {},
   "outputs": [
    {
     "name": "stdout",
     "output_type": "stream",
     "text": [
      "a<b\n",
      "ok\n"
     ]
    }
   ],
   "source": [
    "a = 2\n",
    "b = 3\n",
    "if a>b:\n",
    "    pass            # 不做任何動作\n",
    "elif a<b:\n",
    "    print('a<b')    # a<b\n",
    "else:\n",
    "    print('a=b')    # 不會印出\n",
    "print('ok')         # ok"
   ]
  },
  {
   "attachments": {},
   "cell_type": "markdown",
   "metadata": {},
   "source": [
    "## 巢狀判斷 \n",
    "\n",
    "「巢狀判斷」表示「一個判斷式裡，還有另外 n 個判斷」，就像鳥巢一般層層判斷下去，下方的程式執行後，會先印出 a>b，接著進行第二層判斷印出 a=2，最後再印出 ok。"
   ]
  },
  {
   "cell_type": "code",
   "execution_count": 14,
   "metadata": {},
   "outputs": [
    {
     "name": "stdout",
     "output_type": "stream",
     "text": [
      "a<b\n",
      "a=2\n",
      "ok\n"
     ]
    }
   ],
   "source": [
    "a = 2\n",
    "b = 3\n",
    "if a<b:\n",
    "    print('a<b')      # a<b\n",
    "    if a==1:\n",
    "        print('a=1')  # 不會印出\n",
    "    elif a==2:\n",
    "        print('a=2')  # a=2\n",
    "    elif a==3:\n",
    "        print('a=3')  # 不會印出\n",
    "elif a>b:\n",
    "    print('a>b')      # 不會印出\n",
    "else:\n",
    "    print('a=b')      # 不會印出\n",
    "print('ok')           # ok"
   ]
  },
  {
   "attachments": {},
   "cell_type": "markdown",
   "metadata": {},
   "source": [
    "## 三元運算式 ( 條件運算式 )\n",
    "\n",
    "如果一個判斷式裡面只有 if 和 else，就能夠使用三元運算式來簡化，三元運算式的語法為：\n",
    "\n",
    "`變數 = 值1 if 條件式 else 值2`"
   ]
  },
  {
   "attachments": {},
   "cell_type": "markdown",
   "metadata": {},
   "source": [
    "舉例來說，下方的程式碼會判斷 a 和 b 的大小，判斷後會賦值給 c，最後印出 C。"
   ]
  },
  {
   "cell_type": "code",
   "execution_count": 15,
   "metadata": {},
   "outputs": [
    {
     "name": "stdout",
     "output_type": "stream",
     "text": [
      "b\n"
     ]
    }
   ],
   "source": [
    "a = 1\n",
    "b = 2\n",
    "c = ''\n",
    "if a>b:\n",
    "    c = 'a'\n",
    "else:\n",
    "    c = 'b'\n",
    "print(c)    # b"
   ]
  },
  {
   "attachments": {},
   "cell_type": "markdown",
   "metadata": {},
   "source": [
    "透過三元運算式化簡之後，就得到下面的結果："
   ]
  },
  {
   "cell_type": "code",
   "execution_count": 16,
   "metadata": {},
   "outputs": [
    {
     "name": "stdout",
     "output_type": "stream",
     "text": [
      "b\n"
     ]
    }
   ],
   "source": [
    "a = 1\n",
    "b = 2\n",
    "c = ''\n",
    "c = 'a' if a>b else 'b'\n",
    "print(c)     # b"
   ]
  }
 ],
 "metadata": {
  "kernelspec": {
   "display_name": "Python 3",
   "language": "python",
   "name": "python3"
  },
  "language_info": {
   "codemirror_mode": {
    "name": "ipython",
    "version": 3
   },
   "file_extension": ".py",
   "mimetype": "text/x-python",
   "name": "python",
   "nbconvert_exporter": "python",
   "pygments_lexer": "ipython3",
   "version": "3.11.2"
  },
  "orig_nbformat": 4
 },
 "nbformat": 4,
 "nbformat_minor": 2
}
