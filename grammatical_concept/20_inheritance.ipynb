{
 "cells": [
  {
   "attachments": {},
   "cell_type": "markdown",
   "metadata": {},
   "source": [
    "# 繼承 inheritance"
   ]
  },
  {
   "attachments": {},
   "cell_type": "markdown",
   "metadata": {},
   "source": [
    "## 什麼是繼承 inheritance？\n",
    "\n",
    "繼承表示可以用既有的類別去建立一個新的類別，並加入一些新的東西或修改新的類別，當使用繼承時，新的類別會自動使用舊的類別內所有的程式碼。"
   ]
  },
  {
   "attachments": {},
   "cell_type": "markdown",
   "metadata": {},
   "source": [
    "下方的程式碼，名為 son 的類別使用「class son(father)」的語法，繼承了 fatehr 的程式碼，當 oxxo 為 son 時，就能夠呼叫出 fatehr 的所有屬性。"
   ]
  },
  {
   "cell_type": "code",
   "execution_count": 5,
   "metadata": {},
   "outputs": [
    {
     "name": "stdout",
     "output_type": "stream",
     "text": [
      "2\n",
      "chinese\n"
     ]
    }
   ],
   "source": [
    "class father():         # fatehr 類別\n",
    "    def __init__(self):\n",
    "        self.eye = 2\n",
    "        self.ear = 2\n",
    "        self.nose = 1\n",
    "        self.mouth = 1\n",
    "\n",
    "class son(father):          # son 類別繼承了 fatehr 類別裡所有的方法\n",
    "    def language(self):     # son 類別具有 language 的方法\n",
    "        print('chinese')    # 從 father 繼承了五官，然後自己學會講中文\n",
    "\n",
    "oxxo = son()                # 設定 oxxo 為 son()\n",
    "print(oxxo.eye)             # 印出 2\n",
    "oxxo.language()             # 印出 chinese"
   ]
  },
  {
   "attachments": {},
   "cell_type": "markdown",
   "metadata": {},
   "source": [
    "## 繼承時會覆寫方法 \n",
    "\n",
    "在繼承時，如果子類類別裡某個方法的名稱和父類別相同，則會完全複寫父類別的方法，下面的程式碼，son 類別使用了 init 的方法，就覆寫了原本 fatehr 的 init 方法，導致讀取 oxxo.ear 時發生錯誤 ( 因為 son 的方法裡不存在 ear 的屬性 )"
   ]
  },
  {
   "cell_type": "code",
   "execution_count": 6,
   "metadata": {},
   "outputs": [
    {
     "name": "stdout",
     "output_type": "stream",
     "text": [
      "100\n"
     ]
    },
    {
     "ename": "AttributeError",
     "evalue": "'son' object has no attribute 'ear'",
     "output_type": "error",
     "traceback": [
      "\u001b[1;31m---------------------------------------------------------------------------\u001b[0m",
      "\u001b[1;31mAttributeError\u001b[0m                            Traceback (most recent call last)",
      "Cell \u001b[1;32mIn[6], line 14\u001b[0m\n\u001b[0;32m     12\u001b[0m oxxo \u001b[39m=\u001b[39m son()\n\u001b[0;32m     13\u001b[0m \u001b[39mprint\u001b[39m(oxxo\u001b[39m.\u001b[39meye)    \u001b[39m# 100\u001b[39;00m\n\u001b[1;32m---> 14\u001b[0m \u001b[39mprint\u001b[39m(oxxo\u001b[39m.\u001b[39;49mear)    \u001b[39m# 發生錯誤  'son' object has no attribute 'ear'\u001b[39;00m\n",
      "\u001b[1;31mAttributeError\u001b[0m: 'son' object has no attribute 'ear'"
     ]
    }
   ],
   "source": [
    "class father():\n",
    "    def __init__(self):\n",
    "        self.eye = 2\n",
    "        self.ear = 2\n",
    "        self.nose = 1\n",
    "        self.mouth = 1\n",
    "\n",
    "class son(father):\n",
    "    def __init__(self):   # 使用了 __init 的方法\n",
    "        self.eye = 100\n",
    "\n",
    "oxxo = son()\n",
    "print(oxxo.eye)    # 100\n",
    "print(oxxo.ear)    # 發生錯誤  'son' object has no attribute 'ear'"
   ]
  },
  {
   "attachments": {},
   "cell_type": "markdown",
   "metadata": {},
   "source": [
    "## 使用 super() \n",
    "\n",
    "如果不想要覆寫父類別的方法，又想要使用父類別的方法，就可以使用「super()」來實現，下方的程式碼，使用 super() 繼承了 father init 裡所有的屬性，然後再將 eye 的屬性覆寫為 100。"
   ]
  },
  {
   "cell_type": "code",
   "execution_count": null,
   "metadata": {},
   "outputs": [
    {
     "name": "stdout",
     "output_type": "stream",
     "text": [
      "100\n",
      "2\n"
     ]
    }
   ],
   "source": [
    "class father():\n",
    "    def __init__(self):\n",
    "        self.eye = 2\n",
    "        self.ear = 2\n",
    "        self.nose = 1\n",
    "        self.mouth = 1\n",
    "\n",
    "class son(father):\n",
    "    def __init__(self):\n",
    "        super().__init__()   # 使用 super() 繼承 father __init__ 裡所有屬性\n",
    "        self.eye = 100       # 如果屬性相同，則覆寫屬性\n",
    "\n",
    "oxxo = son()\n",
    "print(oxxo.eye)              # 100\n",
    "print(oxxo.ear)              # 2"
   ]
  },
  {
   "attachments": {},
   "cell_type": "markdown",
   "metadata": {},
   "source": [
    "## 多重繼承 \n",
    "\n",
    "繼承不僅能進行單一繼承，也可以進行多重繼承，例如可以從爸爸身上繼承基因，同時也可以從媽媽身上繼承基因一般，下方的例子，son 從 father 繼承了五官，從 mother 繼承了 language 和 skill。"
   ]
  },
  {
   "cell_type": "code",
   "execution_count": null,
   "metadata": {},
   "outputs": [
    {
     "name": "stdout",
     "output_type": "stream",
     "text": [
      "2\n",
      "painting\n",
      "ball\n"
     ]
    }
   ],
   "source": [
    "class father():          # father 類別\n",
    "    def __init__(self):  # father 的方法\n",
    "        self.eye = 2\n",
    "        self.ear = 2\n",
    "        self.nose = 1\n",
    "        self.mouth = 1\n",
    "\n",
    "class mother():          # mother 類別\n",
    "    def language(self):  # mother 的方法\n",
    "        print('english')\n",
    "    def skill(self):\n",
    "        print('painting')\n",
    "\n",
    "class son(father, mother):    # 繼承 father 和 mother\n",
    "    def play(self):           # son 自己的方法\n",
    "        print('ball')\n",
    "\n",
    "oxxo = son()\n",
    "print(oxxo.eye)        # 2\n",
    "oxxo.skill()           # painting\n",
    "oxxo.play()            # ball"
   ]
  },
  {
   "attachments": {},
   "cell_type": "markdown",
   "metadata": {},
   "source": [
    "進行多重繼承時，同樣會有「覆寫方法」的狀況出現，而覆寫方法的順序是從「讀取類別的順序」決定，舉例來說，下方的 c 和 d 兩個類別，雖然都多重繼承了 a 和 b，但因為讀取的順序不同，所以呈現的結果也會不同。"
   ]
  },
  {
   "cell_type": "code",
   "execution_count": null,
   "metadata": {},
   "outputs": [],
   "source": [
    "class a():\n",
    "    def says(self):\n",
    "        print('a')\n",
    "\n",
    "class b():\n",
    "    def says(self):\n",
    "        print('b')\n",
    "\n",
    "class c(a, b):    # 先讀取 a 再 b，就會將 a 裡的方法，覆寫 b 裡同名的方法\n",
    "    pass\n",
    "\n",
    "class d(b, a):    # 先讀取 b 再 a，就會將 b 裡的方法，覆寫 a 裡同名的方法\n",
    "    pass\n",
    "\n",
    "ccc = c()\n",
    "ddd = d()\n",
    "ccc.says()    # a\n",
    "ddd.says()    # b"
   ]
  },
  {
   "attachments": {},
   "cell_type": "markdown",
   "metadata": {},
   "source": [
    "## 多層繼承 \n",
    "\n",
    "繼承裡除了多重繼承，也有「多層繼承」的概念，就如同父親繼承了爺爺的東西，兒子繼承父親的東西，多層繼承同樣存在覆寫方法的原則，如果遇到同名的方法就會覆寫，除非使用 super() 的方法處理，下方的例子裡， father 繼承了 grandpa 的五官，son 又繼承了 father 的方法，最後 son 就擁有 father 和 grandpa 所有的方法。"
   ]
  },
  {
   "cell_type": "code",
   "execution_count": null,
   "metadata": {},
   "outputs": [],
   "source": [
    "class grandpa():\n",
    "    def __init__(self):\n",
    "        self.eye = 2\n",
    "        self.ear = 2\n",
    "        self.nose = 1\n",
    "        self.mouth = 1\n",
    "\n",
    "class father(grandpa):\n",
    "    def language(self):\n",
    "        print('english')\n",
    "    def skill(self):\n",
    "        print('painting')\n",
    "\n",
    "class son(father):\n",
    "    def play(self):\n",
    "        print('ball')\n",
    "\n",
    "oxxo = son()\n",
    "print(oxxo.eye)    # 2\n",
    "oxxo.skill()       # painting\n",
    "oxxo.play()        # ball"
   ]
  },
  {
   "attachments": {},
   "cell_type": "markdown",
   "metadata": {},
   "source": [
    "## 私有方法 ( 雙底線 ) \n",
    "\n",
    "在實作一個類別的過程裡，可能會遇到有些方法是該類別內部使用，不想讓繼承該類別的子類別可以用的，這時就需要建立「私有方法」，私有方法可以使用「雙底線 + 名稱」來建立，私有方法建立後，不論是從外部讀取或是子類別的繼承，都無法使用該方法，只有在該類別裡的其他方法才能調用。\n",
    "\n",
    "下方的程式碼 grandpa 有一個 __money 的方法，但是除非知道 getMoney 的方法，不然都無法直接讀取 ( 爺爺有一筆錢，除非你知道方法，不然無法繼承成功 )。"
   ]
  },
  {
   "cell_type": "code",
   "execution_count": null,
   "metadata": {},
   "outputs": [],
   "source": [
    "class grandpa():\n",
    "    def __init__(self):\n",
    "        self.mouth = 1\n",
    "    def __money(self):     # 建立一個私有方法 __money\n",
    "        print('$1000')\n",
    "    def getMoney(self):    # 建立一個 getMoney 的方法，執行私有方法 __money\n",
    "        self.__money()\n",
    "\n",
    "class father(grandpa):\n",
    "    def skill(self):\n",
    "        print('painting')\n",
    "\n",
    "class son(father):\n",
    "    def play(self):\n",
    "        print('ball')\n",
    "\n",
    "oxxo = son()\n",
    "oxxo.getMoney()         # $1000\n",
    "oxxo.__money()          # 發生錯誤  'son' object has no attribute '_money'"
   ]
  }
 ],
 "metadata": {
  "kernelspec": {
   "display_name": "Python 3",
   "language": "python",
   "name": "python3"
  },
  "language_info": {
   "codemirror_mode": {
    "name": "ipython",
    "version": 3
   },
   "file_extension": ".py",
   "mimetype": "text/x-python",
   "name": "python",
   "nbconvert_exporter": "python",
   "pygments_lexer": "ipython3",
   "version": "3.11.2"
  },
  "orig_nbformat": 4
 },
 "nbformat": 4,
 "nbformat_minor": 2
}
